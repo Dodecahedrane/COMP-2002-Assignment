{
 "cells": [
  {
   "cell_type": "markdown",
   "id": "4775edfb",
   "metadata": {},
   "source": [
    "# COMP 2002 Intro to AI\n",
    "## Assignment"
   ]
  },
  {
   "cell_type": "markdown",
   "id": "2adaa1f3",
   "metadata": {},
   "source": [
    "This assignment contributes 70% of the overall module mark for COMP2002 and is an individual\n",
    "assignment. You must submit the deliverables to the DLE by the specified submission dates.\n",
    "\n",
    "The coursework has two parts – one is a machine learning exercise and the second is about\n",
    "evolutionary computation. You must complete and submit both parts. Each part is worth 50% of\n",
    "the coursework mark."
   ]
  },
  {
   "cell_type": "markdown",
   "id": "9af0e8a5",
   "metadata": {},
   "source": [
    "# Part 1 - ML\n",
    "\n",
    "You have been provided with datasets relating to the energy efficiency of buildings. Your task is to\n",
    "train regression models that predict two indicators of energy efficiency based on 8 numerical inputs."
   ]
  },
  {
   "cell_type": "markdown",
   "id": "9f71cb91",
   "metadata": {},
   "source": [
    "## Task 1.1 - Data preparation \n",
    "\n",
    "The first phase of the work requires you to load the data you have been provided with into your Python\n",
    "program. Before the data can be used to train and test your models you must first prepare it – this\n",
    "means that the inputs must be normalized. There is no missing data in the dataset.\n",
    "\n",
    "(10% of total mark)"
   ]
  },
  {
   "cell_type": "markdown",
   "id": "4e0b5f51",
   "metadata": {},
   "source": [
    "## Task 1.2 - Regression \n",
    "\n",
    "Having prepared the data you must now build a regression tool that can predict new points. Use the\n",
    "following regression implementations within the scikit-learn package to construct predictors for the\n",
    "dataset:\n",
    "\n",
    "- Random Forest (sklearn.ensemble.RandomForestRegressor)\n",
    "- Neural Network (sklearn.neural_network.MLPRegressor)\n",
    "- Support Vector Machine (sklearn.svm.SVR)\n",
    "\n",
    "You must demonstrate that each regressor is capable of providing a prediction for a given input.\n",
    "\n",
    "(20% of total mark)"
   ]
  },
  {
   "cell_type": "markdown",
   "id": "175d6fe1",
   "metadata": {},
   "source": [
    "## Task 1.3 – Assessment of regression \n",
    "\n",
    "The regression models you have used in the previous task must be assessed. To do this you are\n",
    "required to assess the mean square error rate for each model. You may use the MSE implementation\n",
    "available in scikit-learn to do this. It is not sufficient to report a single MSE rate. You must use cross\n",
    "validation to report training and testing results and report these values using a boxplot.\n",
    "\n",
    "(20% of total mark)"
   ]
  },
  {
   "cell_type": "markdown",
   "id": "bf03b570",
   "metadata": {},
   "source": [
    "## Import Required Libraries"
   ]
  },
  {
   "cell_type": "code",
   "execution_count": 1,
   "id": "6fbf7c34",
   "metadata": {},
   "outputs": [],
   "source": [
    "import pandas as pandas\n",
    "import numpy as np \n",
    "import matplotlib.pyplot as plt\n",
    "\n",
    "from sklearn.decomposition import PCA\n",
    "from sklearn.ensemble import RandomForestRegressor\n",
    "from sklearn.model_selection import train_test_split\n",
    "from sklearn.metrics import mean_squared_error, mean_absolute_error\n",
    "from sklearn.preprocessing import MinMaxScaler\n",
    "from sklearn.neural_network import MLPRegressor\n",
    "from sklearn import svm\n",
    "from sklearn.model_selection import cross_validate, cross_val_score, cross_val_predict"
   ]
  },
  {
   "cell_type": "markdown",
   "id": "f871d2c6",
   "metadata": {},
   "source": [
    "## Data Preparation"
   ]
  },
  {
   "cell_type": "markdown",
   "id": "89760b0a",
   "metadata": {},
   "source": [
    "### Load with Pandas"
   ]
  },
  {
   "cell_type": "code",
   "execution_count": 2,
   "id": "7d10a453",
   "metadata": {},
   "outputs": [
    {
     "name": "stdout",
     "output_type": "stream",
     "text": [
      "       X1     X2     X3      X4   X5  X6   X7  X8     Y1     Y2\n",
      "0    0.98  514.5  294.0  110.25  7.0   2  0.0   0  15.55  21.33\n",
      "1    0.98  514.5  294.0  110.25  7.0   3  0.0   0  15.55  21.33\n",
      "2    0.98  514.5  294.0  110.25  7.0   4  0.0   0  15.55  21.33\n",
      "3    0.98  514.5  294.0  110.25  7.0   5  0.0   0  15.55  21.33\n",
      "4    0.90  563.5  318.5  122.50  7.0   2  0.0   0  20.84  28.28\n",
      "..    ...    ...    ...     ...  ...  ..  ...  ..    ...    ...\n",
      "763  0.64  784.0  343.0  220.50  3.5   5  0.4   5  17.88  21.40\n",
      "764  0.62  808.5  367.5  220.50  3.5   2  0.4   5  16.54  16.88\n",
      "765  0.62  808.5  367.5  220.50  3.5   3  0.4   5  16.44  17.11\n",
      "766  0.62  808.5  367.5  220.50  3.5   4  0.4   5  16.48  16.61\n",
      "767  0.62  808.5  367.5  220.50  3.5   5  0.4   5  16.64  16.03\n",
      "\n",
      "[768 rows x 10 columns]\n"
     ]
    }
   ],
   "source": [
    "data = pandas.read_csv(\"data.csv\")\n",
    "\n",
    "print(data)"
   ]
  },
  {
   "cell_type": "markdown",
   "id": "11989b6a",
   "metadata": {},
   "source": [
    "### Extract the Data"
   ]
  },
  {
   "cell_type": "code",
   "execution_count": 35,
   "id": "31025230",
   "metadata": {},
   "outputs": [],
   "source": [
    "inputs = data.values[:,:8].astype(float)\n",
    "targets = data.values[:,8:].astype(float)\n",
    "\n",
    "targets_y1 = targets[:,:1].astype(float)\n",
    "targets_y2 = targets[:,1:].astype(float)"
   ]
  },
  {
   "cell_type": "markdown",
   "id": "f03d8e8a",
   "metadata": {},
   "source": [
    "### Split Data into Training and Testing Sets\n",
    "\n",
    "We need to split the data into a training and testing set, we will have a test set that contains 25% of the data and use the remaining 75% for training."
   ]
  },
  {
   "cell_type": "code",
   "execution_count": 4,
   "id": "1d2b5272",
   "metadata": {},
   "outputs": [],
   "source": [
    "trainInputs, testInputs, trainTargets, testTargets = train_test_split(inputs, \n",
    "                                                                          targets, \n",
    "                                                                          test_size=0.25)\n",
    "\n",
    "targets_y1 = targets[:,8:9]\n",
    "targets_y2 = targets[:,9:]"
   ]
  },
  {
   "cell_type": "markdown",
   "id": "7804b1b4",
   "metadata": {},
   "source": [
    "### Shuffel the Array\n",
    "\n",
    "They look unordered, but shuffeling is never a bad idea."
   ]
  },
  {
   "cell_type": "code",
   "execution_count": 5,
   "id": "72733890",
   "metadata": {},
   "outputs": [],
   "source": [
    "def unison_shuffled_copies(a, b):\n",
    "    assert len(a) == len(b)\n",
    "    p = np.random.permutation(len(a))\n",
    "    return a[p], b[p]\n",
    "\n",
    "inputs, targets  = unison_shuffled_copies(inputs, targets)"
   ]
  },
  {
   "cell_type": "markdown",
   "id": "6abdbda9",
   "metadata": {},
   "source": [
    "### Reduce the Dimensionality"
   ]
  },
  {
   "cell_type": "code",
   "execution_count": 6,
   "id": "6318af93",
   "metadata": {},
   "outputs": [
    {
     "name": "stdout",
     "output_type": "stream",
     "text": [
      "Number of Dimensions:  (768, 10)\n"
     ]
    }
   ],
   "source": [
    "print(\"Number of Dimensions: \", data.shape)"
   ]
  },
  {
   "cell_type": "markdown",
   "id": "83524b81",
   "metadata": {},
   "source": [
    "### How many dimensions should we reduce it to?\n",
    "\n",
    "We should check to see if there is an optimal number of dimensions for this data that give both good accuracy and reduced compute compared to the full dataset.\n",
    "\n",
    "The plot bellow shows cumulative explained varience for different number of dimensions (ie pricipal components)\n",
    "\n",
    "Cumulative varience is the percentage (in this case expressed as a decimal) of the real varience in the data that can be expressed with a number of dimensions. The larger the number of dimensions, the larger the amount of varience that can be expressed. 95% is a good aim, this is near the top of the slope, but not so close it requires vastly more compute than a smaller value.\n",
    "\n",
    "From this graph we can see that 1 dimension can represent the entire datasets CEV to a near 100% accuracy. So we will use SKLearns PCA module to transform the data to 1 dimensions. This is to reduce the computational complexity of the problem."
   ]
  },
  {
   "cell_type": "code",
   "execution_count": 7,
   "id": "2a57dd58",
   "metadata": {},
   "outputs": [
    {
     "data": {
      "text/plain": [
       "Text(0, 0.5, 'Cumulative Explained Variance')"
      ]
     },
     "execution_count": 7,
     "metadata": {},
     "output_type": "execute_result"
    },
    {
     "data": {
      "image/png": "[encoded data removed]",
      "text/plain": [
       "<Figure size 432x288 with 1 Axes>"
      ]
     },
     "metadata": {
      "needs_background": "light"
     },
     "output_type": "display_data"
    }
   ],
   "source": [
    "pca=PCA().fit(inputs)\n",
    "plt.plot(np.cumsum(pca.explained_variance_ratio_))\n",
    "plt.xlabel('No. of dimensions')\n",
    "plt.ylabel('Cumulative Explained Variance')"
   ]
  },
  {
   "cell_type": "markdown",
   "id": "18fd94bb",
   "metadata": {},
   "source": [
    "### PCA\n",
    "\n",
    "We will now reduce the dimensionality of the data (both testing and training sets)"
   ]
  },
  {
   "cell_type": "code",
   "execution_count": 8,
   "id": "7e19cbc6",
   "metadata": {},
   "outputs": [],
   "source": [
    "pca = PCA(1)  \n",
    "\n",
    "inputsPCA = pca.fit_transform(inputs)"
   ]
  },
  {
   "cell_type": "code",
   "execution_count": 9,
   "id": "a8cb85e3",
   "metadata": {},
   "outputs": [
    {
     "data": {
      "text/plain": [
       "(768, 1)"
      ]
     },
     "execution_count": 9,
     "metadata": {},
     "output_type": "execute_result"
    }
   ],
   "source": [
    "inputsPCA.shape"
   ]
  },
  {
   "cell_type": "markdown",
   "id": "8558e6ea",
   "metadata": {},
   "source": [
    "### Plot Some Data\n",
    "\n",
    "We can see from the bellow plot that for these two input metrics there is wildly different scales. One is between 0.5 to 1 and the other 500 to 900.\n",
    "\n",
    "We need to scale this data using one of sk learns scaller. We will use the  "
   ]
  },
  {
   "cell_type": "code",
   "execution_count": 10,
   "id": "4b681f2f",
   "metadata": {
    "scrolled": true
   },
   "outputs": [
    {
     "data": {
      "image/png": "[encoded data removed]",
      "text/plain": [
       "<Figure size 432x288 with 2 Axes>"
      ]
     },
     "metadata": {
      "needs_background": "light"
     },
     "output_type": "display_data"
    }
   ],
   "source": [
    "plt.figure()\n",
    "plt.scatter(inputsPCA[:,0], targets[:,:1], c= targets[:,0])\n",
    "plt.title(\"Inputs v Y1 Target\")\n",
    "plt.colorbar()\n",
    "plt.xlabel('Input')\n",
    "plt.ylabel('Y1 Target')\n",
    "plt.show()"
   ]
  },
  {
   "cell_type": "code",
   "execution_count": 11,
   "id": "8a548784",
   "metadata": {},
   "outputs": [],
   "source": [
    "scaler = MinMaxScaler()\n",
    "\n",
    "inputsScaled = scaler.fit_transform(inputsPCA)\n",
    "inputsScaledNoPCA = scaler.fit_transform(inputs)"
   ]
  },
  {
   "cell_type": "markdown",
   "id": "e0a2df2f",
   "metadata": {},
   "source": [
    "We can now see that the data has been scalled so the minimum target value is now 0 and the maximum target value is 1."
   ]
  },
  {
   "cell_type": "code",
   "execution_count": 12,
   "id": "386db3e9",
   "metadata": {
    "scrolled": true
   },
   "outputs": [
    {
     "data": {
      "image/png": "[encoded data removed]",
      "text/plain": [
       "<Figure size 432x288 with 2 Axes>"
      ]
     },
     "metadata": {
      "needs_background": "light"
     },
     "output_type": "display_data"
    }
   ],
   "source": [
    "plt.figure()\n",
    "plt.scatter(inputsScaled[:,0], targets[:,:1], c= targets[:,0])\n",
    "plt.title(\"Inputs v Y1 Target\")\n",
    "plt.colorbar()\n",
    "plt.xlabel('Input')\n",
    "plt.ylabel('Y1 Target')\n",
    "plt.show()"
   ]
  },
  {
   "cell_type": "markdown",
   "id": "e212607c",
   "metadata": {},
   "source": [
    "## Random Forest"
   ]
  },
  {
   "cell_type": "code",
   "execution_count": 49,
   "id": "47bce8bb",
   "metadata": {},
   "outputs": [],
   "source": [
    "rf = RandomForestRegressor()\n",
    "rfCvPca = cross_validate(rf, inputsScaled, targets, cv=25, return_train_score=True, \n",
    "                         scoring='neg_mean_squared_error')"
   ]
  },
  {
   "cell_type": "code",
   "execution_count": 14,
   "id": "516f93e8",
   "metadata": {},
   "outputs": [],
   "source": [
    "rf = RandomForestRegressor()\n",
    "rfCvNoPca = cross_validate(rf, inputsScaledNoPCA, targets, cv=25, return_train_score=True, \n",
    "                           scoring='neg_mean_squared_error')"
   ]
  },
  {
   "cell_type": "code",
   "execution_count": 15,
   "id": "1152a5d2",
   "metadata": {},
   "outputs": [],
   "source": [
    "rfResultsTrain = {\"RF w/ PCA - Test Score\": rfCvPca['test_score'], \n",
    "                  \"RF w/o PCA - Test Score\": rfCvNoPca['test_score']}\n",
    "\n",
    "rfResultsTest = {\"RF w/ PCA - Train Score\": rfCvPca['train_score'],\n",
    "                 \"RF w/o PCA - Train Score\": rfCvNoPca['train_score']}"
   ]
  },
  {
   "cell_type": "code",
   "execution_count": 16,
   "id": "767dda60",
   "metadata": {},
   "outputs": [
    {
     "data": {
      "image/png": "[encoded data removed]",
      "text/plain": [
       "<Figure size 432x288 with 1 Axes>"
      ]
     },
     "metadata": {
      "needs_background": "light"
     },
     "output_type": "display_data"
    }
   ],
   "source": [
    "fig, ax = plt.subplots()\n",
    "plt.title(\"RF with and without PCA - Testing Scores\")\n",
    "ax.boxplot(rfResultsTrain.values())\n",
    "ax.set_xticklabels(rfResultsTrain.keys())\n",
    "plt.show()"
   ]
  },
  {
   "cell_type": "code",
   "execution_count": 17,
   "id": "78a6758d",
   "metadata": {},
   "outputs": [
    {
     "data": {
      "image/png": "[encoded data removed]",
      "text/plain": [
       "<Figure size 432x288 with 1 Axes>"
      ]
     },
     "metadata": {
      "needs_background": "light"
     },
     "output_type": "display_data"
    }
   ],
   "source": [
    "fig, ax = plt.subplots()\n",
    "plt.title(\"RF with and without PCA - Training Scores\")\n",
    "ax.boxplot(rfResultsTest.values())\n",
    "ax.set_xticklabels(rfResultsTest.keys())\n",
    "plt.show()"
   ]
  },
  {
   "cell_type": "markdown",
   "id": "286e9be9",
   "metadata": {},
   "source": [
    "### Random Forest Results\n",
    "\n",
    "The random forset produced some unusual results, it performed much better on the data that had not undergone PCA compared to the data which was reduced down to 1 dimension. \n",
    "\n",
    "The non-reduced dataset has a much lower average error on the test data, -2 compared to -8 for the reduced dataset. It also had a much smaller IQR of around 1.8 compared to 3 for the reduced dataset."
   ]
  },
  {
   "cell_type": "markdown",
   "id": "f899355f",
   "metadata": {},
   "source": [
    "## Neural Network"
   ]
  },
  {
   "cell_type": "code",
   "execution_count": 50,
   "id": "cd49ea2b",
   "metadata": {},
   "outputs": [],
   "source": [
    "regressor = MLPRegressor(max_iter=15000)\n",
    "nnCvPca = cross_validate(regressor, inputsScaled, targets, cv=25, return_train_score=True, \n",
    "                         scoring='neg_mean_squared_error')"
   ]
  },
  {
   "cell_type": "code",
   "execution_count": 19,
   "id": "c4b51e74",
   "metadata": {},
   "outputs": [],
   "source": [
    "regressor = MLPRegressor(max_iter=15000)\n",
    "nnCvNoPca = cross_validate(regressor, inputsScaledNoPCA, targets, cv=25, return_train_score=True, \n",
    "                           scoring='neg_mean_squared_error')"
   ]
  },
  {
   "cell_type": "code",
   "execution_count": 20,
   "id": "72108fe5",
   "metadata": {},
   "outputs": [],
   "source": [
    "nnResultsTrain = {\"NN w/ PCA - Test Score\": nnCvPca['test_score'], \n",
    "                  \"NN w/o PCA - Test Score\": nnCvNoPca['test_score']}\n",
    "\n",
    "nnResultsTest = {\"NN w/ PCA - Train Score\": nnCvPca['train_score'],\n",
    "                  \"NN w/o PCA - Train Score\": nnCvNoPca['train_score']}"
   ]
  },
  {
   "cell_type": "code",
   "execution_count": 21,
   "id": "da33f089",
   "metadata": {},
   "outputs": [
    {
     "data": {
      "image/png": "[encoded data removed]",
      "text/plain": [
       "<Figure size 432x288 with 1 Axes>"
      ]
     },
     "metadata": {
      "needs_background": "light"
     },
     "output_type": "display_data"
    }
   ],
   "source": [
    "fig, ax = plt.subplots()\n",
    "plt.title(\"NN with and without PCA - Testing Scores\")\n",
    "ax.boxplot(nnResultsTrain.values())\n",
    "ax.set_xticklabels(nnResultsTrain.keys())\n",
    "plt.show()"
   ]
  },
  {
   "cell_type": "code",
   "execution_count": 22,
   "id": "7496e40e",
   "metadata": {},
   "outputs": [
    {
     "data": {
      "image/png": "[encoded data removed]",
      "text/plain": [
       "<Figure size 432x288 with 1 Axes>"
      ]
     },
     "metadata": {
      "needs_background": "light"
     },
     "output_type": "display_data"
    }
   ],
   "source": [
    "fig, ax = plt.subplots()\n",
    "plt.title(\"NN with and without PCA - Training Scores\")\n",
    "ax.boxplot(nnResultsTest.values())\n",
    "ax.set_xticklabels(nnResultsTest.keys())\n",
    "plt.show()"
   ]
  },
  {
   "cell_type": "markdown",
   "id": "582fcda9",
   "metadata": {},
   "source": [
    "### Neural Network Results\n",
    "\n",
    "The neural network also produced some unusual results, again performing much better on the data that had not undergone PCA compared to the data which was reduced down to 1 dimension. \n",
    "\n",
    "The non-reduced dataset has a much lower average error on the test data, -2.2 compared to -20 for the reduced dataset. It also had a much smaller IQR of around 3 compared to 24 for the reduced dataset."
   ]
  },
  {
   "cell_type": "markdown",
   "id": "4789f8c1",
   "metadata": {},
   "source": [
    "## Support Vector Machine"
   ]
  },
  {
   "cell_type": "markdown",
   "id": "fcca4755",
   "metadata": {},
   "source": [
    "The SVM can only predict a single output variable, because our dataset has two output variables (Y1 and Y2) we need to train two seperate SVMs."
   ]
  },
  {
   "cell_type": "markdown",
   "id": "e14310b2",
   "metadata": {},
   "source": [
    "### Y1"
   ]
  },
  {
   "cell_type": "code",
   "execution_count": 51,
   "id": "44a9252c",
   "metadata": {},
   "outputs": [],
   "source": [
    "svr = svm.SVR(gamma=\"auto\")\n",
    "svmCvPca_y1 = cross_validate(svr, inputsScaled, targets_y1.ravel(), cv=25, return_train_score=True, \n",
    "                           scoring='neg_mean_squared_error')"
   ]
  },
  {
   "cell_type": "code",
   "execution_count": 52,
   "id": "e05f91e3",
   "metadata": {},
   "outputs": [],
   "source": [
    "svr = svm.SVR(gamma=\"auto\")\n",
    "svmCvNoPca_y1 = cross_validate(svr, inputsScaledNoPCA, targets_y1.ravel(), cv=25, return_train_score=True, \n",
    "                           scoring='neg_mean_squared_error')"
   ]
  },
  {
   "cell_type": "code",
   "execution_count": 53,
   "id": "4ef7aec5",
   "metadata": {},
   "outputs": [],
   "source": [
    "svmResultsTrain_y1 = {\"SVM w/ PCA - Test Score\": svmCvPca_y1['test_score'], \n",
    "                  \"SVM w/o PCA - Test Score\": svmCvNoPca_y1['test_score']}\n",
    "\n",
    "svmResultsTest_y1 = {\"SVM w/ PCA - Train Score\": svmCvPca_y1['train_score'],\n",
    "                  \"SVM w/o PCA - Train Score\": svmCvNoPca_y1['train_score']}"
   ]
  },
  {
   "cell_type": "code",
   "execution_count": 54,
   "id": "c10daedf",
   "metadata": {},
   "outputs": [
    {
     "data": {
      "image/png": "[encoded data removed]",
      "text/plain": [
       "<Figure size 432x288 with 1 Axes>"
      ]
     },
     "metadata": {
      "needs_background": "light"
     },
     "output_type": "display_data"
    }
   ],
   "source": [
    "fig, ax = plt.subplots()\n",
    "plt.title(\"SVM Y1 with and without PCA - Testing Scores\")\n",
    "ax.boxplot(svmResultsTrain_y1.values())\n",
    "ax.set_xticklabels(svmResultsTrain_y1.keys())\n",
    "plt.show()"
   ]
  },
  {
   "cell_type": "code",
   "execution_count": 55,
   "id": "c08860d7",
   "metadata": {
    "scrolled": true
   },
   "outputs": [
    {
     "data": {
      "image/png": "[encoded data removed]",
      "text/plain": [
       "<Figure size 432x288 with 1 Axes>"
      ]
     },
     "metadata": {
      "needs_background": "light"
     },
     "output_type": "display_data"
    }
   ],
   "source": [
    "fig, ax = plt.subplots()\n",
    "plt.title(\"SVM Y1 with and without PCA - Training Scores\")\n",
    "ax.boxplot(svmResultsTest_y1.values())\n",
    "ax.set_xticklabels(svmResultsTest_y1.keys())\n",
    "plt.show()"
   ]
  },
  {
   "cell_type": "markdown",
   "id": "d301a895",
   "metadata": {},
   "source": [
    "### Y2"
   ]
  },
  {
   "cell_type": "code",
   "execution_count": 56,
   "id": "25a3c6f8",
   "metadata": {},
   "outputs": [],
   "source": [
    "svr = svm.SVR(gamma=\"auto\")\n",
    "svmCvPca_y2 = cross_validate(svr, inputsScaled, targets_y2.ravel(), cv=25, return_train_score=True, \n",
    "                           scoring='neg_mean_squared_error')"
   ]
  },
  {
   "cell_type": "code",
   "execution_count": 57,
   "id": "5ac0b4c3",
   "metadata": {},
   "outputs": [],
   "source": [
    "supportVectorMachine = svm.SVR(gamma=\"auto\")\n",
    "svmCvNoPca_y2 = cross_validate(svr, inputsScaledNoPCA, targets_y2.ravel(), cv=25, return_train_score=True, \n",
    "                           scoring='neg_mean_squared_error')"
   ]
  },
  {
   "cell_type": "code",
   "execution_count": 58,
   "id": "28e62954",
   "metadata": {},
   "outputs": [],
   "source": [
    "svmResultsTrain_y2 = {\"SVM w/ PCA - Test Score\": svmCvPca_y2['test_score'], \n",
    "                  \"SVM w/o PCA - Test Score\": svmCvNoPca_y2['test_score']}\n",
    "\n",
    "svmResultsTest_y2 = {\"SVM w/ PCA - Train Score\": svmCvPca_y2['train_score'],\n",
    "                  \"SVM w/o PCA - Train Score\": svmCvNoPca_y2['train_score']}"
   ]
  },
  {
   "cell_type": "code",
   "execution_count": 59,
   "id": "52698a88",
   "metadata": {},
   "outputs": [
    {
     "data": {
      "image/png": "[encoded data removed]",
      "text/plain": [
       "<Figure size 432x288 with 1 Axes>"
      ]
     },
     "metadata": {
      "needs_background": "light"
     },
     "output_type": "display_data"
    }
   ],
   "source": [
    "fig, ax = plt.subplots()\n",
    "plt.title(\"SVM Y2 with and without PCA - Testing Scores\")\n",
    "ax.boxplot(svmResultsTrain_y2.values())\n",
    "ax.set_xticklabels(svmResultsTrain_y2.keys())\n",
    "plt.show()"
   ]
  },
  {
   "cell_type": "code",
   "execution_count": 60,
   "id": "8b23b549",
   "metadata": {},
   "outputs": [
    {
     "data": {
      "image/png": "[encoded data removed]",
      "text/plain": [
       "<Figure size 432x288 with 1 Axes>"
      ]
     },
     "metadata": {
      "needs_background": "light"
     },
     "output_type": "display_data"
    }
   ],
   "source": [
    "fig, ax = plt.subplots()\n",
    "plt.title(\"SVM Y2 with and without PCA - Training Scores\")\n",
    "ax.boxplot(svmResultsTest_y2.values())\n",
    "ax.set_xticklabels(svmResultsTest_y2.keys())\n",
    "plt.show()"
   ]
  },
  {
   "cell_type": "markdown",
   "id": "a58afc4b",
   "metadata": {},
   "source": [
    "### Support Vector Machine Results\n",
    "\n",
    "# double check\n",
    "\n",
    "The support vector machine did not produce the same interesting results as seen with the random forest and neural network. With the average for Y1 and Y2 being approximatly -90 and -100 respectivly, with little difference between the reduced and non-reduced dataset.\n",
    "\n",
    "Both had an IQR around thr 30 to 40 mark, again with little difference between the reduced and non reduced data."
   ]
  },
  {
   "cell_type": "markdown",
   "id": "869855e0",
   "metadata": {},
   "source": [
    "## Overall Results\n",
    "\n",
    "In summary the random forest is probably the best choice, it has the best average score, and a small IQR. It is also less computationaly intensive than the similarly performing neural network - the random forest takes ~3s to train vs ~25s to train the neural network.\n",
    "\n",
    "SVM is a clear third place however, with drastically worse average scores than the neural network and random forest."
   ]
  },
  {
   "cell_type": "markdown",
   "id": "9babe005",
   "metadata": {},
   "source": [
    "## PCA Anomalies \n",
    "\n",
    "It's not competly clear why the classifieres all train poorly on the reduced dataset, regardless of the CEV graph showing that 1 dimension should represent all of the variance in the data. Presumably there is some element of the data that isn't well represented when scaled down using PCA. "
   ]
  },
  {
   "cell_type": "markdown",
   "id": "e71b9aea",
   "metadata": {},
   "source": [
    "# Part 2 - Optimisation\n",
    "\n",
    "Implement an optimiser to solve a timetabling problem for a university. A file has been provided that describes modules, and lists modules against which they cannot be scheduled. A module consists of one lecture per week and one or more lab sessions.\n",
    "\n",
    "Optimise a timetable so that session is scheduled once per week in such a way that\n",
    "timetable constraints are minimised. There are 20 sessions per week. You have one lecture theatre\n",
    "and two labs available.\n",
    "\n",
    "Relevant constraints for this assessment are:\n",
    "\n",
    "- A session cannot be scheduled for a time when any of its students or staff are in another session (concurrence constraints). The sessions for a module that clash are shown in the data file.\n",
    "- A lab session cannot occur in the week before its corresponding lecture has taken place (precedence constraints).\n",
    "\n",
    "You must design and implement a fitness function by taking the number of the concurrence constraints and multiplying them with the number of precedence constraints. This fitness function should be minimised – the ideal timetable is one with no constraint violations at all, in which case the function will return 0"
   ]
  },
  {
   "cell_type": "markdown",
   "id": "e4793302",
   "metadata": {},
   "source": [
    "## Task 2.1 – Generation of random solutions (10% of total mark)\n",
    "\n",
    "The first task is to implement the fitness function. Your code should read the file provided and given\n",
    "a timetable it should return the quality of the schedule in terms of the constraint violations, as described\n",
    "above. The function should be called the fitness of a random solution printed out."
   ]
  },
  {
   "cell_type": "markdown",
   "id": "5d9cc0d6",
   "metadata": {},
   "source": [
    "## Task 2.2 – Algorithm implementation (25% of total mark)\n",
    "\n",
    "Implement a hillclimber to optimise the problem implemented in Task 2.1.\n",
    "\n",
    "The algorithm must have the following features:\n",
    "\n",
    "- It should be possible to use one of two mutation operators – one (session replace) mutates a solution by placing a session into another slot in the timetable, and the other is a ruin-andrecreate operator (which generates a completely new solution at random).\n",
    "- At each iteration your single parent solution should be used to generate a single child operator by using one of the mutation operators (either the swap or the ruin-and-recreate for the entire run of the algorithm).\n",
    "- At the end of an iteration the algorithm should retain the parent or child that has the best fitness.\n",
    "- At the end of an iteration the best (parent or child) solution’s fitness should be added to a list of the best fitnesses, which is returned along with the best solution at the end of the optimisation."
   ]
  },
  {
   "cell_type": "markdown",
   "id": "2d86c7eb",
   "metadata": {},
   "source": [
    "## Task 2.3 – Visualisation of results (15% of total mark)\n",
    "\n",
    "Run the algorithm twice for 500 iterations – once for each mutation operator. Repeat this 30 times, so that you get 30 fitness lists for the swap operator and 30 fitness lists for the ruin-andrecreate operator. \n",
    "\n",
    "Plot the average, maximum and minimum fitness at each iteration for each operator, plot them on the same graph so that they can be compared. \n",
    "\n",
    "You should be able to see which optimiser is best – state which in the notebook, and say why."
   ]
  },
  {
   "cell_type": "markdown",
   "id": "bb1bf4d3",
   "metadata": {},
   "source": [
    "## Import the Modules"
   ]
  },
  {
   "cell_type": "code",
   "execution_count": null,
   "id": "1c6f01e4",
   "metadata": {},
   "outputs": [],
   "source": []
  }
 ],
 "metadata": {
  "kernelspec": {
   "display_name": "Python 3 (ipykernel)",
   "language": "python",
   "name": "python3"
  },
  "language_info": {
   "codemirror_mode": {
    "name": "ipython",
    "version": 3
   },
   "file_extension": ".py",
   "mimetype": "text/x-python",
   "name": "python",
   "nbconvert_exporter": "python",
   "pygments_lexer": "ipython3",
   "version": "3.8.10"
  }
 },
 "nbformat": 4,
 "nbformat_minor": 5
}
