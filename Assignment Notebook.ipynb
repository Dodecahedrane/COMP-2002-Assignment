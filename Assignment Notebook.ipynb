{
 "cells": [
  {
   "cell_type": "markdown",
   "id": "4775edfb",
   "metadata": {},
   "source": [
    "# COMP 2002 Intro to AI\n",
    "## Assignment"
   ]
  },
  {
   "cell_type": "markdown",
   "id": "2adaa1f3",
   "metadata": {},
   "source": [
    "This assignment contributes 70% of the overall module mark for COMP2002 and is an individual\n",
    "assignment. You must submit the deliverables to the DLE by the specified submission dates.\n",
    "\n",
    "The coursework has two parts – one is a machine learning exercise and the second is about\n",
    "evolutionary computation. You must complete and submit both parts. Each part is worth 50% of\n",
    "the coursework mark."
   ]
  },
  {
   "cell_type": "markdown",
   "id": "9af0e8a5",
   "metadata": {},
   "source": [
    "# Part 1 - ML\n",
    "\n",
    "You have been provided with datasets relating to the energy efficiency of buildings. Your task is to\n",
    "train regression models that predict two indicators of energy efficiency based on 8 numerical inputs."
   ]
  },
  {
   "cell_type": "markdown",
   "id": "9f71cb91",
   "metadata": {},
   "source": [
    "## Task 1.1 - Data preparation \n",
    "\n",
    "The first phase of the work requires you to load the data you have been provided with into your Python\n",
    "program. Before the data can be used to train and test your models you must first prepare it – this\n",
    "means that the inputs must be normalized. There is no missing data in the dataset.\n",
    "\n",
    "(10% of total mark)"
   ]
  },
  {
   "cell_type": "markdown",
   "id": "4e0b5f51",
   "metadata": {},
   "source": [
    "## Task 1.2 - Regression \n",
    "\n",
    "Having prepared the data you must now build a regression tool that can predict new points. Use the\n",
    "following regression implementations within the scikit-learn package to construct predictors for the\n",
    "dataset:\n",
    "\n",
    "- Random Forest (sklearn.ensemble.RandomForestRegressor)\n",
    "- Neural Network (sklearn.neural_network.MLPRegressor)\n",
    "- Support Vector Machine (sklearn.svm.SVR)\n",
    "\n",
    "You must demonstrate that each regressor is capable of providing a prediction for a given input.\n",
    "\n",
    "(20% of total mark)"
   ]
  },
  {
   "cell_type": "markdown",
   "id": "175d6fe1",
   "metadata": {},
   "source": [
    "## Task 1.3 – Assessment of regression \n",
    "\n",
    "The regression models you have used in the previous task must be assessed. To do this you are\n",
    "required to assess the mean square error rate for each model. You may use the MSE implementation\n",
    "available in scikit-learn to do this. It is not sufficient to report a single MSE rate. You must use cross\n",
    "validation to report training and testing results and report these values using a boxplot.\n",
    "\n",
    "(20% of total mark)"
   ]
  },
  {
   "cell_type": "markdown",
   "id": "bf03b570",
   "metadata": {},
   "source": [
    "## Import Required Libraries"
   ]
  },
  {
   "cell_type": "code",
   "execution_count": 34,
   "id": "6fbf7c34",
   "metadata": {},
   "outputs": [],
   "source": [
    "import pandas as pandas\n",
    "import numpy as np \n",
    "import matplotlib.pyplot as plt\n",
    "\n",
    "from sklearn.decomposition import PCA\n",
    "from sklearn.ensemble import RandomForestRegressor\n",
    "from sklearn.model_selection import train_test_split\n",
    "from sklearn.metrics import mean_squared_error, mean_absolute_error\n",
    "from sklearn.preprocessing import MinMaxScaler\n",
    "from sklearn.neural_network import MLPRegressor\n",
    "from sklearn import svm\n",
    "from sklearn.model_selection import cross_val_score"
   ]
  },
  {
   "cell_type": "markdown",
   "id": "f871d2c6",
   "metadata": {},
   "source": [
    "## Data Preparation"
   ]
  },
  {
   "cell_type": "markdown",
   "id": "89760b0a",
   "metadata": {},
   "source": [
    "### Load with Pandas"
   ]
  },
  {
   "cell_type": "code",
   "execution_count": 2,
   "id": "7d10a453",
   "metadata": {},
   "outputs": [
    {
     "name": "stdout",
     "output_type": "stream",
     "text": [
      "       X1     X2     X3      X4   X5  X6   X7  X8     Y1     Y2\n",
      "0    0.98  514.5  294.0  110.25  7.0   2  0.0   0  15.55  21.33\n",
      "1    0.98  514.5  294.0  110.25  7.0   3  0.0   0  15.55  21.33\n",
      "2    0.98  514.5  294.0  110.25  7.0   4  0.0   0  15.55  21.33\n",
      "3    0.98  514.5  294.0  110.25  7.0   5  0.0   0  15.55  21.33\n",
      "4    0.90  563.5  318.5  122.50  7.0   2  0.0   0  20.84  28.28\n",
      "..    ...    ...    ...     ...  ...  ..  ...  ..    ...    ...\n",
      "763  0.64  784.0  343.0  220.50  3.5   5  0.4   5  17.88  21.40\n",
      "764  0.62  808.5  367.5  220.50  3.5   2  0.4   5  16.54  16.88\n",
      "765  0.62  808.5  367.5  220.50  3.5   3  0.4   5  16.44  17.11\n",
      "766  0.62  808.5  367.5  220.50  3.5   4  0.4   5  16.48  16.61\n",
      "767  0.62  808.5  367.5  220.50  3.5   5  0.4   5  16.64  16.03\n",
      "\n",
      "[768 rows x 10 columns]\n"
     ]
    }
   ],
   "source": [
    "data = pandas.read_csv(\"data.csv\")\n",
    "\n",
    "print(data)"
   ]
  },
  {
   "cell_type": "markdown",
   "id": "11989b6a",
   "metadata": {},
   "source": [
    "### Extract the Data"
   ]
  },
  {
   "cell_type": "code",
   "execution_count": 3,
   "id": "31025230",
   "metadata": {},
   "outputs": [],
   "source": [
    "inputs = data.values[:,:8].astype(float)\n",
    "targets = data.values[:,8:].astype(float)"
   ]
  },
  {
   "cell_type": "markdown",
   "id": "f03d8e8a",
   "metadata": {},
   "source": [
    "### Split Data into Training and Testing Sets\n",
    "\n",
    "We need to split the data into a training and testing set, we will have a test set that contains 25% of the data and use the remaining 75% for training."
   ]
  },
  {
   "cell_type": "code",
   "execution_count": 4,
   "id": "1d2b5272",
   "metadata": {},
   "outputs": [],
   "source": [
    "trainInputs, testInputs, trainTargets, testTargets = train_test_split(inputs, \n",
    "                                                                          targets, \n",
    "                                                                          test_size=0.25)\n",
    "\n",
    "trainTargets_y1 = trainTargets[:,:1]\n",
    "trainTargets_y2 = trainTargets[:,1:]\n",
    "\n",
    "testTargets_y1 = testTargets[:,8:9]\n",
    "testTargets_y2 = testTargets[:,9:]"
   ]
  },
  {
   "cell_type": "markdown",
   "id": "7804b1b4",
   "metadata": {},
   "source": [
    "### Shuffel the Array\n",
    "\n",
    "They look unordered, but shuffeling is never a bad idea."
   ]
  },
  {
   "cell_type": "code",
   "execution_count": 5,
   "id": "72733890",
   "metadata": {},
   "outputs": [],
   "source": [
    "def unison_shuffled_copies(a, b):\n",
    "    assert len(a) == len(b)\n",
    "    p = np.random.permutation(len(a))\n",
    "    return a[p], b[p]\n",
    "\n",
    "trainInputs, trainTargets  = unison_shuffled_copies(trainInputs, trainTargets)\n",
    "testInputs, testTargets  = unison_shuffled_copies(testInputs, testTargets)"
   ]
  },
  {
   "cell_type": "markdown",
   "id": "6abdbda9",
   "metadata": {},
   "source": [
    "### Reduce the Dimensionality"
   ]
  },
  {
   "cell_type": "code",
   "execution_count": 6,
   "id": "6318af93",
   "metadata": {},
   "outputs": [
    {
     "name": "stdout",
     "output_type": "stream",
     "text": [
      "Number of Dimensions:  (768, 10)\n"
     ]
    }
   ],
   "source": [
    "print(\"Number of Dimensions: \", data.shape)"
   ]
  },
  {
   "cell_type": "markdown",
   "id": "83524b81",
   "metadata": {},
   "source": [
    "### How many dimensions should we reduce it to?\n",
    "\n",
    "We should check to see if there is an optimal number of dimensions for this data that give both good accuracy and reduced compute compared to the full dataset.\n",
    "\n",
    "The plot bellow shows cumulative explained varience for different number of dimensions (ie pricipal components)\n",
    "\n",
    "Cumulative varience is the percentage (in this case expressed as a decimal) of the real varience in the data that can be expressed with a number of dimensions. The larger the number of dimensions, the larger the amount of varience that can be expressed. 95% is a good aim, this is near the top of the slope, but not so close it requires vastly more compute than a smaller value.\n",
    "\n",
    "From this graph we can see that 1 dimension can represent the entire datasets CEV to a near 100% accuracy. So we will use SKLearns PCA module to transform the data to 1 dimensions. This is to reduce the computational complexity of the problem."
   ]
  },
  {
   "cell_type": "code",
   "execution_count": 7,
   "id": "2a57dd58",
   "metadata": {},
   "outputs": [
    {
     "data": {
      "text/plain": [
       "Text(0, 0.5, 'Cumulative Explained Variance')"
      ]
     },
     "execution_count": 7,
     "metadata": {},
     "output_type": "execute_result"
    },
    {
     "data": {
      "image/png": "[encoded data removed]",
      "text/plain": [
       "<Figure size 432x288 with 1 Axes>"
      ]
     },
     "metadata": {
      "needs_background": "light"
     },
     "output_type": "display_data"
    }
   ],
   "source": [
    "pca=PCA().fit(trainInputs)\n",
    "plt.plot(np.cumsum(pca.explained_variance_ratio_))\n",
    "plt.xlabel('No. of dimensions')\n",
    "plt.ylabel('Cumulative Explained Variance')"
   ]
  },
  {
   "cell_type": "markdown",
   "id": "18fd94bb",
   "metadata": {},
   "source": [
    "### PCA\n",
    "\n",
    "We will now reduce the dimensionality of the data (both testing and training sets)"
   ]
  },
  {
   "cell_type": "code",
   "execution_count": 42,
   "id": "7e19cbc6",
   "metadata": {},
   "outputs": [],
   "source": [
    "pca = PCA(1)  \n",
    "trainInputsPCA = pca.fit_transform(trainInputs)\n",
    "testInputsPCA = pca.fit_transform(testInputs)"
   ]
  },
  {
   "cell_type": "code",
   "execution_count": 43,
   "id": "a8cb85e3",
   "metadata": {},
   "outputs": [
    {
     "data": {
      "text/plain": [
       "(576, 1)"
      ]
     },
     "execution_count": 43,
     "metadata": {},
     "output_type": "execute_result"
    }
   ],
   "source": [
    "trainInputsPCA.shape"
   ]
  },
  {
   "cell_type": "markdown",
   "id": "8558e6ea",
   "metadata": {},
   "source": [
    "### Plot Some Data\n",
    "\n",
    "We can see from the bellow plot that for these two input metrics there is wildly different scales. One is between 0.5 to 1 and the other 500 to 900.\n",
    "\n",
    "We need to scale this data using one of sk learns scaller. We will use the  "
   ]
  },
  {
   "cell_type": "code",
   "execution_count": 44,
   "id": "4b681f2f",
   "metadata": {
    "scrolled": true
   },
   "outputs": [
    {
     "data": {
      "image/png": "[encoded data removed]",
      "text/plain": [
       "<Figure size 432x288 with 2 Axes>"
      ]
     },
     "metadata": {
      "needs_background": "light"
     },
     "output_type": "display_data"
    }
   ],
   "source": [
    "plt.figure()\n",
    "plt.scatter(trainInputsPCA[:,0], trainTargets[:,:1], c= trainTargets[:,0])\n",
    "plt.title(\"Inputs v Y1 Target\")\n",
    "plt.colorbar()\n",
    "plt.xlabel('Input')\n",
    "plt.ylabel('Y1 Target')\n",
    "plt.show()"
   ]
  },
  {
   "cell_type": "code",
   "execution_count": 46,
   "id": "8a548784",
   "metadata": {},
   "outputs": [],
   "source": [
    "scaler = MinMaxScaler()\n",
    "trainInputsScaled = scaler.fit_transform(trainInputsPCA)\n",
    "testInputsScaled = scaler.fit_transform(testInputsPCA)\n",
    "\n",
    "trainInputsScaledNoPCA = scaler.fit_transform(trainInputs)\n",
    "testInputsScaledNoPCA = scaler.fit_transform(testInputs)"
   ]
  },
  {
   "cell_type": "markdown",
   "id": "e0a2df2f",
   "metadata": {},
   "source": [
    "We can now see that the data has been scalled so the minimum target value is now 0 and the maximum target value is 1."
   ]
  },
  {
   "cell_type": "code",
   "execution_count": 12,
   "id": "386db3e9",
   "metadata": {
    "scrolled": true
   },
   "outputs": [
    {
     "data": {
      "image/png": "[encoded data removed]",
      "text/plain": [
       "<Figure size 432x288 with 2 Axes>"
      ]
     },
     "metadata": {
      "needs_background": "light"
     },
     "output_type": "display_data"
    }
   ],
   "source": [
    "plt.figure()\n",
    "plt.scatter(trainInputsScaled[:,0], trainTargets[:,:1], c= trainTargets[:,0])\n",
    "plt.title(\"Inputs v Y1 Target\")\n",
    "plt.colorbar()\n",
    "plt.xlabel('Scaled Input')\n",
    "plt.ylabel('Y1 Target')\n",
    "plt.show()"
   ]
  },
  {
   "cell_type": "markdown",
   "id": "e212607c",
   "metadata": {},
   "source": [
    "## Random Forest"
   ]
  },
  {
   "cell_type": "code",
   "execution_count": 49,
   "id": "836cb402",
   "metadata": {},
   "outputs": [],
   "source": [
    "rf = RandomForestRegressor()\n",
    "rf_cvs = cross_val_score(rf, trainInputsScaled, trainTargets, cv=20, scoring='neg_mean_squared_error')"
   ]
  },
  {
   "cell_type": "code",
   "execution_count": 50,
   "id": "20658df2",
   "metadata": {},
   "outputs": [
    {
     "data": {
      "image/png": "[encoded data removed]",
      "text/plain": [
       "<Figure size 432x504 with 1 Axes>"
      ]
     },
     "metadata": {
      "needs_background": "light"
     },
     "output_type": "display_data"
    }
   ],
   "source": [
    "fig = plt.figure(figsize =(6, 7))\n",
    "ax = fig.add_axes([0, 0, 1, 1])\n",
    "bp = ax.boxplot(rf_cvs)\n",
    "plt.show()"
   ]
  },
  {
   "cell_type": "markdown",
   "id": "f899355f",
   "metadata": {},
   "source": [
    "## Neural Network"
   ]
  },
  {
   "cell_type": "markdown",
   "id": "b13b5e97",
   "metadata": {},
   "source": [
    "With PCA @ 1"
   ]
  },
  {
   "cell_type": "code",
   "execution_count": null,
   "id": "bd6109c1",
   "metadata": {},
   "outputs": [],
   "source": [
    "regressor = MLPRegressor(max_iter=2000)\n",
    "nn_cvs = cross_val_score(regressor, trainInputsScaled, trainTargets, cv=25, scoring='neg_mean_squared_error')"
   ]
  },
  {
   "cell_type": "code",
   "execution_count": null,
   "id": "c3b7a8ad",
   "metadata": {},
   "outputs": [],
   "source": [
    "fig = plt.figure(figsize =(6, 7))\n",
    "ax = fig.add_axes([0, 0, 1, 1])\n",
    "bp = ax.boxplot(nn_cvs)\n",
    "plt.show()"
   ]
  },
  {
   "cell_type": "markdown",
   "id": "0de6bca7",
   "metadata": {},
   "source": [
    "Without PCA"
   ]
  },
  {
   "cell_type": "code",
   "execution_count": null,
   "id": "5a2e365b",
   "metadata": {},
   "outputs": [],
   "source": [
    "regressor = MLPRegressor(max_iter=2000)\n",
    "nn_cvs = cross_val_score(regressor, trainInputsScaledNoPCA, trainTargets, cv=25, scoring='neg_mean_squared_error')"
   ]
  },
  {
   "cell_type": "code",
   "execution_count": null,
   "id": "720cacee",
   "metadata": {},
   "outputs": [],
   "source": [
    "fig = plt.figure(figsize =(6, 7))\n",
    "ax = fig.add_axes([0, 0, 1, 1])\n",
    "bp = ax.boxplot(nn_cvs)\n",
    "plt.show()"
   ]
  },
  {
   "cell_type": "code",
   "execution_count": null,
   "id": "8bbf727a",
   "metadata": {},
   "outputs": [],
   "source": [
    "regressor = MLPRegressor(max_iter=2000)\n",
    "regressor.fit(trainInputsPCA, trainTargets)\n",
    "outputs = regressor.predict(testInputsScaled)"
   ]
  },
  {
   "cell_type": "code",
   "execution_count": null,
   "id": "e4105c8f",
   "metadata": {},
   "outputs": [],
   "source": [
    "plt.plot(regressor.loss_curve_)\n",
    "plt.title(\"Loss Curve\")\n",
    "plt.xlabel('Iterations')\n",
    "plt.ylabel('Loss')\n",
    "plt.show()"
   ]
  },
  {
   "cell_type": "code",
   "execution_count": null,
   "id": "5e6af588",
   "metadata": {},
   "outputs": [],
   "source": [
    "print(\"MSE: \" + str(mean_squared_error(testTargets, outputs)))"
   ]
  },
  {
   "cell_type": "code",
   "execution_count": null,
   "id": "451f42a5",
   "metadata": {},
   "outputs": [],
   "source": [
    "outputs = regressor.predict(trainInputsScaled)\n",
    "print(\"MSE: \" + str(mean_squared_error(trainTargets, outputs)))"
   ]
  },
  {
   "cell_type": "markdown",
   "id": "4789f8c1",
   "metadata": {},
   "source": [
    "## Support Vector Machine"
   ]
  },
  {
   "cell_type": "code",
   "execution_count": 92,
   "id": "c72b3821",
   "metadata": {},
   "outputs": [],
   "source": [
    "classifier = svm.SVR(gamma=\"auto\")\n",
    "classifier.fit(trainInputsPCA, trainTargets_y1.ravel())\n",
    "outputs = classifier.predict(testInputsScaled)"
   ]
  }
 ],
 "metadata": {
  "kernelspec": {
   "display_name": "Python 3 (ipykernel)",
   "language": "python",
   "name": "python3"
  },
  "language_info": {
   "codemirror_mode": {
    "name": "ipython",
    "version": 3
   },
   "file_extension": ".py",
   "mimetype": "text/x-python",
   "name": "python",
   "nbconvert_exporter": "python",
   "pygments_lexer": "ipython3",
   "version": "3.8.10"
  }
 },
 "nbformat": 4,
 "nbformat_minor": 5
}
