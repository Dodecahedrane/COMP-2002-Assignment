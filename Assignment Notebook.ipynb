{
 "cells": [
  {
   "cell_type": "markdown",
   "id": "4775edfb",
   "metadata": {},
   "source": [
    "# COMP 2002 Intro to AI\n",
    "## Assignment"
   ]
  },
  {
   "cell_type": "markdown",
   "id": "2adaa1f3",
   "metadata": {},
   "source": [
    "This assignment contributes 70% of the overall module mark for COMP2002 and is an individual\n",
    "assignment. You must submit the deliverables to the DLE by the specified submission dates.\n",
    "\n",
    "The coursework has two parts – one is a machine learning exercise and the second is about\n",
    "evolutionary computation. You must complete and submit both parts. Each part is worth 50% of\n",
    "the coursework mark."
   ]
  },
  {
   "cell_type": "markdown",
   "id": "9af0e8a5",
   "metadata": {},
   "source": [
    "# Part 1 - ML\n",
    "\n",
    "You have been provided with datasets relating to the energy efficiency of buildings. Your task is to\n",
    "train regression models that predict two indicators of energy efficiency based on 8 numerical inputs."
   ]
  },
  {
   "cell_type": "markdown",
   "id": "9f71cb91",
   "metadata": {},
   "source": [
    "## Task 1.1 - Data preparation \n",
    "\n",
    "The first phase of the work requires you to load the data you have been provided with into your Python\n",
    "program. Before the data can be used to train and test your models you must first prepare it – this\n",
    "means that the inputs must be normalized. There is no missing data in the dataset.\n",
    "\n",
    "(10% of total mark)"
   ]
  },
  {
   "cell_type": "markdown",
   "id": "4e0b5f51",
   "metadata": {},
   "source": [
    "## Task 1.2 - Regression \n",
    "\n",
    "Having prepared the data you must now build a regression tool that can predict new points. Use the\n",
    "following regression implementations within the scikit-learn package to construct predictors for the\n",
    "dataset:\n",
    "\n",
    "- Random Forest (sklearn.ensemble.RandomForestRegressor)\n",
    "- Neural Network (sklearn.neural_network.MLPRegressor)\n",
    "- Support Vector Machine (sklearn.svm.SVR)\n",
    "\n",
    "You must demonstrate that each regressor is capable of providing a prediction for a given input.\n",
    "\n",
    "(20% of total mark)"
   ]
  },
  {
   "cell_type": "markdown",
   "id": "175d6fe1",
   "metadata": {},
   "source": [
    "## Task 1.3 – Assessment of regression \n",
    "\n",
    "The regression models you have used in the previous task must be assessed. To do this you are\n",
    "required to assess the mean square error rate for each model. You may use the MSE implementation\n",
    "available in scikit-learn to do this. It is not sufficient to report a single MSE rate. You must use cross\n",
    "validation to report training and testing results and report these values using a boxplot.\n",
    "\n",
    "(20% of total mark)"
   ]
  },
  {
   "cell_type": "markdown",
   "id": "bf03b570",
   "metadata": {},
   "source": [
    "## Import Required Libraries"
   ]
  },
  {
   "cell_type": "code",
   "execution_count": 1,
   "id": "6fbf7c34",
   "metadata": {},
   "outputs": [],
   "source": [
    "import pandas as pandas\n",
    "import numpy as np \n",
    "import matplotlib.pyplot as plt\n",
    "\n",
    "from sklearn.decomposition import PCA\n",
    "from sklearn.ensemble import RandomForestRegressor\n",
    "from sklearn.model_selection import train_test_split\n",
    "from sklearn.metrics import mean_squared_error, mean_absolute_error\n",
    "from sklearn.preprocessing import MinMaxScaler\n",
    "from sklearn.preprocessing import StandardScaler\n",
    "from sklearn.neural_network import MLPRegressor\n",
    "from sklearn import svm\n",
    "from sklearn.model_selection import cross_validate, cross_val_score, cross_val_predict"
   ]
  },
  {
   "cell_type": "markdown",
   "id": "f871d2c6",
   "metadata": {},
   "source": [
    "## Data Preparation"
   ]
  },
  {
   "cell_type": "markdown",
   "id": "89760b0a",
   "metadata": {},
   "source": [
    "### Load with Pandas"
   ]
  },
  {
   "cell_type": "code",
   "execution_count": 2,
   "id": "7d10a453",
   "metadata": {},
   "outputs": [
    {
     "name": "stdout",
     "output_type": "stream",
     "text": [
      "       X1     X2     X3      X4   X5  X6   X7  X8     Y1     Y2\n",
      "0    0.98  514.5  294.0  110.25  7.0   2  0.0   0  15.55  21.33\n",
      "1    0.98  514.5  294.0  110.25  7.0   3  0.0   0  15.55  21.33\n",
      "2    0.98  514.5  294.0  110.25  7.0   4  0.0   0  15.55  21.33\n",
      "3    0.98  514.5  294.0  110.25  7.0   5  0.0   0  15.55  21.33\n",
      "4    0.90  563.5  318.5  122.50  7.0   2  0.0   0  20.84  28.28\n",
      "..    ...    ...    ...     ...  ...  ..  ...  ..    ...    ...\n",
      "763  0.64  784.0  343.0  220.50  3.5   5  0.4   5  17.88  21.40\n",
      "764  0.62  808.5  367.5  220.50  3.5   2  0.4   5  16.54  16.88\n",
      "765  0.62  808.5  367.5  220.50  3.5   3  0.4   5  16.44  17.11\n",
      "766  0.62  808.5  367.5  220.50  3.5   4  0.4   5  16.48  16.61\n",
      "767  0.62  808.5  367.5  220.50  3.5   5  0.4   5  16.64  16.03\n",
      "\n",
      "[768 rows x 10 columns]\n"
     ]
    }
   ],
   "source": [
    "data = pandas.read_excel(\"ENB2012_data.xlsx\")\n",
    "\n",
    "print(data)"
   ]
  },
  {
   "cell_type": "markdown",
   "id": "11989b6a",
   "metadata": {},
   "source": [
    "### Extract the Data"
   ]
  },
  {
   "cell_type": "code",
   "execution_count": 3,
   "id": "31025230",
   "metadata": {},
   "outputs": [],
   "source": [
    "inputs = data.values[:,:8].astype(float)\n",
    "targets = data.values[:,8:].astype(float)\n",
    "\n",
    "targets_y1 = targets[:,:1].astype(float)\n",
    "targets_y2 = targets[:,1:].astype(float)"
   ]
  },
  {
   "cell_type": "markdown",
   "id": "7804b1b4",
   "metadata": {},
   "source": [
    "### Shuffel the Array\n",
    "\n",
    "They look unordered, but shuffeling is never a bad idea."
   ]
  },
  {
   "cell_type": "code",
   "execution_count": 4,
   "id": "72733890",
   "metadata": {},
   "outputs": [],
   "source": [
    "def shuffle(a, b):\n",
    "    assert len(a) == len(b)\n",
    "    p = np.random.permutation(len(a))\n",
    "    return a[p], b[p]\n",
    "\n",
    "inputs, targets  = shuffle(inputs, targets)"
   ]
  },
  {
   "cell_type": "markdown",
   "id": "6abdbda9",
   "metadata": {},
   "source": [
    "### Reduce the Dimensionality"
   ]
  },
  {
   "cell_type": "code",
   "execution_count": 5,
   "id": "6318af93",
   "metadata": {},
   "outputs": [
    {
     "name": "stdout",
     "output_type": "stream",
     "text": [
      "Number of Dimensions:  (768, 10)\n"
     ]
    }
   ],
   "source": [
    "print(\"Number of Dimensions: \", data.shape)"
   ]
  },
  {
   "cell_type": "markdown",
   "id": "83524b81",
   "metadata": {},
   "source": [
    "### How many dimensions should we reduce it to?\n",
    "\n",
    "We should check to see if there is an optimal number of dimensions for this data that give both good accuracy and reduced compute compared to the full dataset.\n",
    "\n",
    "The plot bellow shows cumulative explained varience for different number of dimensions (ie pricipal components)\n",
    "\n",
    "Cumulative varience is the percentage (in this case expressed as a decimal) of the real varience in the data that can be expressed with a number of dimensions. The larger the number of dimensions, the larger the amount of varience that can be expressed. 95% is a good aim, this is near the top of the slope, but not so close it requires vastly more compute than a smaller value.\n",
    "\n",
    "From this graph we can see that 1 dimension can represent the entire datasets CEV to a near 100% accuracy. So we will use SKLearns PCA module to transform the data to 1 dimensions. This is to reduce the computational complexity of the problem."
   ]
  },
  {
   "cell_type": "code",
   "execution_count": 6,
   "id": "2a57dd58",
   "metadata": {},
   "outputs": [
    {
     "data": {
      "text/plain": [
       "Text(0, 0.5, 'Cumulative Explained Variance')"
      ]
     },
     "execution_count": 6,
     "metadata": {},
     "output_type": "execute_result"
    },
    {
     "data": {
      "image/png": "[encoded data removed]",
      "text/plain": [
       "<Figure size 432x288 with 1 Axes>"
      ]
     },
     "metadata": {
      "needs_background": "light"
     },
     "output_type": "display_data"
    }
   ],
   "source": [
    "pca=PCA().fit(inputs)\n",
    "plt.plot(np.cumsum(pca.explained_variance_ratio_))\n",
    "plt.xlabel('No. of dimensions')\n",
    "plt.ylabel('Cumulative Explained Variance')"
   ]
  },
  {
   "cell_type": "markdown",
   "id": "18fd94bb",
   "metadata": {},
   "source": [
    "### PCA\n",
    "\n",
    "We will now reduce the dimensionality of the data (both testing and training sets)"
   ]
  },
  {
   "cell_type": "code",
   "execution_count": 7,
   "id": "7e19cbc6",
   "metadata": {},
   "outputs": [],
   "source": [
    "pca = PCA(1)  \n",
    "\n",
    "inputsPCA = pca.fit_transform(inputs)"
   ]
  },
  {
   "cell_type": "code",
   "execution_count": 8,
   "id": "a8cb85e3",
   "metadata": {},
   "outputs": [
    {
     "data": {
      "text/plain": [
       "(768, 1)"
      ]
     },
     "execution_count": 8,
     "metadata": {},
     "output_type": "execute_result"
    }
   ],
   "source": [
    "inputsPCA.shape"
   ]
  },
  {
   "cell_type": "markdown",
   "id": "8558e6ea",
   "metadata": {},
   "source": [
    "### Plot Some Data\n",
    "\n",
    "We need to scale this data using the [Min Max Scaler](https://scikit-learn.org/stable/modules/generated/sklearn.preprocessing.MinMaxScaler.html)"
   ]
  },
  {
   "cell_type": "code",
   "execution_count": 9,
   "id": "4b681f2f",
   "metadata": {
    "scrolled": true
   },
   "outputs": [
    {
     "data": {
      "image/png": "[encoded data removed]",
      "text/plain": [
       "<Figure size 432x288 with 2 Axes>"
      ]
     },
     "metadata": {
      "needs_background": "light"
     },
     "output_type": "display_data"
    }
   ],
   "source": [
    "plt.figure()\n",
    "plt.scatter(inputsPCA[:,0], targets[:,:1], c= targets[:,0])\n",
    "plt.title(\"Inputs v Y1 Target\")\n",
    "plt.colorbar()\n",
    "plt.xlabel('Input')\n",
    "plt.ylabel('Y1 Target')\n",
    "plt.show()"
   ]
  },
  {
   "cell_type": "code",
   "execution_count": 10,
   "id": "8a548784",
   "metadata": {},
   "outputs": [],
   "source": [
    "scaler = MinMaxScaler()\n",
    "\n",
    "inputsScaled = scaler.fit_transform(inputsPCA)\n",
    "inputsScaledNoPCA = scaler.fit_transform(inputs)\n",
    "\n",
    "targetsScaled = scaler.fit_transform(targets)\n",
    "\n",
    "targetsScaled_y1 = scaler.fit_transform(targets_y1)\n",
    "targetsScaled_y2 = scaler.fit_transform(targets_y2)"
   ]
  },
  {
   "cell_type": "markdown",
   "id": "e0a2df2f",
   "metadata": {},
   "source": [
    "We can now see that the data has been scalled so the minimum input/target value is now 0 and the maximum input/target value is 1.\n",
    "\n",
    "This reduction in the range of the data makes it much easier for the models to train, having the effect of making them much more accurate. However, for some data it isnt practical to scale the target values."
   ]
  },
  {
   "cell_type": "code",
   "execution_count": 11,
   "id": "386db3e9",
   "metadata": {
    "scrolled": true
   },
   "outputs": [
    {
     "data": {
      "image/png": "[encoded data removed]",
      "text/plain": [
       "<Figure size 432x288 with 2 Axes>"
      ]
     },
     "metadata": {
      "needs_background": "light"
     },
     "output_type": "display_data"
    }
   ],
   "source": [
    "plt.figure()\n",
    "plt.scatter(inputsScaled[:,0], targetsScaled[:,:1], c= targets[:,0])\n",
    "plt.title(\"Inputs v Y1 Target\")\n",
    "plt.colorbar()\n",
    "plt.xlabel('Input')\n",
    "plt.ylabel('Y1 Target')\n",
    "plt.show()"
   ]
  },
  {
   "cell_type": "markdown",
   "id": "e212607c",
   "metadata": {},
   "source": [
    "## Random Forest"
   ]
  },
  {
   "cell_type": "code",
   "execution_count": 12,
   "id": "47bce8bb",
   "metadata": {},
   "outputs": [],
   "source": [
    "rf = RandomForestRegressor()\n",
    "rfCvPca = cross_validate(rf, inputsScaled, targetsScaled, cv=25, return_train_score=True, \n",
    "                         scoring='neg_mean_squared_error')"
   ]
  },
  {
   "cell_type": "code",
   "execution_count": 13,
   "id": "516f93e8",
   "metadata": {},
   "outputs": [],
   "source": [
    "rf = RandomForestRegressor()\n",
    "rfCvNoPca = cross_validate(rf, inputsScaledNoPCA, targetsScaled, cv=25, return_train_score=True, \n",
    "                           scoring='neg_mean_squared_error')"
   ]
  },
  {
   "cell_type": "code",
   "execution_count": 14,
   "id": "1152a5d2",
   "metadata": {},
   "outputs": [],
   "source": [
    "rfResultsTrain = {\"RF w/ PCA - Test Score\": rfCvPca['test_score'], \n",
    "                  \"RF w/o PCA - Test Score\": rfCvNoPca['test_score']}\n",
    "\n",
    "rfResultsTest = {\"RF w/ PCA - Train Score\": rfCvPca['train_score'],\n",
    "                 \"RF w/o PCA - Train Score\": rfCvNoPca['train_score']}"
   ]
  },
  {
   "cell_type": "code",
   "execution_count": 15,
   "id": "767dda60",
   "metadata": {},
   "outputs": [
    {
     "data": {
      "image/png": "[encoded data removed]",
      "text/plain": [
       "<Figure size 432x288 with 1 Axes>"
      ]
     },
     "metadata": {
      "needs_background": "light"
     },
     "output_type": "display_data"
    }
   ],
   "source": [
    "fig, ax = plt.subplots()\n",
    "plt.title(\"RF with and without PCA - Testing Scores\")\n",
    "ax.boxplot(rfResultsTrain.values())\n",
    "ax.set_xticklabels(rfResultsTrain.keys())\n",
    "plt.show()"
   ]
  },
  {
   "cell_type": "code",
   "execution_count": 16,
   "id": "c4420c11",
   "metadata": {},
   "outputs": [
    {
     "data": {
      "image/png": "[encoded data removed]",
      "text/plain": [
       "<Figure size 432x288 with 1 Axes>"
      ]
     },
     "metadata": {
      "needs_background": "light"
     },
     "output_type": "display_data"
    }
   ],
   "source": [
    "fig, ax = plt.subplots()\n",
    "plt.title(\"RF with and without PCA - Training Scores\")\n",
    "ax.boxplot(rfResultsTest.values())\n",
    "ax.set_xticklabels(rfResultsTest.keys())\n",
    "plt.show()"
   ]
  },
  {
   "cell_type": "markdown",
   "id": "03ba2119",
   "metadata": {},
   "source": [
    "### Random Forest Results\n",
    "\n",
    "The random forset produced some unusual results, it performed much better on the data that had not undergone PCA compared to the data which was reduced down to 1 dimension. \n",
    "\n",
    "The non-reduced dataset has a much lower average error on the test data, -0.001 compared to -0.0065 for the reduced dataset. It also had a significantly smaller IQR compared to the reduced dataset."
   ]
  },
  {
   "cell_type": "markdown",
   "id": "f899355f",
   "metadata": {},
   "source": [
    "## Neural Network"
   ]
  },
  {
   "cell_type": "code",
   "execution_count": 17,
   "id": "33c49169",
   "metadata": {},
   "outputs": [],
   "source": [
    "regressor = MLPRegressor(max_iter=15000)\n",
    "nnCvPca = cross_validate(regressor, inputsScaled, targetsScaled, cv=25, return_train_score=True, \n",
    "                         scoring='neg_mean_squared_error')"
   ]
  },
  {
   "cell_type": "code",
   "execution_count": 18,
   "id": "263c2119",
   "metadata": {},
   "outputs": [],
   "source": [
    "regressor = MLPRegressor(max_iter=15000)\n",
    "nnCvNoPca = cross_validate(regressor, inputsScaledNoPCA, targetsScaled, cv=25, return_train_score=True, \n",
    "                           scoring='neg_mean_squared_error')"
   ]
  },
  {
   "cell_type": "code",
   "execution_count": 19,
   "id": "6d42e907",
   "metadata": {},
   "outputs": [],
   "source": [
    "nnResultsTrain = {\"NN w/ PCA - Test Score\": nnCvPca['test_score'], \n",
    "                  \"NN w/o PCA - Test Score\": nnCvNoPca['test_score']}\n",
    "\n",
    "nnResultsTest = {\"NN w/ PCA - Train Score\": nnCvPca['train_score'],\n",
    "                  \"NN w/o PCA - Train Score\": nnCvNoPca['train_score']}"
   ]
  },
  {
   "cell_type": "code",
   "execution_count": 20,
   "id": "10c7b486",
   "metadata": {},
   "outputs": [
    {
     "data": {
      "image/png": "[encoded data removed]",
      "text/plain": [
       "<Figure size 432x288 with 1 Axes>"
      ]
     },
     "metadata": {
      "needs_background": "light"
     },
     "output_type": "display_data"
    }
   ],
   "source": [
    "fig, ax = plt.subplots()\n",
    "plt.title(\"NN with and without PCA - Testing Scores\")\n",
    "ax.boxplot(nnResultsTrain.values())\n",
    "ax.set_xticklabels(nnResultsTrain.keys())\n",
    "plt.show()"
   ]
  },
  {
   "cell_type": "code",
   "execution_count": 21,
   "id": "16bf84e2",
   "metadata": {},
   "outputs": [
    {
     "data": {
      "image/png": "[encoded data removed]",
      "text/plain": [
       "<Figure size 432x288 with 1 Axes>"
      ]
     },
     "metadata": {
      "needs_background": "light"
     },
     "output_type": "display_data"
    }
   ],
   "source": [
    "fig, ax = plt.subplots()\n",
    "plt.title(\"NN with and without PCA - Training Scores\")\n",
    "ax.boxplot(nnResultsTest.values())\n",
    "ax.set_xticklabels(nnResultsTest.keys())\n",
    "plt.show()"
   ]
  },
  {
   "cell_type": "markdown",
   "id": "793c797f",
   "metadata": {},
   "source": [
    "### Neural Network Results\n",
    "\n",
    "The neural network also produced some unusual results, again performing much better on the data that had not undergone PCA compared to the data which was reduced down to 1 dimension. \n",
    "\n",
    "The non-reduced dataset has a much lower average error on the test data, -0.005 compared to -0.03 for the reduced dataset. It also had a significantly smaller IQR compared to the reduced dataset."
   ]
  },
  {
   "cell_type": "markdown",
   "id": "4789f8c1",
   "metadata": {},
   "source": [
    "## Support Vector Machine"
   ]
  },
  {
   "cell_type": "markdown",
   "id": "8603682f",
   "metadata": {},
   "source": [
    "The SVM can only predict a single output variable, because our dataset has two output variables (Y1 and Y2) we need to train two seperate SVMs."
   ]
  },
  {
   "cell_type": "markdown",
   "id": "ed8e43a4",
   "metadata": {},
   "source": [
    "### Y1"
   ]
  },
  {
   "cell_type": "code",
   "execution_count": 22,
   "id": "44a9252c",
   "metadata": {},
   "outputs": [],
   "source": [
    "svr = svm.SVR(gamma=\"auto\")\n",
    "svmCvPca_y1 = cross_validate(svr, inputsScaled, targetsScaled_y1.ravel(), cv=25, return_train_score=True, \n",
    "                           scoring='neg_mean_squared_error')"
   ]
  },
  {
   "cell_type": "code",
   "execution_count": 23,
   "id": "e05f91e3",
   "metadata": {},
   "outputs": [],
   "source": [
    "svr = svm.SVR(gamma=\"auto\")\n",
    "svmCvNoPca_y1 = cross_validate(svr, inputsScaledNoPCA, targetsScaled_y1.ravel(), cv=25, return_train_score=True, \n",
    "                           scoring='neg_mean_squared_error')"
   ]
  },
  {
   "cell_type": "code",
   "execution_count": 24,
   "id": "4ef7aec5",
   "metadata": {},
   "outputs": [],
   "source": [
    "svmResultsTrain_y1 = {\"SVM w/ PCA - Test Score\": svmCvPca_y1['test_score'], \n",
    "                  \"SVM w/o PCA - Test Score\": svmCvNoPca_y1['test_score']}\n",
    "\n",
    "svmResultsTest_y1 = {\"SVM w/ PCA - Train Score\": svmCvPca_y1['train_score'],\n",
    "                  \"SVM w/o PCA - Train Score\": svmCvNoPca_y1['train_score']}"
   ]
  },
  {
   "cell_type": "code",
   "execution_count": 25,
   "id": "c10daedf",
   "metadata": {},
   "outputs": [
    {
     "data": {
      "image/png": "[encoded data removed]",
      "text/plain": [
       "<Figure size 432x288 with 1 Axes>"
      ]
     },
     "metadata": {
      "needs_background": "light"
     },
     "output_type": "display_data"
    }
   ],
   "source": [
    "fig, ax = plt.subplots()\n",
    "plt.title(\"SVM Y1 with and without PCA - Testing Scores\")\n",
    "ax.boxplot(svmResultsTrain_y1.values())\n",
    "ax.set_xticklabels(svmResultsTrain_y1.keys())\n",
    "plt.show()"
   ]
  },
  {
   "cell_type": "code",
   "execution_count": 26,
   "id": "5596ae89",
   "metadata": {
    "scrolled": true
   },
   "outputs": [
    {
     "data": {
      "image/png": "[encoded data removed]",
      "text/plain": [
       "<Figure size 432x288 with 1 Axes>"
      ]
     },
     "metadata": {
      "needs_background": "light"
     },
     "output_type": "display_data"
    }
   ],
   "source": [
    "fig, ax = plt.subplots()\n",
    "plt.title(\"SVM Y1 with and without PCA - Training Scores\")\n",
    "ax.boxplot(svmResultsTest_y1.values())\n",
    "ax.set_xticklabels(svmResultsTest_y1.keys())\n",
    "plt.show()"
   ]
  },
  {
   "cell_type": "markdown",
   "id": "e35fd894",
   "metadata": {},
   "source": [
    "### Y2"
   ]
  },
  {
   "cell_type": "code",
   "execution_count": 27,
   "id": "c68a4dc9",
   "metadata": {},
   "outputs": [],
   "source": [
    "svr = svm.SVR(gamma=\"auto\")\n",
    "svmCvPca_y2 = cross_validate(svr, inputsScaled, targetsScaled_y2.ravel(), cv=25, return_train_score=True, \n",
    "                           scoring='neg_mean_squared_error')"
   ]
  },
  {
   "cell_type": "code",
   "execution_count": 28,
   "id": "0ace7e8b",
   "metadata": {},
   "outputs": [],
   "source": [
    "supportVectorMachine = svm.SVR(gamma=\"auto\")\n",
    "svmCvNoPca_y2 = cross_validate(svr, inputsScaledNoPCA, targetsScaled_y2.ravel(), cv=25, return_train_score=True, \n",
    "                           scoring='neg_mean_squared_error')"
   ]
  },
  {
   "cell_type": "code",
   "execution_count": 29,
   "id": "16106d0e",
   "metadata": {},
   "outputs": [],
   "source": [
    "svmResultsTrain_y2 = {\"SVM w/ PCA - Test Score\": svmCvPca_y2['test_score'], \n",
    "                  \"SVM w/o PCA - Test Score\": svmCvNoPca_y2['test_score']}\n",
    "\n",
    "svmResultsTest_y2 = {\"SVM w/ PCA - Train Score\": svmCvPca_y2['train_score'],\n",
    "                  \"SVM w/o PCA - Train Score\": svmCvNoPca_y2['train_score']}"
   ]
  },
  {
   "cell_type": "code",
   "execution_count": 30,
   "id": "916fa3e0",
   "metadata": {},
   "outputs": [
    {
     "data": {
      "image/png": "[encoded data removed]",
      "text/plain": [
       "<Figure size 432x288 with 1 Axes>"
      ]
     },
     "metadata": {
      "needs_background": "light"
     },
     "output_type": "display_data"
    }
   ],
   "source": [
    "fig, ax = plt.subplots()\n",
    "plt.title(\"SVM Y2 with and without PCA - Testing Scores\")\n",
    "ax.boxplot(svmResultsTrain_y2.values())\n",
    "ax.set_xticklabels(svmResultsTrain_y2.keys())\n",
    "plt.show()"
   ]
  },
  {
   "cell_type": "code",
   "execution_count": 31,
   "id": "9735039a",
   "metadata": {},
   "outputs": [
    {
     "data": {
      "image/png": "[encoded data removed]",
      "text/plain": [
       "<Figure size 432x288 with 1 Axes>"
      ]
     },
     "metadata": {
      "needs_background": "light"
     },
     "output_type": "display_data"
    }
   ],
   "source": [
    "fig, ax = plt.subplots()\n",
    "plt.title(\"SVM Y2 with and without PCA - Training Scores\")\n",
    "ax.boxplot(svmResultsTest_y2.values())\n",
    "ax.set_xticklabels(svmResultsTest_y2.keys())\n",
    "plt.show()"
   ]
  },
  {
   "cell_type": "markdown",
   "id": "bfa563f9",
   "metadata": {},
   "source": [
    "### Support Vector Machine Results\n",
    "\n",
    "The support vector machine did not produce the same interesting results as seen with the random forest and neural network. With the average for Y1 and Y2 being approximatly -0.08 and -0.07 respectivly, with little difference between the reduced and non-reduced dataset.\n",
    "\n",
    "Both had an IQR that was approximatly the same, again with little difference between the reduced and non reduced data."
   ]
  },
  {
   "cell_type": "markdown",
   "id": "9d1253fc",
   "metadata": {},
   "source": [
    "## Predict a Value With Each Model\n",
    "\n",
    "Bellow the code trains each model on all the data, and then outputs a predidicted value based off an example input.\n",
    "\n",
    "Note, that as the input is scaled, you would need to relate the output onto a graph of the targets of training data to see how it fitted in relative to the original dataset."
   ]
  },
  {
   "cell_type": "code",
   "execution_count": 75,
   "id": "40c506eb",
   "metadata": {},
   "outputs": [],
   "source": [
    "scaler = MinMaxScaler()\n",
    "scaler.fit(inputs)\n",
    "\n",
    "test = [[0.5,658,300,150,3.5,4,0.1,2]]\n",
    "\n",
    "\n",
    "testScaled = scaler.transform(test)"
   ]
  },
  {
   "cell_type": "code",
   "execution_count": 76,
   "id": "21c75fd8",
   "metadata": {},
   "outputs": [
    {
     "data": {
      "text/plain": [
       "array([[-0.33333333,  0.48809524,  0.32069971,  0.36054422,  0.        ,\n",
       "         0.66666667,  0.25      ,  0.4       ]])"
      ]
     },
     "execution_count": 76,
     "metadata": {},
     "output_type": "execute_result"
    }
   ],
   "source": [
    "testScaled"
   ]
  },
  {
   "cell_type": "markdown",
   "id": "2e69b861",
   "metadata": {},
   "source": [
    "### Random Forest"
   ]
  },
  {
   "cell_type": "code",
   "execution_count": 77,
   "id": "063cd865",
   "metadata": {},
   "outputs": [
    {
     "data": {
      "text/plain": [
       "array([[0.43570504, 0.33657959]])"
      ]
     },
     "execution_count": 77,
     "metadata": {},
     "output_type": "execute_result"
    }
   ],
   "source": [
    "rf = RandomForestRegressor()\n",
    "rf.fit(inputsScaledNoPCA, targetsScaled)\n",
    "rf.predict(testScaled)"
   ]
  },
  {
   "cell_type": "markdown",
   "id": "f85db3a8",
   "metadata": {},
   "source": [
    "### Neural Network"
   ]
  },
  {
   "cell_type": "code",
   "execution_count": 81,
   "id": "804ad63c",
   "metadata": {},
   "outputs": [
    {
     "data": {
      "text/plain": [
       "array([[0.20475814, 0.26707499]])"
      ]
     },
     "execution_count": 81,
     "metadata": {},
     "output_type": "execute_result"
    }
   ],
   "source": [
    "regressor = MLPRegressor(max_iter=15000)\n",
    "regressor.fit(inputsScaledNoPCA, targetsScaled)\n",
    "regressor.predict(testScaled)"
   ]
  },
  {
   "cell_type": "markdown",
   "id": "48f6b461",
   "metadata": {},
   "source": [
    "### SVM"
   ]
  },
  {
   "cell_type": "code",
   "execution_count": 82,
   "id": "6ef56e27",
   "metadata": {},
   "outputs": [
    {
     "data": {
      "text/plain": [
       "array([0.40727445])"
      ]
     },
     "execution_count": 82,
     "metadata": {},
     "output_type": "execute_result"
    }
   ],
   "source": [
    "svrY1 = svm.SVR(gamma=\"auto\")\n",
    "svrY1.fit(inputsScaledNoPCA, targetsScaled_y1.ravel())\n",
    "svrY1.predict(testScaled)"
   ]
  },
  {
   "cell_type": "code",
   "execution_count": 83,
   "id": "69de893e",
   "metadata": {},
   "outputs": [
    {
     "data": {
      "text/plain": [
       "array([0.34494246])"
      ]
     },
     "execution_count": 83,
     "metadata": {},
     "output_type": "execute_result"
    }
   ],
   "source": [
    "svrY2 = svm.SVR(gamma=\"auto\")\n",
    "svrY1.fit(inputsScaledNoPCA, targetsScaled_y2.ravel())\n",
    "svrY1.predict(testScaled)"
   ]
  },
  {
   "cell_type": "markdown",
   "id": "9dd69ac5",
   "metadata": {},
   "source": [
    "## Overall Results\n",
    "\n",
    "In summary the random forest is the best choice, with performance more than an order of magnitude more accurate compared the the neural network. Along with this the training time was pretty similar to the neural network.\n",
    "\n",
    "SVM is a clear third place however, with drastically worse average scores than the neural network and random forest."
   ]
  },
  {
   "cell_type": "markdown",
   "id": "d3fe4be3",
   "metadata": {},
   "source": [
    "## PCA Anomalies \n",
    "\n",
    "It's not competly clear why the classifieres all train poorly on the reduced dataset, regardless of the CEV graph showing that 1 dimension should represent all of the variance in the data. Presumably there is some element of the data that isn't well represented when scaled down using PCA. "
   ]
  },
  {
   "cell_type": "markdown",
   "id": "fb779730",
   "metadata": {},
   "source": [
    "# Part 2 - Optimisation\n",
    "\n",
    "Implement an optimiser to solve a timetabling problem for a university. A file has been provided that describes modules, and lists modules against which they cannot be scheduled. A module **consists of one lecture per week and one or more lab sessions**.\n",
    "\n",
    "Optimise a timetable so that session is scheduled once per week in such a way that\n",
    "timetable constraints are minimised. There are **20 sessions per week**. You have **one lecture theatre\n",
    "and two labs available**.\n",
    "\n",
    "Relevant constraints for this assessment are:\n",
    "\n",
    "- A session cannot be scheduled for a time when any of its students or staff are in another session (concurrence constraints). The sessions for a module that clash are shown in the data file.\n",
    "- A lab session cannot occur in the week before its corresponding lecture has taken place (precedence constraints).\n",
    "\n",
    "You must design and implement a fitness function by taking the **number of the concurrence constraints and multiplying them with the number of precedence constraints**. This fitness function should be minimised – the ideal timetable is one with no constraint violations at all, in which case the function will return ~0~ 1. \n",
    "\n",
    "To note, as the fitness functions multiplies the constraints the best output is 1, this had to be changed as previously if either was constraint was 0, the fitness function would output 0 incorrectly."
   ]
  },
  {
   "cell_type": "markdown",
   "id": "d4e3c724",
   "metadata": {},
   "source": [
    "## Task 2.1 – Generation of random solutions (10% of total mark)\n",
    "\n",
    "The first task is to implement the fitness function. Your code should read the file provided and given\n",
    "a timetable it should return the quality of the schedule in terms of the constraint violations, as described\n",
    "above. The function should be called the fitness of a random solution printed out.\n",
    "\n",
    "NOTE - I have assumed that a lecture can take place in a lab, but a lab cannot take place in a lecture theatre"
   ]
  },
  {
   "cell_type": "markdown",
   "id": "d1d588a6",
   "metadata": {},
   "source": [
    "## Task 2.2 – Algorithm implementation (25% of total mark)\n",
    "\n",
    "Implement a hillclimber to optimise the problem implemented in Task 2.1.\n",
    "\n",
    "The algorithm must have the following features:\n",
    "\n",
    "- It should be possible to use one of two mutation operators – one (session replace) mutates a solution by placing a session into another slot in the timetable, and the other is a ruin-andrecreate operator (which generates a completely new solution at random).\n",
    "- At each iteration your single parent solution should be used to generate a single child operator by using one of the mutation operators (either the swap or the ruin-and-recreate for the entire run of the algorithm).\n",
    "- At the end of an iteration the algorithm should retain the parent or child that has the best fitness.\n",
    "- At the end of an iteration the best (parent or child) solution’s fitness should be added to a list of the best fitnesses, which is returned along with the best solution at the end of the optimisation."
   ]
  },
  {
   "cell_type": "markdown",
   "id": "a06719f9",
   "metadata": {},
   "source": [
    "## Task 2.3 – Visualisation of results (15% of total mark)\n",
    "\n",
    "Run the algorithm twice for 500 iterations – once for each mutation operator. Repeat this 30 times, so that you get 30 fitness lists for the swap operator and 30 fitness lists for the ruin-andrecreate operator. \n",
    "\n",
    "Plot the average, maximum and minimum fitness at each iteration for each operator, plot them on the same graph so that they can be compared. \n",
    "\n",
    "You should be able to see which optimiser is best – state which in the notebook, and say why."
   ]
  },
  {
   "cell_type": "markdown",
   "id": "39d62af8",
   "metadata": {},
   "source": [
    "### Import Required Librairies"
   ]
  },
  {
   "cell_type": "code",
   "execution_count": 32,
   "id": "4faae53d",
   "metadata": {},
   "outputs": [],
   "source": [
    "import copy as copy\n",
    "import random as random\n",
    "import matplotlib.pyplot as plt"
   ]
  },
  {
   "cell_type": "markdown",
   "id": "d588c9d5",
   "metadata": {},
   "source": [
    "## Import the Modules"
   ]
  },
  {
   "cell_type": "code",
   "execution_count": 33,
   "id": "d51a8c07",
   "metadata": {},
   "outputs": [],
   "source": [
    "def makeModule(line):\n",
    "    m = {\"code\": \"\",\n",
    "         \"lecturer\":\"\",\n",
    "         \"labs\":0,\n",
    "         \"noclash\":[]\n",
    "        }\n",
    "    \n",
    "    m[\"code\"] = line[:6]\n",
    "    \n",
    "    lecture = line[7:]\n",
    "    count = 7\n",
    "    for c in lecture:\n",
    "        if c == \"|\":\n",
    "            break\n",
    "        count = count + 1\n",
    "    \n",
    "    m[\"lecturer\"] = line[7:count]\n",
    "        \n",
    "    m[\"labs\"] = line[count+1:count+2]\n",
    "    \n",
    "    \n",
    "    m[\"noclash\"] = line[count+3:].split(\",\")\n",
    "        \n",
    "    \n",
    "    \n",
    "    \n",
    "    \n",
    "    return m"
   ]
  },
  {
   "cell_type": "code",
   "execution_count": 34,
   "id": "7e99967b",
   "metadata": {},
   "outputs": [],
   "source": [
    "f = open('Modules.txt', 'r')\n",
    "Lines = f.readlines()\n",
    "\n",
    "modulesList = []\n",
    " \n",
    "for line in Lines:\n",
    "    m = makeModule(line.strip())\n",
    "    modulesList.append(m)"
   ]
  },
  {
   "cell_type": "markdown",
   "id": "bc0a3dce",
   "metadata": {},
   "source": [
    "Modules is an array of dictionaries that contain the code, lecture, number of labs and an array of modules it cannot clash with"
   ]
  },
  {
   "cell_type": "code",
   "execution_count": 35,
   "id": "59612ae8",
   "metadata": {},
   "outputs": [
    {
     "data": {
      "text/plain": [
       "[{'code': 'MOD001',\n",
       "  'lecturer': 'Zacharias Karstensen',\n",
       "  'labs': '2',\n",
       "  'noclash': ['MOD002',\n",
       "   'MOD003',\n",
       "   'MOD004',\n",
       "   'MOD005',\n",
       "   'MOD006',\n",
       "   'MOD007',\n",
       "   'MOD008',\n",
       "   'MOD009',\n",
       "   'MOD010',\n",
       "   'MOD013']},\n",
       " {'code': 'MOD002',\n",
       "  'lecturer': 'Dominykas Cleary',\n",
       "  'labs': '2',\n",
       "  'noclash': ['MOD001',\n",
       "   'MOD003',\n",
       "   'MOD004',\n",
       "   'MOD005',\n",
       "   'MOD006',\n",
       "   'MOD007',\n",
       "   'MOD008',\n",
       "   'MOD009',\n",
       "   'MOD010',\n",
       "   'MOD013']},\n",
       " {'code': 'MOD003',\n",
       "  'lecturer': 'Zacharias Karstensen',\n",
       "  'labs': '2',\n",
       "  'noclash': ['MOD001',\n",
       "   'MOD002',\n",
       "   'MOD004',\n",
       "   'MOD005',\n",
       "   'MOD006',\n",
       "   'MOD007',\n",
       "   'MOD008',\n",
       "   'MOD009',\n",
       "   'MOD010',\n",
       "   'MOD011',\n",
       "   'MOD012',\n",
       "   'MOD013']},\n",
       " {'code': 'MOD004',\n",
       "  'lecturer': 'Laila Deniau',\n",
       "  'labs': '1',\n",
       "  'noclash': ['MOD001',\n",
       "   'MOD002',\n",
       "   'MOD003',\n",
       "   'MOD005',\n",
       "   'MOD006',\n",
       "   'MOD007',\n",
       "   'MOD008',\n",
       "   'MOD009',\n",
       "   'MOD010',\n",
       "   'MOD011',\n",
       "   'MOD012',\n",
       "   'MOD013']},\n",
       " {'code': 'MOD005',\n",
       "  'lecturer': 'Brahma O Braonain',\n",
       "  'labs': '2',\n",
       "  'noclash': ['MOD001',\n",
       "   'MOD002',\n",
       "   'MOD003',\n",
       "   'MOD004',\n",
       "   'MOD006',\n",
       "   'MOD007',\n",
       "   'MOD008',\n",
       "   'MOD009',\n",
       "   'MOD010',\n",
       "   'MOD011',\n",
       "   'MOD012']},\n",
       " {'code': 'MOD006',\n",
       "  'lecturer': 'Brahma O Braonain',\n",
       "  'labs': '3',\n",
       "  'noclash': ['MOD001',\n",
       "   'MOD002',\n",
       "   'MOD003',\n",
       "   'MOD004',\n",
       "   'MOD005',\n",
       "   'MOD007',\n",
       "   'MOD008',\n",
       "   'MOD009',\n",
       "   'MOD010',\n",
       "   'MOD011',\n",
       "   'MOD012']},\n",
       " {'code': 'MOD007',\n",
       "  'lecturer': 'Ruh Kerekes',\n",
       "  'labs': '1',\n",
       "  'noclash': ['MOD001',\n",
       "   'MOD002',\n",
       "   'MOD003',\n",
       "   'MOD004',\n",
       "   'MOD005',\n",
       "   'MOD006',\n",
       "   'MOD008',\n",
       "   'MOD009',\n",
       "   'MOD010',\n",
       "   'MOD011',\n",
       "   'MOD014',\n",
       "   'MOD015',\n",
       "   'MOD016',\n",
       "   'MOD017']},\n",
       " {'code': 'MOD008',\n",
       "  'lecturer': 'Brahma O Braonain',\n",
       "  'labs': '2',\n",
       "  'noclash': ['MOD001',\n",
       "   'MOD002',\n",
       "   'MOD003',\n",
       "   'MOD004',\n",
       "   'MOD005',\n",
       "   'MOD006',\n",
       "   'MOD007',\n",
       "   'MOD009',\n",
       "   'MOD010',\n",
       "   'MOD011',\n",
       "   'MOD012',\n",
       "   'MOD014',\n",
       "   'MOD015']},\n",
       " {'code': 'MOD009',\n",
       "  'lecturer': 'Dominykas Cleary',\n",
       "  'labs': '3',\n",
       "  'noclash': ['MOD001',\n",
       "   'MOD002',\n",
       "   'MOD003',\n",
       "   'MOD004',\n",
       "   'MOD005',\n",
       "   'MOD006',\n",
       "   'MOD007',\n",
       "   'MOD008',\n",
       "   'MOD010',\n",
       "   'MOD011',\n",
       "   'MOD012',\n",
       "   'MOD013']},\n",
       " {'code': 'MOD010',\n",
       "  'lecturer': 'Dominykas Cleary',\n",
       "  'labs': '2',\n",
       "  'noclash': ['MOD001',\n",
       "   'MOD002',\n",
       "   'MOD003',\n",
       "   'MOD004',\n",
       "   'MOD005',\n",
       "   'M0D006',\n",
       "   'MOD007',\n",
       "   'MOD008',\n",
       "   'MOD009',\n",
       "   'MOD013']},\n",
       " {'code': 'MOD011',\n",
       "  'lecturer': 'Sumon Kyle',\n",
       "  'labs': '2',\n",
       "  'noclash': ['MOD003',\n",
       "   'MOD004',\n",
       "   'MOD005',\n",
       "   'MOD006',\n",
       "   'MOD007',\n",
       "   'MOD008',\n",
       "   'MOD009',\n",
       "   'MOD012',\n",
       "   'MOD014',\n",
       "   'MOD015',\n",
       "   'MOD016',\n",
       "   'MOD017']},\n",
       " {'code': 'MOD012',\n",
       "  'lecturer': 'Minu Senft',\n",
       "  'labs': '2',\n",
       "  'noclash': ['MOD003',\n",
       "   'MOD04',\n",
       "   'MOD005',\n",
       "   'MOD006',\n",
       "   'MOD007',\n",
       "   'MOD008',\n",
       "   'MOD009',\n",
       "   'MOD011',\n",
       "   'MOD014',\n",
       "   'MOD015']},\n",
       " {'code': 'MOD013',\n",
       "  'lecturer': 'Laila Deniau',\n",
       "  'labs': '1',\n",
       "  'noclash': ['MOD001', 'MOD002', 'MOD003', 'MOD004', 'MOD009', 'MOD010']},\n",
       " {'code': 'MOD014',\n",
       "  'lecturer': 'Sumon Kyle',\n",
       "  'labs': '2',\n",
       "  'noclash': ['MOD007',\n",
       "   'MOD008',\n",
       "   'M0D011',\n",
       "   'MOD012',\n",
       "   'MOD015',\n",
       "   'MOD016',\n",
       "   'MOD017']},\n",
       " {'code': 'MOD015',\n",
       "  'lecturer': 'Minu Senft',\n",
       "  'labs': '2',\n",
       "  'noclash': ['MOD007',\n",
       "   'MOD008',\n",
       "   'MOD011',\n",
       "   'MOD012',\n",
       "   'MOD014',\n",
       "   'MOD016',\n",
       "   'MOD017']},\n",
       " {'code': 'MOD016',\n",
       "  'lecturer': 'Ruh Kerekes',\n",
       "  'labs': '1',\n",
       "  'noclash': ['MOD007',\n",
       "   'MOD008',\n",
       "   'MOD011',\n",
       "   'MOD012',\n",
       "   'MOD014',\n",
       "   'MOD015',\n",
       "   'MOD017']},\n",
       " {'code': 'MOD017',\n",
       "  'lecturer': 'Ruh Kerekes',\n",
       "  'labs': '1',\n",
       "  'noclash': ['MOD007',\n",
       "   'MOD008',\n",
       "   'MOD011',\n",
       "   'MOD012',\n",
       "   'MOD014',\n",
       "   'MOD015',\n",
       "   'MOD016']}]"
      ]
     },
     "execution_count": 35,
     "metadata": {},
     "output_type": "execute_result"
    }
   ],
   "source": [
    "modulesList"
   ]
  },
  {
   "cell_type": "markdown",
   "id": "282d642b",
   "metadata": {},
   "source": [
    "We now have the modules in a data structure that we can work with\n",
    "\n",
    "We need to create another data structure that can represent the different labs and lecture rooms.\n",
    "\n",
    "The blankWeek() function returns a empty week data structure."
   ]
  },
  {
   "cell_type": "code",
   "execution_count": 36,
   "id": "3852e89c",
   "metadata": {},
   "outputs": [],
   "source": [
    "def blankWeek():\n",
    "    return [\n",
    "    {\n",
    "        \"day\": \"Monday\",\n",
    "        \"theatre\": [None, None, None, None],\n",
    "        \"lab1\": [None, None, None, None],\n",
    "        \"lab2\": [None, None, None, None]\n",
    "    },\n",
    "    {\n",
    "        \"day\": \"Tuesday\",\n",
    "        \"theatre\": [None, None, None, None],\n",
    "        \"lab1\": [None, None, None, None],\n",
    "        \"lab2\": [None, None, None, None]\n",
    "    },\n",
    "    {\n",
    "        \"day\": \"Wednesday\",\n",
    "        \"theatre\": [None, None, None, None],\n",
    "        \"lab1\": [None, None, None, None],\n",
    "        \"lab2\": [None, None, None, None]\n",
    "    },\n",
    "    {\n",
    "        \"day\": \"Thursday\",\n",
    "        \"theatre\": [None, None, None, None],\n",
    "        \"lab1\": [None, None, None, None],\n",
    "        \"lab2\": [None, None, None, None]\n",
    "    },\n",
    "    {\n",
    "        \"day\": \"Friday\",\n",
    "        \"theatre\": [None, None, None, None],\n",
    "        \"lab1\": [None, None, None, None],\n",
    "        \"lab2\": [None, None, None, None]\n",
    "    }\n",
    "]"
   ]
  },
  {
   "cell_type": "code",
   "execution_count": 37,
   "id": "2d298402",
   "metadata": {},
   "outputs": [
    {
     "name": "stdout",
     "output_type": "stream",
     "text": [
      "[{'day': 'Monday', 'theatre': [None, None, None, None], 'lab1': [None, None, None, None], 'lab2': [None, None, None, None]}, {'day': 'Tuesday', 'theatre': [None, None, None, None], 'lab1': [None, None, None, None], 'lab2': [None, None, None, None]}, {'day': 'Wednesday', 'theatre': [None, None, None, None], 'lab1': [None, None, None, None], 'lab2': [None, None, None, None]}, {'day': 'Thursday', 'theatre': [None, None, None, None], 'lab1': [None, None, None, None], 'lab2': [None, None, None, None]}, {'day': 'Friday', 'theatre': [None, None, None, None], 'lab1': [None, None, None, None], 'lab2': [None, None, None, None]}]\n"
     ]
    }
   ],
   "source": [
    "print(blankWeek())"
   ]
  },
  {
   "cell_type": "markdown",
   "id": "084bcc93",
   "metadata": {},
   "source": [
    "The Week is an array of 5 dictionaries whcih contain keys for the day, and each of the rooms (lecture theatre, and the two labs). These have an array, which will then be populated by the module codes (but has a default of None for now)"
   ]
  },
  {
   "cell_type": "markdown",
   "id": "a57056d5",
   "metadata": {},
   "source": [
    "## Generate a Random Solution\n",
    "\n",
    "This function has to take in the array of all modules and the number of labs, and create a random solution.\n",
    "\n",
    "It creates a random solution by selecting a random day and session (and room in the case of labs) and inserting a lecture/lab from the list.\n",
    "\n",
    "One varibale here is if you allow lectures to happen in labs, I chose not to allow this as it would take lab space away from the actual labs (as they must happen in a lab), which also making calculating the fitness more computationly complex."
   ]
  },
  {
   "cell_type": "code",
   "execution_count": 38,
   "id": "a93ef699",
   "metadata": {},
   "outputs": [],
   "source": [
    "def randomSolution(modules):\n",
    "    lectures = []\n",
    "    labs = []\n",
    "    \n",
    "    newWeek = blankWeek()\n",
    "    \n",
    "    \n",
    "    \n",
    "    for d in modules:\n",
    "        lectures.append(d[\"code\"])\n",
    "        for i in range(int(d[\"labs\"])):\n",
    "            labs.append(d[\"code\"])    \n",
    "    \n",
    "    while len(lectures) > 0:\n",
    "        module = lectures[0]\n",
    "        \n",
    "        day = random.randrange(0, 5)\n",
    "        session = random.randrange(0,4)\n",
    "\n",
    "        if newWeek[day][\"theatre\"][session] == None:\n",
    "            newWeek[day][\"theatre\"][session] = module\n",
    "            lectures.pop(0)\n",
    "    \n",
    "    while len(labs) > 0:\n",
    "        module = labs[0]\n",
    "        \n",
    "        day = random.randrange(0, 5)\n",
    "        room = random.randrange(0,2)\n",
    "        session = random.randrange(0,4)\n",
    "                \n",
    "        if room == 0:\n",
    "            if newWeek[day][\"lab1\"][session] == None:\n",
    "                newWeek[day][\"lab1\"][session] = module\n",
    "                labs.pop(0)\n",
    "        elif room == 1:\n",
    "            if newWeek[day][\"lab2\"][session] == None:\n",
    "                newWeek[day][\"lab2\"][session] = module\n",
    "                labs.pop(0)\n",
    "        \n",
    "\n",
    "    return newWeek"
   ]
  },
  {
   "cell_type": "code",
   "execution_count": 39,
   "id": "dc82977c",
   "metadata": {},
   "outputs": [
    {
     "data": {
      "text/plain": [
       "[{'day': 'Monday',\n",
       "  'theatre': ['MOD017', None, 'MOD002', 'MOD001'],\n",
       "  'lab1': ['MOD005', None, 'MOD005', None],\n",
       "  'lab2': ['MOD014', 'MOD013', 'MOD015', 'MOD012']},\n",
       " {'day': 'Tuesday',\n",
       "  'theatre': ['MOD010', 'MOD008', 'MOD012', 'MOD007'],\n",
       "  'lab1': ['MOD014', 'MOD008', 'MOD007', 'MOD003'],\n",
       "  'lab2': [None, 'MOD010', 'MOD012', 'MOD006']},\n",
       " {'day': 'Wednesday',\n",
       "  'theatre': ['MOD006', 'MOD004', None, 'MOD005'],\n",
       "  'lab1': ['MOD009', None, 'MOD009', None],\n",
       "  'lab2': ['MOD004', 'MOD006', 'MOD002', 'MOD017']},\n",
       " {'day': 'Thursday',\n",
       "  'theatre': ['MOD015', 'MOD009', 'MOD014', 'MOD003'],\n",
       "  'lab1': ['MOD011', 'MOD015', 'MOD010', 'MOD001'],\n",
       "  'lab2': ['MOD009', None, 'MOD002', 'MOD016']},\n",
       " {'day': 'Friday',\n",
       "  'theatre': [None, 'MOD013', 'MOD016', 'MOD011'],\n",
       "  'lab1': ['MOD008', 'MOD006', 'MOD003', 'MOD001'],\n",
       "  'lab2': ['MOD011', None, None, None]}]"
      ]
     },
     "execution_count": 39,
     "metadata": {},
     "output_type": "execute_result"
    }
   ],
   "source": [
    "week = randomSolution(modulesList)\n",
    "\n",
    "week"
   ]
  },
  {
   "cell_type": "markdown",
   "id": "04658167",
   "metadata": {},
   "source": [
    "### Fitness Function\n",
    "\n",
    "This function takes the week and outputs a value of fitness for the week"
   ]
  },
  {
   "cell_type": "code",
   "execution_count": 40,
   "id": "b944a1f7",
   "metadata": {},
   "outputs": [],
   "source": [
    "def room(number):\n",
    "    if number == 0:\n",
    "        return \"theatre\"\n",
    "    elif number == 1:\n",
    "        return \"lab1\"\n",
    "    elif number == 2:\n",
    "        return \"lab2\"\n",
    "\n",
    "def moduleNoClash(module, modules):\n",
    "    for m in modules:\n",
    "        if m[\"code\"] == module:\n",
    "            return m[\"noclash\"]\n",
    "\n",
    "def fitness(wk):\n",
    "    cC = 1 #number of concurence constrain violations\n",
    "    pC = 1 #number of precendece constrain violations\n",
    "    \n",
    "    weekToFitness = copy.deepcopy(wk)\n",
    "    \n",
    "    # check concurence constraints\n",
    "    for d in range(0,5):\n",
    "        for r in range(0,3):\n",
    "            for s in range(0,4):\n",
    "                toCheck = moduleNoClash(weekToFitness[d][room(r)][s], modulesList)\n",
    "                \n",
    "                #if this slot has a module\n",
    "                if(toCheck != None):\n",
    "                    #check all the other rooms\n",
    "                    #apart from the room the module currently being checked is in\n",
    "                    \n",
    "                    if(s != 0):\n",
    "                        # check room leacture room\n",
    "                        sessionModule = weekToFitness[d][room(0)][s]\n",
    "                        for noClash in toCheck:\n",
    "                            if noClash == sessionModule:\n",
    "                                #add a concurence constraint violation\n",
    "                                cC = cC + 1\n",
    "                                \n",
    "                    elif(s != 1):\n",
    "                        # check room lab 1\n",
    "                        sessionModule = weekToFitness[d][room(1)][s]\n",
    "                        for noClash in toCheck:\n",
    "                            if noClash == sessionModule:\n",
    "                                #add a concurence constraint violation\n",
    "                                cC = cC + 1\n",
    "                                \n",
    "                    elif(s != 2):\n",
    "                        # check lab 2\n",
    "                        sessionModule = weekToFitness[d][room(2)][s]\n",
    "                        for noClash in toCheck:\n",
    "                            if noClash == sessionModule:\n",
    "                                #add a concurence constraint violation\n",
    "                                cC = cC + 1\n",
    "    \n",
    "    # check precedence violation\n",
    "    # loop through all the lectures\n",
    "    for d1 in range(0,5):\n",
    "        for s1 in range(0,4):\n",
    "            lectureCode = weekToFitness[d1][room(0)][s1]\n",
    "            \n",
    "            #search through all labs that happen before the lecture\n",
    "            for d2 in range(0,d1):\n",
    "                for r in range(1,3):\n",
    "                    for s2 in range(0,4):\n",
    "                        if(s2 > s1 and d2 == d1):\n",
    "                            # if this is true, then we are checking a session that is on the same day\n",
    "                            # but after the lecture, these are valid so do not need to be checked\n",
    "                            # so just break out of the loop\n",
    "                            break\n",
    "                        else:\n",
    "                            if(lectureCode == weekToFitness[d2][room(r)][s2]):\n",
    "                                pC = pC + 1\n",
    "            \n",
    "                            \n",
    "            \n",
    "    \n",
    "    return cC * pC\n",
    "\n",
    "                        "
   ]
  },
  {
   "cell_type": "code",
   "execution_count": 41,
   "id": "9945af4a",
   "metadata": {},
   "outputs": [
    {
     "data": {
      "text/plain": [
       "276"
      ]
     },
     "execution_count": 41,
     "metadata": {},
     "output_type": "execute_result"
    }
   ],
   "source": [
    "fitness(week)"
   ]
  },
  {
   "cell_type": "markdown",
   "id": "5d65ae80",
   "metadata": {},
   "source": [
    "### Mutation Function\n",
    "\n",
    "This function takes in a week and a mutation type, it then performs the desired mutation on the week"
   ]
  },
  {
   "cell_type": "code",
   "execution_count": 42,
   "id": "4ad96016",
   "metadata": {},
   "outputs": [],
   "source": [
    "def mutate(wk, mutationType):\n",
    "    \n",
    "    weekToMutate = copy.deepcopy(wk)\n",
    "    \n",
    "    if(mutationType == \"sr\"):\n",
    "        # session replacement\n",
    "        # choose a random session\n",
    "        \n",
    "        # two random sessions\n",
    "        # the first shall not be empty, the second can be empty\n",
    "        \n",
    "        moduleA = None\n",
    "        while moduleA == None:\n",
    "            dayA = random.randrange(0, 5)\n",
    "            roomA = random.randrange(0,3)\n",
    "            sessionA = random.randrange(0,4)\n",
    "            moduleA = weekToMutate[dayA][room(roomA)][sessionA]      \n",
    "        \n",
    "        dayB = random.randrange(0, 5)\n",
    "        roomB = random.randrange(0,3)\n",
    "        sessionB = random.randrange(0,4)\n",
    "        \n",
    "        moduleB = weekToMutate[dayB][room(roomB)][sessionB]\n",
    "        \n",
    "        # swap\n",
    "        weekToMutate[dayA][room(roomA)][sessionA] = moduleB\n",
    "        weekToMutate[dayB][room(roomB)][sessionB] = moduleA\n",
    "         \n",
    "        return weekToMutate\n",
    "        \n",
    "    elif(mutationType == \"rr\"):\n",
    "        # ruin and recreate\n",
    "    \n",
    "        return randomSolution(modulesList)\n",
    "    \n",
    "    else:\n",
    "        print(\"Mutation type not valid\")\n",
    "        return blankWeek()\n",
    "    "
   ]
  },
  {
   "cell_type": "code",
   "execution_count": 43,
   "id": "7a6dd8d6",
   "metadata": {},
   "outputs": [
    {
     "data": {
      "text/plain": [
       "322"
      ]
     },
     "execution_count": 43,
     "metadata": {},
     "output_type": "execute_result"
    }
   ],
   "source": [
    "fitness(mutate(week,\"sr\"))"
   ]
  },
  {
   "cell_type": "markdown",
   "id": "b6545266",
   "metadata": {},
   "source": [
    "### Hill Climber\n",
    "\n",
    "The hill climber performs a number of mutations of a certain type on a randomSolution. It then outputs the bestWeek and an array of the fitness at the end of each iteration."
   ]
  },
  {
   "cell_type": "code",
   "execution_count": 44,
   "id": "bb1356ec",
   "metadata": {},
   "outputs": [],
   "source": [
    "import copy\n",
    "\n",
    "def hillclimber(mutationType, iterations):\n",
    "    fitnesses = []\n",
    "    \n",
    "    parent = randomSolution(modulesList)\n",
    "    parentFitness = fitness(parent)\n",
    "    \n",
    "    for i in range(iterations): \n",
    "        child = copy.deepcopy(mutate(parent, mutationType))\n",
    "        childFitness = fitness(child)\n",
    "        \n",
    "        if childFitness < parentFitness:\n",
    "            parentFitness = childFitness\n",
    "            parent = child\n",
    "            \n",
    "        fitnesses.append(parentFitness)\n",
    "\n",
    "    return fitnesses, parent"
   ]
  },
  {
   "cell_type": "code",
   "execution_count": 45,
   "id": "08a8089d",
   "metadata": {},
   "outputs": [],
   "source": [
    "fitnesses, bestWeek = hillclimber(\"sr\", 500)"
   ]
  },
  {
   "cell_type": "code",
   "execution_count": 46,
   "id": "5b20970b",
   "metadata": {},
   "outputs": [
    {
     "data": {
      "text/plain": [
       "[{'day': 'Monday',\n",
       "  'theatre': [None, 'MOD013', 'MOD016', None],\n",
       "  'lab1': ['MOD011', 'MOD014', 'MOD010', 'MOD002'],\n",
       "  'lab2': ['MOD010', 'MOD007', 'MOD002', 'MOD011']},\n",
       " {'day': 'Tuesday',\n",
       "  'theatre': ['MOD009', 'MOD003', 'MOD001', 'MOD005'],\n",
       "  'lab1': ['MOD003', 'MOD003', 'MOD001', 'MOD014'],\n",
       "  'lab2': ['MOD017', 'MOD014', 'MOD011', 'MOD013']},\n",
       " {'day': 'Wednesday',\n",
       "  'theatre': ['MOD012', 'MOD006', None, 'MOD004'],\n",
       "  'lab1': [None, 'MOD006', 'MOD010', None],\n",
       "  'lab2': [None, 'MOD015', 'MOD006', None]},\n",
       " {'day': 'Thursday',\n",
       "  'theatre': ['MOD009', 'MOD005', 'MOD008', 'MOD016'],\n",
       "  'lab1': ['MOD015', None, 'MOD002', 'MOD012'],\n",
       "  'lab2': ['MOD001', None, None, 'MOD006']},\n",
       " {'day': 'Friday',\n",
       "  'theatre': ['MOD008', 'MOD008', 'MOD009', 'MOD004'],\n",
       "  'lab1': [None, None, 'MOD009', 'MOD017'],\n",
       "  'lab2': ['MOD005', 'MOD007', 'MOD015', 'MOD012']}]"
      ]
     },
     "execution_count": 46,
     "metadata": {},
     "output_type": "execute_result"
    }
   ],
   "source": [
    "bestWeek"
   ]
  },
  {
   "cell_type": "code",
   "execution_count": 47,
   "id": "5f47d9fb",
   "metadata": {},
   "outputs": [
    {
     "data": {
      "text/plain": [
       "4"
      ]
     },
     "execution_count": 47,
     "metadata": {},
     "output_type": "execute_result"
    }
   ],
   "source": [
    "fitness(bestWeek)"
   ]
  },
  {
   "cell_type": "markdown",
   "id": "b72ac77c",
   "metadata": {},
   "source": [
    "### Repeate 30 times for each mutation type, calculate max, min and avg"
   ]
  },
  {
   "cell_type": "code",
   "execution_count": 48,
   "id": "97998749",
   "metadata": {},
   "outputs": [],
   "source": [
    "bestFitnessSr = []\n",
    "bestFitnessRr = []\n",
    "\n",
    "bestWeekSr = []\n",
    "bestWeekRr = []\n",
    "\n",
    "resultsSr = []\n",
    "resultsRr = []\n",
    "\n",
    "for i in range (30):\n",
    "    bestFitnessSrOutput, bestWeekSrOutput = hillclimber(\"sr\", 500)\n",
    "    bestFitnessSr.append(bestFitnessSrOutput)\n",
    "    bestWeekSr.append(bestWeekSrOutput)\n",
    "    \n",
    "    bestFitnessRrOutput, bestWeekRrOutput = hillclimber(\"rr\", 500)\n",
    "    bestFitnessRr.append(bestFitnessRrOutput)\n",
    "    bestWeekRr.append(bestWeekRrOutput)\n",
    "    \n",
    "    resultsSr.append([max(bestFitnessSr[i]), sum(bestFitnessSr[i])/len(bestFitnessSr[i]), min(bestFitnessSr[i])])\n",
    "    resultsRr.append([max(bestFitnessRr[i]),  sum(bestFitnessRr[i])/len(bestFitnessRr[i]), min(bestFitnessRr[i])])\n",
    "    "
   ]
  },
  {
   "cell_type": "markdown",
   "id": "b876209b",
   "metadata": {},
   "source": [
    "### Graphs"
   ]
  },
  {
   "cell_type": "code",
   "execution_count": 49,
   "id": "810cdd94",
   "metadata": {},
   "outputs": [
    {
     "data": {
      "image/png": "[encoded data removed]",
      "text/plain": [
       "<Figure size 432x288 with 1 Axes>"
      ]
     },
     "metadata": {
      "needs_background": "light"
     },
     "output_type": "display_data"
    }
   ],
   "source": [
    "for r in resultsSr:\n",
    "    plt.plot([\"Max\",\"Avg\",\"Min\"], r)\n",
    "    \n",
    "plt.title('30 Runs of Session Replacement, Min/Avg/Max Fitness Score')\n",
    "plt.ylabel('Fitness Score')\n",
    "plt.show()"
   ]
  },
  {
   "cell_type": "code",
   "execution_count": 50,
   "id": "1e94e9f8",
   "metadata": {},
   "outputs": [
    {
     "data": {
      "image/png": "[encoded data removed]",
      "text/plain": [
       "<Figure size 432x288 with 1 Axes>"
      ]
     },
     "metadata": {
      "needs_background": "light"
     },
     "output_type": "display_data"
    }
   ],
   "source": [
    "for r in resultsRr:\n",
    "    plt.plot([\"Max\",\"Avg\",\"Min\"], r)\n",
    "    \n",
    "plt.title('30 Runs of Ruin & Recreate, Min/Avg/Max Fitness Score')\n",
    "plt.ylabel('Fitness Score')\n",
    "plt.show()"
   ]
  },
  {
   "cell_type": "code",
   "execution_count": 51,
   "id": "90231ce2",
   "metadata": {},
   "outputs": [
    {
     "data": {
      "image/png": "[encoded data removed]",
      "text/plain": [
       "<Figure size 432x288 with 1 Axes>"
      ]
     },
     "metadata": {
      "needs_background": "light"
     },
     "output_type": "display_data"
    }
   ],
   "source": [
    "for r in bestFitnessSr:\n",
    "    plt.plot(r)\n",
    "    \n",
    "plt.title('Fitness Score over Time, 30 Session Replacement Runs')\n",
    "plt.ylabel('Fitness Score')\n",
    "plt.xlabel('Run')\n",
    "plt.show()"
   ]
  },
  {
   "cell_type": "code",
   "execution_count": 52,
   "id": "c7a0da28",
   "metadata": {},
   "outputs": [
    {
     "data": {
      "image/png": "[encoded data removed]",
      "text/plain": [
       "<Figure size 432x288 with 1 Axes>"
      ]
     },
     "metadata": {
      "needs_background": "light"
     },
     "output_type": "display_data"
    }
   ],
   "source": [
    "for r in bestFitnessRr:\n",
    "    plt.plot(r)\n",
    "    \n",
    "plt.title('Fitness Score over Time, 30 Ruin & Recreate Runs')\n",
    "plt.ylabel('Fitness Score')\n",
    "plt.xlabel('Run')\n",
    "plt.show()"
   ]
  },
  {
   "cell_type": "markdown",
   "id": "57d91e17",
   "metadata": {},
   "source": [
    "## Comparision Graphs"
   ]
  },
  {
   "cell_type": "code",
   "execution_count": 53,
   "id": "64e815c9",
   "metadata": {},
   "outputs": [
    {
     "data": {
      "image/png": "[encoded data removed]",
      "text/plain": [
       "<Figure size 432x288 with 1 Axes>"
      ]
     },
     "metadata": {
      "needs_background": "light"
     },
     "output_type": "display_data"
    }
   ],
   "source": [
    "avgMinSr = 0\n",
    "avgAvgSr = 0\n",
    "avgMaxSr = 0\n",
    "cSr = 0\n",
    "\n",
    "for r in resultsSr:\n",
    "    cSr = cSr + 1\n",
    "    avgMinSr = avgMinSr + r[0]\n",
    "    avgAvgSr = avgAvgSr + r[1]\n",
    "    avgMaxSr = avgMaxSr + r[2]\n",
    "\n",
    "plt.plot([\"Max\",\"Avg\",\"Min\"], [avgMinSr/cSr, avgAvgSr/cSr, avgMaxSr/cSr], label=\"Session Replacement\")\n",
    "\n",
    "avgMinRr = 0\n",
    "avgAvgRr = 0\n",
    "avgMaxRr = 0\n",
    "cRr = 0\n",
    "\n",
    "for r in resultsRr:\n",
    "    cRr = cRr + 1\n",
    "    avgMinRr = avgMinRr + r[0]\n",
    "    avgAvgRr = avgAvgRr + r[1]\n",
    "    avgMaxRr = avgMaxRr + r[2]\n",
    "\n",
    "plt.plot([\"Max\",\"Avg\",\"Min\"], [avgMinRr/cRr, avgAvgRr/cRr, avgMaxRr/cRr], label=\"Ruin and Recreate\")\n",
    "\n",
    "plt.legend(loc=\"upper right\")\n",
    "plt.title('Average Min/Avg/Max Fitness of all 30 Runs')\n",
    "plt.ylabel('Fitness Score')\n",
    "plt.show()"
   ]
  },
  {
   "cell_type": "code",
   "execution_count": 54,
   "id": "0b7602f6",
   "metadata": {},
   "outputs": [
    {
     "data": {
      "image/png": "[encoded data removed]",
      "text/plain": [
       "<Figure size 432x288 with 1 Axes>"
      ]
     },
     "metadata": {
      "needs_background": "light"
     },
     "output_type": "display_data"
    }
   ],
   "source": [
    "minFitnessAtIteration = []\n",
    "avgFitnessAtIteration = []\n",
    "maxFitnessAtIteration = []\n",
    "\n",
    "\n",
    "for r in range(0,500):\n",
    "    min = 0\n",
    "    max = 0\n",
    "    avg = 0\n",
    "    iterationFitness = []\n",
    "    \n",
    "    for i in range(0,len(bestFitnessSr)-1):        \n",
    "        iterationFitness.append(bestFitnessSr[i][r])\n",
    "\n",
    "    \n",
    "    results_list = sorted(iterationFitness)\n",
    "    minFitnessAtIteration.append(results_list[0])\n",
    "    avgFitnessAtIteration.append(sum(iterationFitness)/len(iterationFitness))\n",
    "    maxFitnessAtIteration.append(results_list[-1])\n",
    "\n",
    "\n",
    "plt.plot(minFitnessAtIteration, label=\"Session Replacement - Min Value\")\n",
    "plt.plot(avgFitnessAtIteration, label=\"Session Replacement - Avg Value\")\n",
    "plt.plot(maxFitnessAtIteration, label=\"Session Replacement - Max Value\")\n",
    "\n",
    "minFitnessAtIteration = []\n",
    "avgFitnessAtIteration = []\n",
    "maxFitnessAtIteration = []\n",
    "\n",
    "\n",
    "for r in range(0,500):\n",
    "    min = 0\n",
    "    max = 0\n",
    "    avg = 0\n",
    "    iterationFitness = []\n",
    "    \n",
    "    for i in range(0,len(bestFitnessRr)-1):        \n",
    "        iterationFitness.append(bestFitnessRr[i][r])\n",
    "\n",
    "    \n",
    "    results_list = sorted(iterationFitness)\n",
    "    minFitnessAtIteration.append(results_list[0])\n",
    "    avgFitnessAtIteration.append(sum(iterationFitness)/len(iterationFitness))\n",
    "    maxFitnessAtIteration.append(results_list[-1])\n",
    "\n",
    "plt.plot(minFitnessAtIteration, label=\"Ruin and Recreate - Min Value\")\n",
    "plt.plot(avgFitnessAtIteration, label=\"Ruin and Recreate - Avg Value\")\n",
    "plt.plot(maxFitnessAtIteration, label=\"Ruin and Recreate - Max Value\")\n",
    "    \n",
    "plt.title('Min/Avg/Max at Each Iteration of 30 Session Replacement and Ruin Recreate Runs')\n",
    "plt.legend(loc=\"upper right\")\n",
    "plt.ylabel('Fitness Score')\n",
    "plt.xlabel('Run')\n",
    "plt.show()"
   ]
  },
  {
   "cell_type": "markdown",
   "id": "4c32419a",
   "metadata": {},
   "source": [
    "## Algorithm Efficacy\n",
    "\n",
    "As you can see from the above graphs the session replacement performs significantly better than the ruin and recreate. Session repacement having a best fitnesses that were oftern in the low to mid single digits wherewas ruin and recreate had final best fits that averaged around 200. \n",
    "\n",
    "Initially however, ruin and recreate got better quick, it only took a handful of runs to get down from a fitness of around 500 to a fitness of 350, whereas ruin and recreate took closer to 20-40 runs to reach the same fitness value. This is not unexpected behaviour as to reduce the fitness by 150 points a lot of changes to the timetable would have to be made, which is not possible in such a small number of session replacements, but is possible when you generate new random solutions at the start of each iteration."
   ]
  }
 ],
 "metadata": {
  "kernelspec": {
   "display_name": "Python 3 (ipykernel)",
   "language": "python",
   "name": "python3"
  },
  "language_info": {
   "codemirror_mode": {
    "name": "ipython",
    "version": 3
   },
   "file_extension": ".py",
   "mimetype": "text/x-python",
   "name": "python",
   "nbconvert_exporter": "python",
   "pygments_lexer": "ipython3",
   "version": "3.8.10"
  }
 },
 "nbformat": 4,
 "nbformat_minor": 5
}
