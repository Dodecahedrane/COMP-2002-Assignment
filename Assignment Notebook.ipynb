{
 "cells": [
  {
   "cell_type": "markdown",
   "id": "4775edfb",
   "metadata": {},
   "source": [
    "# COMP 2002 Intro to AI\n",
    "## Assignment"
   ]
  },
  {
   "cell_type": "markdown",
   "id": "2adaa1f3",
   "metadata": {},
   "source": [
    "This assignment contributes 70% of the overall module mark for COMP2002 and is an individual\n",
    "assignment. You must submit the deliverables to the DLE by the specified submission dates.\n",
    "\n",
    "The coursework has two parts – one is a machine learning exercise and the second is about\n",
    "evolutionary computation. You must complete and submit both parts. Each part is worth 50% of\n",
    "the coursework mark."
   ]
  },
  {
   "cell_type": "markdown",
   "id": "9af0e8a5",
   "metadata": {},
   "source": [
    "# Part 1 - ML\n",
    "\n",
    "You have been provided with datasets relating to the energy efficiency of buildings. Your task is to\n",
    "train regression models that predict two indicators of energy efficiency based on 8 numerical inputs."
   ]
  },
  {
   "cell_type": "markdown",
   "id": "9f71cb91",
   "metadata": {},
   "source": [
    "## Task 1.1 - Data preparation \n",
    "\n",
    "The first phase of the work requires you to load the data you have been provided with into your Python\n",
    "program. Before the data can be used to train and test your models you must first prepare it – this\n",
    "means that the inputs must be normalized. There is no missing data in the dataset.\n",
    "\n",
    "(10% of total mark)"
   ]
  },
  {
   "cell_type": "markdown",
   "id": "4e0b5f51",
   "metadata": {},
   "source": [
    "## Task 1.2 - Regression \n",
    "\n",
    "Having prepared the data you must now build a regression tool that can predict new points. Use the\n",
    "following regression implementations within the scikit-learn package to construct predictors for the\n",
    "dataset:\n",
    "\n",
    "- Random Forest (sklearn.ensemble.RandomForestRegressor)\n",
    "- Neural Network (sklearn.neural_network.MLPRegressor)\n",
    "- Support Vector Machine (sklearn.svm.SVR)\n",
    "\n",
    "You must demonstrate that each regressor is capable of providing a prediction for a given input.\n",
    "\n",
    "(20% of total mark)"
   ]
  },
  {
   "cell_type": "markdown",
   "id": "175d6fe1",
   "metadata": {},
   "source": [
    "## Task 1.3 – Assessment of regression \n",
    "\n",
    "The regression models you have used in the previous task must be assessed. To do this you are\n",
    "required to assess the mean square error rate for each model. You may use the MSE implementation\n",
    "available in scikit-learn to do this. It is not sufficient to report a single MSE rate. You must use cross\n",
    "validation to report training and testing results and report these values using a boxplot.\n",
    "\n",
    "(20% of total mark)"
   ]
  },
  {
   "cell_type": "markdown",
   "id": "bf03b570",
   "metadata": {},
   "source": [
    "## Import Required Libraries"
   ]
  },
  {
   "cell_type": "code",
   "execution_count": 22,
   "id": "6fbf7c34",
   "metadata": {},
   "outputs": [],
   "source": [
    "import pandas as pandas\n",
    "import numpy as np \n",
    "import matplotlib.pyplot as plt\n",
    "\n",
    "from sklearn.decomposition import PCA\n",
    "from sklearn.ensemble import RandomForestRegressor\n",
    "from sklearn.model_selection import train_test_split\n",
    "from sklearn.metrics import mean_squared_error\n",
    "from sklearn.preprocessing import MinMaxScaler\n",
    "from sklearn.neural_network import MLPRegressor\n",
    "from sklearn import svm\n",
    "from sklearn.model_selection import cross_val_score"
   ]
  },
  {
   "cell_type": "markdown",
   "id": "f871d2c6",
   "metadata": {},
   "source": [
    "## Data Preparation"
   ]
  },
  {
   "cell_type": "markdown",
   "id": "89760b0a",
   "metadata": {},
   "source": [
    "### Load with Pandas"
   ]
  },
  {
   "cell_type": "code",
   "execution_count": 2,
   "id": "7d10a453",
   "metadata": {},
   "outputs": [
    {
     "name": "stdout",
     "output_type": "stream",
     "text": [
      "       X1     X2     X3      X4   X5  X6   X7  X8     Y1     Y2\n",
      "0    0.98  514.5  294.0  110.25  7.0   2  0.0   0  15.55  21.33\n",
      "1    0.98  514.5  294.0  110.25  7.0   3  0.0   0  15.55  21.33\n",
      "2    0.98  514.5  294.0  110.25  7.0   4  0.0   0  15.55  21.33\n",
      "3    0.98  514.5  294.0  110.25  7.0   5  0.0   0  15.55  21.33\n",
      "4    0.90  563.5  318.5  122.50  7.0   2  0.0   0  20.84  28.28\n",
      "..    ...    ...    ...     ...  ...  ..  ...  ..    ...    ...\n",
      "763  0.64  784.0  343.0  220.50  3.5   5  0.4   5  17.88  21.40\n",
      "764  0.62  808.5  367.5  220.50  3.5   2  0.4   5  16.54  16.88\n",
      "765  0.62  808.5  367.5  220.50  3.5   3  0.4   5  16.44  17.11\n",
      "766  0.62  808.5  367.5  220.50  3.5   4  0.4   5  16.48  16.61\n",
      "767  0.62  808.5  367.5  220.50  3.5   5  0.4   5  16.64  16.03\n",
      "\n",
      "[768 rows x 10 columns]\n"
     ]
    }
   ],
   "source": [
    "data = pandas.read_csv(\"data.csv\")\n",
    "\n",
    "print(data)"
   ]
  },
  {
   "cell_type": "markdown",
   "id": "11989b6a",
   "metadata": {},
   "source": [
    "### Extract the Data"
   ]
  },
  {
   "cell_type": "code",
   "execution_count": 26,
   "id": "31025230",
   "metadata": {},
   "outputs": [],
   "source": [
    "inputs = data.values[:,:8].astype(float)\n",
    "targets = data.values[:,8:].astype(float)"
   ]
  },
  {
   "cell_type": "markdown",
   "id": "f03d8e8a",
   "metadata": {},
   "source": [
    "### Split Data into Training and Testing Sets\n",
    "\n",
    "We need to split the data into a training and testing set, we will have a test set that contains 25% of the data and use the remaining 75% for training."
   ]
  },
  {
   "cell_type": "code",
   "execution_count": 78,
   "id": "1d2b5272",
   "metadata": {},
   "outputs": [],
   "source": [
    "trainInputs, testInputs, trainTargets, testTargets = train_test_split(inputs, \n",
    "                                                                          targets, \n",
    "                                                                          test_size=0.25, \n",
    "                                                                          random_state=42)\n",
    "\n",
    "trainTargets_y1 = trainTargets[:,:1]\n",
    "trainTargets_y2 = trainTargets[:,1:]\n",
    "\n",
    "testTargets_y1 = testTargets[:,8:9]\n",
    "testTargets_y2 = testTargets[:,9:]"
   ]
  },
  {
   "cell_type": "code",
   "execution_count": 79,
   "id": "e3e3e385",
   "metadata": {},
   "outputs": [
    {
     "data": {
      "text/plain": [
       "array([[36.28],\n",
       "       [10.43],\n",
       "       [38.57],\n",
       "       [39.83],\n",
       "       [24.4 ],\n",
       "       [12.18],\n",
       "       [28.41],\n",
       "       [11.45],\n",
       "       [14.58],\n",
       "       [34.29],\n",
       "       [16.77],\n",
       "       [29.07],\n",
       "       [10.54],\n",
       "       [29.67],\n",
       "       [23.75],\n",
       "       [28.58],\n",
       "       [26.28],\n",
       "       [12.72],\n",
       "       [28.05],\n",
       "       [14.92],\n",
       "       [15.09],\n",
       "       [32.26],\n",
       "       [ 6.07],\n",
       "       [12.95],\n",
       "       [29.02],\n",
       "       [29.88],\n",
       "       [24.94],\n",
       "       [13.18],\n",
       "       [23.67],\n",
       "       [11.09],\n",
       "       [24.59],\n",
       "       [38.84],\n",
       "       [18.16],\n",
       "       [14.66],\n",
       "       [19.12],\n",
       "       [28.86],\n",
       "       [32.09],\n",
       "       [17.35],\n",
       "       [26.97],\n",
       "       [15.08],\n",
       "       [15.19],\n",
       "       [32.31],\n",
       "       [41.67],\n",
       "       [29.63],\n",
       "       [43.1 ],\n",
       "       [12.88],\n",
       "       [13.17],\n",
       "       [10.34],\n",
       "       [32.23],\n",
       "       [11.16],\n",
       "       [24.03],\n",
       "       [31.28],\n",
       "       [29.92],\n",
       "       [ 6.4 ],\n",
       "       [15.16],\n",
       "       [40.42],\n",
       "       [14.6 ],\n",
       "       [36.43],\n",
       "       [14.34],\n",
       "       [11.53],\n",
       "       [32.13],\n",
       "       [36.57],\n",
       "       [12.91],\n",
       "       [10.72],\n",
       "       [29.4 ],\n",
       "       [16.48],\n",
       "       [19.48],\n",
       "       [16.74],\n",
       "       [12.41],\n",
       "       [14.21],\n",
       "       [11.22],\n",
       "       [13.99],\n",
       "       [15.12],\n",
       "       [36.7 ],\n",
       "       [27.03],\n",
       "       [32.15],\n",
       "       [10.36],\n",
       "       [33.28],\n",
       "       [42.08],\n",
       "       [26.48],\n",
       "       [36.97],\n",
       "       [12.63],\n",
       "       [12.96],\n",
       "       [14.34],\n",
       "       [15.2 ],\n",
       "       [12.46],\n",
       "       [14.61],\n",
       "       [19.13],\n",
       "       [14.71],\n",
       "       [11.64],\n",
       "       [18.31],\n",
       "       [10.56],\n",
       "       [10.77],\n",
       "       [33.24],\n",
       "       [32.74],\n",
       "       [18.48],\n",
       "       [14.66],\n",
       "       [11.1 ],\n",
       "       [14.62],\n",
       "       [12.78],\n",
       "       [11.16],\n",
       "       [36.47],\n",
       "       [31.29],\n",
       "       [36.71],\n",
       "       [19.2 ],\n",
       "       [29.47],\n",
       "       [15.98],\n",
       "       [14.61],\n",
       "       [37.03],\n",
       "       [31.63],\n",
       "       [12.35],\n",
       "       [12.49],\n",
       "       [25.43],\n",
       "       [29.49],\n",
       "       [32.33],\n",
       "       [36.45],\n",
       "       [16.66],\n",
       "       [19.95],\n",
       "       [26.45],\n",
       "       [24.77],\n",
       "       [10.68],\n",
       "       [14.16],\n",
       "       [12.42],\n",
       "       [14.12],\n",
       "       [16.83],\n",
       "       [39.32],\n",
       "       [27.03],\n",
       "       [35.69],\n",
       "       [12.97],\n",
       "       [12.87],\n",
       "       [15.09],\n",
       "       [16.76],\n",
       "       [12.59],\n",
       "       [15.16],\n",
       "       [17.15],\n",
       "       [12.29],\n",
       "       [26.47],\n",
       "       [10.39],\n",
       "       [12.74],\n",
       "       [11.34],\n",
       "       [32.96],\n",
       "       [40.11],\n",
       "       [12.68],\n",
       "       [13.69],\n",
       "       [12.85],\n",
       "       [15.41],\n",
       "       [13.94],\n",
       "       [32.4 ],\n",
       "       [10.72],\n",
       "       [32.12],\n",
       "       [28.15],\n",
       "       [13.  ],\n",
       "       [15.55],\n",
       "       [15.16],\n",
       "       [12.85],\n",
       "       [32.85],\n",
       "       [28.15],\n",
       "       [11.22],\n",
       "       [14.18],\n",
       "       [33.16],\n",
       "       [11.44],\n",
       "       [42.62],\n",
       "       [14.32],\n",
       "       [37.24],\n",
       "       [11.11],\n",
       "       [12.57],\n",
       "       [32.49],\n",
       "       [24.28],\n",
       "       [14.65],\n",
       "       [40.57],\n",
       "       [14.37],\n",
       "       [15.3 ],\n",
       "       [10.78],\n",
       "       [14.22],\n",
       "       [39.04],\n",
       "       [36.91],\n",
       "       [12.97],\n",
       "       [ 8.45],\n",
       "       [25.98],\n",
       "       [12.95],\n",
       "       [41.92],\n",
       "       [33.21],\n",
       "       [24.32],\n",
       "       [16.64],\n",
       "       [39.84],\n",
       "       [25.36],\n",
       "       [25.27],\n",
       "       [32.24],\n",
       "       [18.48],\n",
       "       [28.88],\n",
       "       [24.96],\n",
       "       [41.73],\n",
       "       [35.24],\n",
       "       [12.84],\n",
       "       [11.14],\n",
       "       [38.67],\n",
       "       [25.37],\n",
       "       [25.66],\n",
       "       [40.79],\n",
       "       [29.01],\n",
       "       [10.64],\n",
       "       [14.62],\n",
       "       [16.35],\n",
       "       [15.36],\n",
       "       [32.21],\n",
       "       [25.49],\n",
       "       [32.67],\n",
       "       [14.92],\n",
       "       [17.14],\n",
       "       [12.93],\n",
       "       [40.19],\n",
       "       [15.29],\n",
       "       [12.97],\n",
       "       [35.67],\n",
       "       [13.  ],\n",
       "       [25.17],\n",
       "       [25.17],\n",
       "       [12.78],\n",
       "       [28.75],\n",
       "       [10.77],\n",
       "       [32.75],\n",
       "       [12.43],\n",
       "       [32.68],\n",
       "       [18.84],\n",
       "       [17.05],\n",
       "       [36.52],\n",
       "       [11.8 ],\n",
       "       [40.03],\n",
       "       [39.97],\n",
       "       [ 6.05],\n",
       "       [32.82],\n",
       "       [10.34],\n",
       "       [ 7.1 ],\n",
       "       [12.02],\n",
       "       [29.08],\n",
       "       [29.6 ],\n",
       "       [41.3 ],\n",
       "       [12.34],\n",
       "       [13.86],\n",
       "       [11.21],\n",
       "       [28.64],\n",
       "       [26.89],\n",
       "       [10.55],\n",
       "       [29.47],\n",
       "       [33.27],\n",
       "       [13.95],\n",
       "       [12.62],\n",
       "       [37.26],\n",
       "       [14.7 ],\n",
       "       [10.68],\n",
       "       [36.45],\n",
       "       [38.33],\n",
       "       [26.91],\n",
       "       [32.53],\n",
       "       [10.53],\n",
       "       [15.16],\n",
       "       [29.9 ],\n",
       "       [16.92],\n",
       "       [12.73],\n",
       "       [23.86],\n",
       "       [12.82],\n",
       "       [17.26],\n",
       "       [41.96],\n",
       "       [12.71],\n",
       "       [36.03],\n",
       "       [30.  ],\n",
       "       [12.86],\n",
       "       [12.93],\n",
       "       [11.59],\n",
       "       [27.27],\n",
       "       [42.11],\n",
       "       [19.36],\n",
       "       [34.24],\n",
       "       [32.39],\n",
       "       [32.38],\n",
       "       [16.86],\n",
       "       [21.46],\n",
       "       [14.28],\n",
       "       [ 8.49],\n",
       "       [38.65],\n",
       "       [32.48],\n",
       "       [10.38],\n",
       "       [28.52],\n",
       "       [24.58],\n",
       "       [39.86],\n",
       "       [14.54],\n",
       "       [15.55],\n",
       "       [17.23],\n",
       "       [28.65],\n",
       "       [12.57],\n",
       "       [29.91],\n",
       "       [28.69],\n",
       "       [26.  ],\n",
       "       [15.34],\n",
       "       [15.36],\n",
       "       [24.29],\n",
       "       [12.74],\n",
       "       [12.47],\n",
       "       [11.22],\n",
       "       [ 6.01],\n",
       "       [14.71],\n",
       "       [33.27],\n",
       "       [31.69],\n",
       "       [24.63],\n",
       "       [12.33],\n",
       "       [11.42],\n",
       "       [ 7.1 ],\n",
       "       [23.84],\n",
       "       [13.04],\n",
       "       [41.09],\n",
       "       [12.77],\n",
       "       [13.  ],\n",
       "       [12.73],\n",
       "       [29.08],\n",
       "       [38.82],\n",
       "       [10.7 ],\n",
       "       [13.86],\n",
       "       [10.68],\n",
       "       [19.42],\n",
       "       [24.04],\n",
       "       [14.56],\n",
       "       [18.71],\n",
       "       [36.7 ],\n",
       "       [39.31],\n",
       "       [32.72],\n",
       "       [39.72],\n",
       "       [36.97],\n",
       "       [14.52],\n",
       "       [25.41],\n",
       "       [31.89],\n",
       "       [40.43],\n",
       "       [28.01],\n",
       "       [22.79],\n",
       "       [11.07],\n",
       "       [29.53],\n",
       "       [27.9 ],\n",
       "       [13.01],\n",
       "       [12.12],\n",
       "       [32.41],\n",
       "       [29.87],\n",
       "       [29.05],\n",
       "       [39.83],\n",
       "       [32.73],\n",
       "       [24.24],\n",
       "       [14.1 ],\n",
       "       [40.15],\n",
       "       [19.5 ],\n",
       "       [32.69],\n",
       "       [ 7.18],\n",
       "       [36.95],\n",
       "       [23.89],\n",
       "       [26.19],\n",
       "       [32.74],\n",
       "       [14.5 ],\n",
       "       [34.72],\n",
       "       [32.46],\n",
       "       [30.05],\n",
       "       [12.1 ],\n",
       "       [29.62],\n",
       "       [15.29],\n",
       "       [28.93],\n",
       "       [40.71],\n",
       "       [29.71],\n",
       "       [24.35],\n",
       "       [24.11],\n",
       "       [15.23],\n",
       "       [19.06],\n",
       "       [35.84],\n",
       "       [25.74],\n",
       "       [12.28],\n",
       "       [13.18],\n",
       "       [15.12],\n",
       "       [10.45],\n",
       "       [14.32],\n",
       "       [13.04],\n",
       "       [29.5 ],\n",
       "       [28.05],\n",
       "       [11.34],\n",
       "       [33.48],\n",
       "       [39.04],\n",
       "       [10.32],\n",
       "       [11.61],\n",
       "       [26.33],\n",
       "       [32.07],\n",
       "       [28.03],\n",
       "       [12.19],\n",
       "       [32.75],\n",
       "       [11.46],\n",
       "       [39.81],\n",
       "       [14.71],\n",
       "       [14.45],\n",
       "       [14.48],\n",
       "       [10.14],\n",
       "       [31.12],\n",
       "       [28.95],\n",
       "       [14.47],\n",
       "       [40.78],\n",
       "       [28.17],\n",
       "       [14.41],\n",
       "       [12.19],\n",
       "       [10.39],\n",
       "       [32.05],\n",
       "       [28.42],\n",
       "       [39.89],\n",
       "       [35.65],\n",
       "       [15.4 ],\n",
       "       [16.55],\n",
       "       [12.93],\n",
       "       [15.19],\n",
       "       [14.33],\n",
       "       [12.65],\n",
       "       [11.98],\n",
       "       [42.77],\n",
       "       [36.86],\n",
       "       [36.77],\n",
       "       [15.12],\n",
       "       [17.14],\n",
       "       [28.67],\n",
       "       [11.18],\n",
       "       [31.81],\n",
       "       [35.05],\n",
       "       [16.99],\n",
       "       [28.4 ],\n",
       "       [11.67],\n",
       "       [14.96],\n",
       "       [15.09],\n",
       "       [40.4 ],\n",
       "       [14.33],\n",
       "       [13.78],\n",
       "       [14.51],\n",
       "       [32.71],\n",
       "       [11.69],\n",
       "       [24.03],\n",
       "       [23.87],\n",
       "       [13.68],\n",
       "       [ 6.81],\n",
       "       [29.22],\n",
       "       [10.35],\n",
       "       [15.16],\n",
       "       [14.07],\n",
       "       [32.21],\n",
       "       [13.02],\n",
       "       [14.42],\n",
       "       [24.35],\n",
       "       [17.14],\n",
       "       [12.36],\n",
       "       [14.61],\n",
       "       [36.45],\n",
       "       [23.59],\n",
       "       [28.4 ],\n",
       "       [25.48],\n",
       "       [14.03],\n",
       "       [10.15],\n",
       "       [20.84],\n",
       "       [42.49],\n",
       "       [29.52],\n",
       "       [15.34],\n",
       "       [42.5 ],\n",
       "       [24.13],\n",
       "       [17.17],\n",
       "       [35.64],\n",
       "       [36.06],\n",
       "       [ 8.5 ],\n",
       "       [ 6.85],\n",
       "       [26.44],\n",
       "       [11.33],\n",
       "       [ 6.04],\n",
       "       [35.4 ],\n",
       "       [11.33],\n",
       "       [29.09],\n",
       "       [17.02],\n",
       "       [28.15],\n",
       "       [12.31],\n",
       "       [32.29],\n",
       "       [41.64],\n",
       "       [39.01],\n",
       "       [15.34],\n",
       "       [23.54],\n",
       "       [12.92],\n",
       "       [39.68],\n",
       "       [11.45],\n",
       "       [14.39],\n",
       "       [16.73],\n",
       "       [35.56],\n",
       "       [16.95],\n",
       "       [22.93],\n",
       "       [10.85],\n",
       "       [25.7 ],\n",
       "       [17.11],\n",
       "       [15.36],\n",
       "       [10.08],\n",
       "       [29.03],\n",
       "       [28.57],\n",
       "       [32.  ],\n",
       "       [26.45],\n",
       "       [12.49],\n",
       "       [36.26],\n",
       "       [16.44],\n",
       "       [10.7 ],\n",
       "       [25.37],\n",
       "       [35.48],\n",
       "       [14.55],\n",
       "       [38.35],\n",
       "       [14.33],\n",
       "       [27.02],\n",
       "       [15.23],\n",
       "       [32.4 ],\n",
       "       [15.55],\n",
       "       [16.9 ],\n",
       "       [14.7 ],\n",
       "       [11.11],\n",
       "       [22.8 ],\n",
       "       [ 6.77],\n",
       "       [12.27],\n",
       "       [16.86],\n",
       "       [36.81],\n",
       "       [12.2 ],\n",
       "       [15.21],\n",
       "       [28.6 ],\n",
       "       [15.23],\n",
       "       [29.87],\n",
       "       [24.33],\n",
       "       [17.41],\n",
       "       [12.45],\n",
       "       [14.54],\n",
       "       [28.63],\n",
       "       [11.14],\n",
       "       [32.33],\n",
       "       [18.19],\n",
       "       [38.89],\n",
       "       [33.13],\n",
       "       [12.76],\n",
       "       [12.12],\n",
       "       [24.26],\n",
       "       [15.23],\n",
       "       [14.42],\n",
       "       [28.64],\n",
       "       [12.63],\n",
       "       [14.44],\n",
       "       [16.62],\n",
       "       [31.66],\n",
       "       [12.25],\n",
       "       [26.37],\n",
       "       [16.56],\n",
       "       [14.51],\n",
       "       [24.37],\n",
       "       [23.93],\n",
       "       [12.5 ],\n",
       "       [12.43],\n",
       "       [35.78],\n",
       "       [11.38],\n",
       "       [12.73],\n",
       "       [28.56],\n",
       "       [12.28],\n",
       "       [29.39],\n",
       "       [31.66],\n",
       "       [36.96],\n",
       "       [15.18],\n",
       "       [11.32],\n",
       "       [14.9 ],\n",
       "       [24.25],\n",
       "       [13.05],\n",
       "       [11.69],\n",
       "       [12.18],\n",
       "       [17.52],\n",
       "       [33.09],\n",
       "       [12.67],\n",
       "       [10.46],\n",
       "       [15.09],\n",
       "       [24.77],\n",
       "       [14.6 ],\n",
       "       [32.21],\n",
       "       [26.33],\n",
       "       [10.67],\n",
       "       [28.62],\n",
       "       [28.83]])"
      ]
     },
     "execution_count": 79,
     "metadata": {},
     "output_type": "execute_result"
    }
   ],
   "source": [
    "trainTargets_y1"
   ]
  },
  {
   "cell_type": "markdown",
   "id": "7804b1b4",
   "metadata": {},
   "source": [
    "### Shuffel the Array\n",
    "\n",
    "They look unordered, but shuffeling is never a bad idea."
   ]
  },
  {
   "cell_type": "code",
   "execution_count": 27,
   "id": "72733890",
   "metadata": {},
   "outputs": [],
   "source": [
    "def unison_shuffled_copies(a, b):\n",
    "    assert len(a) == len(b)\n",
    "    p = np.random.permutation(len(a))\n",
    "    return a[p], b[p]\n",
    "\n",
    "trainInputs, trainTargets  = unison_shuffled_copies(trainInputs, trainTargets)\n",
    "testInputs, testTargets  = unison_shuffled_copies(testInputs, testTargets)"
   ]
  },
  {
   "cell_type": "markdown",
   "id": "6abdbda9",
   "metadata": {},
   "source": [
    "### Reduce the Dimensionality"
   ]
  },
  {
   "cell_type": "code",
   "execution_count": 9,
   "id": "6318af93",
   "metadata": {},
   "outputs": [
    {
     "name": "stdout",
     "output_type": "stream",
     "text": [
      "Number of Dimensions:  (768, 10)\n"
     ]
    }
   ],
   "source": [
    "print(\"Number of Dimensions: \", data.shape)"
   ]
  },
  {
   "cell_type": "markdown",
   "id": "83524b81",
   "metadata": {},
   "source": [
    "### How many dimensions should we reduce it to?\n",
    "\n",
    "We should check to see if there is an optimal number of dimensions for this data that give both good accuracy and reduced compute compared to the full dataset.\n",
    "\n",
    "The plot bellow shows cumulative explained varience for different number of dimensions (ie pricipal components)\n",
    "\n",
    "Cumulative varience is the percentage (in this case expressed as a decimal) of the real varience in the data that can be expressed with a number of dimensions. The larger the number of dimensions, the larger the amount of varience that can be expressed. 95% is a good aim, this is near the top of the slope, but not so close it requires vastly more compute than a smaller value.\n",
    "\n",
    "From this graph we can see that 4 dimension can represent the entire datasets CEV to a near 100% accuracy. So we will use SKLearns PCA module to transform the data to a 4 dimensions. This is to reduce the computational complexity of the problem."
   ]
  },
  {
   "cell_type": "code",
   "execution_count": 10,
   "id": "2a57dd58",
   "metadata": {},
   "outputs": [
    {
     "data": {
      "text/plain": [
       "Text(0, 0.5, 'Cumulative Explained Variance')"
      ]
     },
     "execution_count": 10,
     "metadata": {},
     "output_type": "execute_result"
    },
    {
     "data": {
      "image/png": "[encoded data removed]",
      "text/plain": [
       "<Figure size 432x288 with 1 Axes>"
      ]
     },
     "metadata": {
      "needs_background": "light"
     },
     "output_type": "display_data"
    }
   ],
   "source": [
    "pca=PCA().fit(trainInputsScaled)\n",
    "plt.plot(np.cumsum(pca.explained_variance_ratio_))\n",
    "plt.xlabel('No. of dimensions')\n",
    "plt.ylabel('Cumulative Explained Variance')"
   ]
  },
  {
   "cell_type": "markdown",
   "id": "18fd94bb",
   "metadata": {},
   "source": [
    "### PCA\n",
    "\n",
    "We will now reduce the dimensionality of the data (both testing and training sets)"
   ]
  },
  {
   "cell_type": "code",
   "execution_count": 11,
   "id": "7e19cbc6",
   "metadata": {},
   "outputs": [],
   "source": [
    "pca = PCA(4)  \n",
    "trainInputsPCA = pca.fit_transform(trainInputs)\n",
    "testInputsPCA = pca.fit_transform(testInputs)"
   ]
  },
  {
   "cell_type": "code",
   "execution_count": 12,
   "id": "a8cb85e3",
   "metadata": {},
   "outputs": [
    {
     "data": {
      "text/plain": [
       "(576, 4)"
      ]
     },
     "execution_count": 12,
     "metadata": {},
     "output_type": "execute_result"
    }
   ],
   "source": [
    "trainInputsPCA.shape"
   ]
  },
  {
   "cell_type": "markdown",
   "id": "8558e6ea",
   "metadata": {},
   "source": [
    "### Plot Some Data\n",
    "\n",
    "We can see from the bellow plot that for these two input metrics there is wildly different scales. One is between 0.5 to 1 and the other 500 to 900.\n",
    "\n",
    "We need to scale this data using one of sk learns scaller. We will use the  "
   ]
  },
  {
   "cell_type": "code",
   "execution_count": 50,
   "id": "4b681f2f",
   "metadata": {
    "scrolled": true
   },
   "outputs": [
    {
     "data": {
      "image/png": "[encoded data removed]",
      "text/plain": [
       "<Figure size 432x288 with 1 Axes>"
      ]
     },
     "metadata": {
      "needs_background": "light"
     },
     "output_type": "display_data"
    }
   ],
   "source": [
    "plt.figure()\n",
    "plt.scatter(trainInputsPCA[:,0], trainInputsPCA[:,1], c= trainTargets[:,0])\n",
    "plt.title(\"Inputs v Targets\")\n",
    "plt.show()"
   ]
  },
  {
   "cell_type": "code",
   "execution_count": 51,
   "id": "8a548784",
   "metadata": {},
   "outputs": [],
   "source": [
    "scaler = MinMaxScaler()\n",
    "trainInputsScaled = scaler.fit_transform(trainInputsPCA)\n",
    "testInputsScaled = scaler.fit_transform(testInputsPCA)"
   ]
  },
  {
   "cell_type": "markdown",
   "id": "e0a2df2f",
   "metadata": {},
   "source": [
    "We can now see that the data has been scalled so the minimum value is now 0 and the maximum value is 1."
   ]
  },
  {
   "cell_type": "code",
   "execution_count": 53,
   "id": "386db3e9",
   "metadata": {
    "scrolled": true
   },
   "outputs": [
    {
     "data": {
      "image/png": "[encoded data removed]",
      "text/plain": [
       "<Figure size 432x288 with 1 Axes>"
      ]
     },
     "metadata": {
      "needs_background": "light"
     },
     "output_type": "display_data"
    }
   ],
   "source": [
    "plt.figure()\n",
    "plt.scatter(trainInputsScaled[:,0], trainInputsScaled[:,1], c= trainTargets[:,0])\n",
    "plt.title(\"Inputs v Targets\")\n",
    "plt.show()"
   ]
  },
  {
   "cell_type": "markdown",
   "id": "e212607c",
   "metadata": {},
   "source": [
    "## Random Forest"
   ]
  },
  {
   "cell_type": "code",
   "execution_count": 140,
   "id": "11b35adf",
   "metadata": {},
   "outputs": [],
   "source": [
    "regressor = MLPRegressor(max_iter=1000)\n",
    "regressor.fit(trainInputsPCA, trainTargets)\n",
    "outputs = regressor.predict(testInputsScaled)"
   ]
  },
  {
   "cell_type": "code",
   "execution_count": 141,
   "id": "3bb72ab0",
   "metadata": {},
   "outputs": [
    {
     "data": {
      "image/png": "[encoded data removed]",
      "text/plain": [
       "<Figure size 432x288 with 1 Axes>"
      ]
     },
     "metadata": {
      "needs_background": "light"
     },
     "output_type": "display_data"
    }
   ],
   "source": [
    "plt.plot(regressor.loss_curve_)\n",
    "plt.title(\"Loss Curve\")\n",
    "plt.xlabel('Iterations')\n",
    "plt.ylabel('Loss')\n",
    "plt.show()"
   ]
  },
  {
   "cell_type": "code",
   "execution_count": 142,
   "id": "47ff462a",
   "metadata": {},
   "outputs": [
    {
     "name": "stdout",
     "output_type": "stream",
     "text": [
      "MSE: 311.5347182314973\n"
     ]
    }
   ],
   "source": [
    "print(\"MSE: \" + str(mean_squared_error(testTargets, outputs)))\n"
   ]
  },
  {
   "cell_type": "code",
   "execution_count": 144,
   "id": "16839ad9",
   "metadata": {},
   "outputs": [
    {
     "name": "stdout",
     "output_type": "stream",
     "text": [
      "MSE: 282.5801165177428\n"
     ]
    }
   ],
   "source": [
    "outputs = regressor.predict(trainInputsScaled)\n",
    "print(\"MSE: \" + str(mean_squared_error(trainTargets, outputs)))\n"
   ]
  },
  {
   "cell_type": "code",
   "execution_count": 131,
   "id": "e913d887",
   "metadata": {},
   "outputs": [],
   "source": [
    "rf = RandomForestRegressor()\n",
    "rf_cvs = cross_val_score(rf, trainInputsScaled, trainTargets, cv=100, scoring='neg_mean_squared_error')"
   ]
  },
  {
   "cell_type": "code",
   "execution_count": 132,
   "id": "ac6fb199",
   "metadata": {},
   "outputs": [
    {
     "data": {
      "image/png": "[encoded data removed]",
      "text/plain": [
       "<Figure size 432x504 with 1 Axes>"
      ]
     },
     "metadata": {
      "needs_background": "light"
     },
     "output_type": "display_data"
    }
   ],
   "source": [
    "fig = plt.figure(figsize =(6, 7))\n",
    "ax = fig.add_axes([0, 0, 1, 1])\n",
    "bp = ax.boxplot(rf_cvs)\n",
    "plt.show()"
   ]
  },
  {
   "cell_type": "markdown",
   "id": "f899355f",
   "metadata": {},
   "source": [
    "## Neural Network"
   ]
  },
  {
   "cell_type": "code",
   "execution_count": 137,
   "id": "bd6109c1",
   "metadata": {},
   "outputs": [],
   "source": [
    "regressor = MLPRegressor(max_iter=1000)\n",
    "nn_cvs = cross_val_score(regressor, trainInputsScaled, trainTargets, cv=100, scoring='neg_mean_squared_error')"
   ]
  },
  {
   "cell_type": "code",
   "execution_count": 138,
   "id": "dc48aed0",
   "metadata": {},
   "outputs": [
    {
     "ename": "AttributeError",
     "evalue": "'MLPRegressor' object has no attribute 'loss_curve_'",
     "output_type": "error",
     "traceback": [
      "\u001b[0;31m---------------------------------------------------------------------------\u001b[0m",
      "\u001b[0;31mAttributeError\u001b[0m                            Traceback (most recent call last)",
      "Input \u001b[0;32mIn [138]\u001b[0m, in \u001b[0;36m<module>\u001b[0;34m\u001b[0m\n\u001b[0;32m----> 1\u001b[0m plt\u001b[38;5;241m.\u001b[39mplot(\u001b[43mregressor\u001b[49m\u001b[38;5;241;43m.\u001b[39;49m\u001b[43mloss_curve_\u001b[49m)\n\u001b[1;32m      2\u001b[0m plt\u001b[38;5;241m.\u001b[39mtitle(\u001b[38;5;124m\"\u001b[39m\u001b[38;5;124mLoss Curve\u001b[39m\u001b[38;5;124m\"\u001b[39m)\n\u001b[1;32m      3\u001b[0m plt\u001b[38;5;241m.\u001b[39mxlabel(\u001b[38;5;124m'\u001b[39m\u001b[38;5;124mIterations\u001b[39m\u001b[38;5;124m'\u001b[39m)\n",
      "\u001b[0;31mAttributeError\u001b[0m: 'MLPRegressor' object has no attribute 'loss_curve_'"
     ]
    }
   ],
   "source": [
    "plt.plot(regressor.loss_curve_)\n",
    "plt.title(\"Loss Curve\")\n",
    "plt.xlabel('Iterations')\n",
    "plt.ylabel('Loss')\n",
    "plt.show()"
   ]
  },
  {
   "cell_type": "code",
   "execution_count": 139,
   "id": "6996a057",
   "metadata": {},
   "outputs": [
    {
     "data": {
      "image/png": "[encoded data removed]",
      "text/plain": [
       "<Figure size 432x504 with 1 Axes>"
      ]
     },
     "metadata": {
      "needs_background": "light"
     },
     "output_type": "display_data"
    }
   ],
   "source": [
    "fig = plt.figure(figsize =(6, 7))\n",
    "ax = fig.add_axes([0, 0, 1, 1])\n",
    "bp = ax.boxplot(nn_cvs)\n",
    "plt.show()"
   ]
  },
  {
   "cell_type": "markdown",
   "id": "4789f8c1",
   "metadata": {},
   "source": [
    "## Support Vector Machine"
   ]
  },
  {
   "cell_type": "code",
   "execution_count": 92,
   "id": "c72b3821",
   "metadata": {},
   "outputs": [],
   "source": [
    "classifier = svm.SVR(gamma=\"auto\")\n",
    "classifier.fit(trainInputsPCA, trainTargets_y1.ravel())\n",
    "outputs = classifier.predict(testInputsScaled)"
   ]
  }
 ],
 "metadata": {
  "kernelspec": {
   "display_name": "Python 3 (ipykernel)",
   "language": "python",
   "name": "python3"
  },
  "language_info": {
   "codemirror_mode": {
    "name": "ipython",
    "version": 3
   },
   "file_extension": ".py",
   "mimetype": "text/x-python",
   "name": "python",
   "nbconvert_exporter": "python",
   "pygments_lexer": "ipython3",
   "version": "3.8.10"
  }
 },
 "nbformat": 4,
 "nbformat_minor": 5
}
