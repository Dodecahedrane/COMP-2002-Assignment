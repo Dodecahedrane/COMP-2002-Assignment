{
 "cells": [
  {
   "cell_type": "markdown",
   "id": "40bc9642",
   "metadata": {},
   "source": [
    "# COMP 2002 Intro to AI\n",
    "## Assignment"
   ]
  },
  {
   "cell_type": "markdown",
   "id": "a86b8491",
   "metadata": {},
   "source": [
    "This assignment contributes 70% of the overall module mark for COMP2002 and is an individual\n",
    "assignment. You must submit the deliverables to the DLE by the specified submission dates.\n",
    "\n",
    "The coursework has two parts – one is a machine learning exercise and the second is about\n",
    "evolutionary computation. You must complete and submit both parts. Each part is worth 50% of\n",
    "the coursework mark."
   ]
  },
  {
   "cell_type": "markdown",
   "id": "7a548811",
   "metadata": {},
   "source": [
    "# Part 1 - ML\n",
    "\n",
    "You have been provided with datasets relating to the energy efficiency of buildings. Your task is to\n",
    "train regression models that predict two indicators of energy efficiency based on 8 numerical inputs."
   ]
  },
  {
   "cell_type": "markdown",
   "id": "9deaf38a",
   "metadata": {},
   "source": [
    "## Task 1.1 - Data preparation \n",
    "\n",
    "The first phase of the work requires you to load the data you have been provided with into your Python\n",
    "program. Before the data can be used to train and test your models you must first prepare it – this\n",
    "means that the inputs must be normalized. There is no missing data in the dataset.\n",
    "\n",
    "(10% of total mark)"
   ]
  },
  {
   "cell_type": "markdown",
   "id": "85647f97",
   "metadata": {},
   "source": [
    "## Task 1.2 - Regression \n",
    "\n",
    "Having prepared the data you must now build a regression tool that can predict new points. Use the\n",
    "following regression implementations within the scikit-learn package to construct predictors for the\n",
    "dataset:\n",
    "\n",
    "- Random Forest (sklearn.ensemble.RandomForestRegressor)\n",
    "- Neural Network (sklearn.neural_network.MLPRegressor)\n",
    "- Support Vector Machine (sklearn.svm.SVR)\n",
    "\n",
    "You must demonstrate that each regressor is capable of providing a prediction for a given input.\n",
    "\n",
    "(20% of total mark)"
   ]
  },
  {
   "cell_type": "markdown",
   "id": "c8c2fb28",
   "metadata": {},
   "source": [
    "## Task 1.3 – Assessment of regression \n",
    "\n",
    "The regression models you have used in the previous task must be assessed. To do this you are\n",
    "required to assess the mean square error rate for each model. You may use the MSE implementation\n",
    "available in scikit-learn to do this. It is not sufficient to report a single MSE rate. You must use cross\n",
    "validation to report training and testing results and report these values using a boxplot.\n",
    "\n",
    "(20% of total mark)"
   ]
  },
  {
   "cell_type": "markdown",
   "id": "7e0cb781",
   "metadata": {},
   "source": [
    "## Import Required Libraries"
   ]
  },
  {
   "cell_type": "code",
   "execution_count": 36,
   "id": "338b90fd",
   "metadata": {},
   "outputs": [],
   "source": [
    "import pandas as pandas\n",
    "import numpy as np \n",
    "import matplotlib.pyplot as plt\n",
    "\n",
    "from sklearn.decomposition import PCA"
   ]
  },
  {
   "cell_type": "markdown",
   "id": "c571188b",
   "metadata": {},
   "source": [
    "## Data Preparation"
   ]
  },
  {
   "cell_type": "markdown",
   "id": "9d8c47f7",
   "metadata": {},
   "source": [
    "### Load with Pandas"
   ]
  },
  {
   "cell_type": "code",
   "execution_count": 2,
   "id": "3fc00e00",
   "metadata": {},
   "outputs": [
    {
     "name": "stdout",
     "output_type": "stream",
     "text": [
      "       X1     X2     X3      X4   X5  X6   X7  X8     Y1     Y2\n",
      "0    0.98  514.5  294.0  110.25  7.0   2  0.0   0  15.55  21.33\n",
      "1    0.98  514.5  294.0  110.25  7.0   3  0.0   0  15.55  21.33\n",
      "2    0.98  514.5  294.0  110.25  7.0   4  0.0   0  15.55  21.33\n",
      "3    0.98  514.5  294.0  110.25  7.0   5  0.0   0  15.55  21.33\n",
      "4    0.90  563.5  318.5  122.50  7.0   2  0.0   0  20.84  28.28\n",
      "..    ...    ...    ...     ...  ...  ..  ...  ..    ...    ...\n",
      "763  0.64  784.0  343.0  220.50  3.5   5  0.4   5  17.88  21.40\n",
      "764  0.62  808.5  367.5  220.50  3.5   2  0.4   5  16.54  16.88\n",
      "765  0.62  808.5  367.5  220.50  3.5   3  0.4   5  16.44  17.11\n",
      "766  0.62  808.5  367.5  220.50  3.5   4  0.4   5  16.48  16.61\n",
      "767  0.62  808.5  367.5  220.50  3.5   5  0.4   5  16.64  16.03\n",
      "\n",
      "[768 rows x 10 columns]\n"
     ]
    }
   ],
   "source": [
    "data = pandas.read_csv(\"data.csv\")\n",
    "\n",
    "print(data)"
   ]
  },
  {
   "cell_type": "markdown",
   "id": "eb90efbd",
   "metadata": {},
   "source": [
    "### Extract the Data"
   ]
  },
  {
   "cell_type": "code",
   "execution_count": 26,
   "id": "9ca5a95d",
   "metadata": {},
   "outputs": [
    {
     "data": {
      "text/plain": [
       "array([  0.98, 514.5 , 294.  , 110.25,   7.  ,   2.  ,   0.  ,   0.  ])"
      ]
     },
     "execution_count": 26,
     "metadata": {},
     "output_type": "execute_result"
    }
   ],
   "source": [
    "# Extract the inputs.\n",
    "inputs = data.values[:,:8].astype(float)\n",
    "targets = data.values[:,8:].astype(float)\n",
    "\n",
    "inputs[0]"
   ]
  },
  {
   "cell_type": "markdown",
   "id": "f01efc3b",
   "metadata": {},
   "source": [
    "### Split Data into Training and Testing Sets"
   ]
  },
  {
   "cell_type": "code",
   "execution_count": 27,
   "id": "6c9666b2",
   "metadata": {},
   "outputs": [
    {
     "data": {
      "text/plain": [
       "(768, 8)"
      ]
     },
     "execution_count": 27,
     "metadata": {},
     "output_type": "execute_result"
    }
   ],
   "source": [
    "inputs.shape"
   ]
  },
  {
   "cell_type": "code",
   "execution_count": 28,
   "id": "cd6c2e44",
   "metadata": {},
   "outputs": [
    {
     "data": {
      "text/plain": [
       "(768, 2)"
      ]
     },
     "execution_count": 28,
     "metadata": {},
     "output_type": "execute_result"
    }
   ],
   "source": [
    "targets.shape"
   ]
  },
  {
   "cell_type": "markdown",
   "id": "5d306552",
   "metadata": {},
   "source": [
    "500 testing, 268 training"
   ]
  },
  {
   "cell_type": "code",
   "execution_count": 29,
   "id": "50d04482",
   "metadata": {},
   "outputs": [],
   "source": [
    "trainInputs = inputs[0:499,:]\n",
    "trainTargets = targets[0:499,:]\n",
    "\n",
    "testInputs = inputs[500:,:]\n",
    "testTargets = targets[500:,:]"
   ]
  },
  {
   "cell_type": "markdown",
   "id": "29fef9da",
   "metadata": {},
   "source": [
    "### Shuffel the Array\n",
    "\n",
    "They look unordered, but shuffeling is never a bad idea."
   ]
  },
  {
   "cell_type": "code",
   "execution_count": 33,
   "id": "622c63c1",
   "metadata": {},
   "outputs": [],
   "source": [
    "#shuffel the array\n",
    "def unison_shuffled_copies(a, b):\n",
    "    assert len(a) == len(b)\n",
    "    p = np.random.permutation(len(a))\n",
    "    return a[p], b[p]\n",
    "\n",
    "trainInputs, trainTargets  = unison_shuffled_copies(trainInputs, trainTargets)\n",
    "testInputs, testTargets  = unison_shuffled_copies(testInputs, testTargets)"
   ]
  },
  {
   "cell_type": "markdown",
   "id": "cb7a9d9f",
   "metadata": {},
   "source": [
    "### Reduce the Dimensionality"
   ]
  },
  {
   "cell_type": "code",
   "execution_count": 34,
   "id": "4d302c53",
   "metadata": {},
   "outputs": [
    {
     "name": "stdout",
     "output_type": "stream",
     "text": [
      "Number of Dimensions:  (768, 10)\n"
     ]
    }
   ],
   "source": [
    "print(\"Number of Dimensions: \", data.shape)"
   ]
  },
  {
   "cell_type": "markdown",
   "id": "8330a0a9",
   "metadata": {},
   "source": [
    "### How many dimensions should we reduce it to?\n",
    "\n",
    "We should check to see if there is an optimal number of dimensions for this data that give both good accuracy and reduced compute compared to the full dataset.\n",
    "\n",
    "The plot bellow shows cumulative explained varience for different number of dimensions (ie pricipal components)\n",
    "\n",
    "Cumulative varience is the percentage (in this case expressed as a decimal) of the real varience in the data that can be expressed with a number of dimensions. The larger the number of dimensions, the larger the amount of varience that can be expressed. 95% is a good aim, this is near the top of the slope, but not so close it requires vastly more compute than a smaller value.\n",
    "\n",
    "From this graph we can see that 1 dimension can represent the entire datasets CEV."
   ]
  },
  {
   "cell_type": "code",
   "execution_count": 38,
   "id": "dc28c497",
   "metadata": {},
   "outputs": [
    {
     "data": {
      "text/plain": [
       "Text(0, 0.5, 'Cumulative Explained Variance')"
      ]
     },
     "execution_count": 38,
     "metadata": {},
     "output_type": "execute_result"
    },
    {
     "data": {
      "image/png": "[encoded data removed]",
      "text/plain": [
       "<Figure size 432x288 with 1 Axes>"
      ]
     },
     "metadata": {
      "needs_background": "light"
     },
     "output_type": "display_data"
    }
   ],
   "source": [
    "pca=PCA().fit(trainInputs)\n",
    "plt.plot(np.cumsum(pca.explained_variance_ratio_))\n",
    "plt.xlabel('No. of dimensions')\n",
    "plt.ylabel('Cumulative Explained Variance')"
   ]
  },
  {
   "cell_type": "markdown",
   "id": "7c1f7ffe",
   "metadata": {},
   "source": [
    "### PCA\n",
    "\n",
    "We will now reduce the dimensionality of the data"
   ]
  },
  {
   "cell_type": "code",
   "execution_count": 43,
   "id": "4863acaf",
   "metadata": {},
   "outputs": [],
   "source": [
    "pca = PCA(1)  \n",
    "trainInputsPCA = pca.fit_transform(trainInputs)"
   ]
  },
  {
   "cell_type": "code",
   "execution_count": 44,
   "id": "4fa28096",
   "metadata": {},
   "outputs": [
    {
     "data": {
      "text/plain": [
       "(499, 1)"
      ]
     },
     "execution_count": 44,
     "metadata": {},
     "output_type": "execute_result"
    }
   ],
   "source": [
    "trainInputsPCA.shape"
   ]
  },
  {
   "cell_type": "markdown",
   "id": "4cd01653",
   "metadata": {},
   "source": [
    "### Normalising the Data"
   ]
  },
  {
   "cell_type": "code",
   "execution_count": null,
   "id": "b36a7b25",
   "metadata": {},
   "outputs": [],
   "source": []
  },
  {
   "cell_type": "markdown",
   "id": "043845ba",
   "metadata": {},
   "source": [
    "## Random Forest"
   ]
  },
  {
   "cell_type": "code",
   "execution_count": null,
   "id": "af359bd5",
   "metadata": {},
   "outputs": [],
   "source": []
  },
  {
   "cell_type": "markdown",
   "id": "91bd1361",
   "metadata": {},
   "source": [
    "## Neural Network"
   ]
  },
  {
   "cell_type": "code",
   "execution_count": null,
   "id": "c4155414",
   "metadata": {},
   "outputs": [],
   "source": []
  },
  {
   "cell_type": "markdown",
   "id": "7b6c9f50",
   "metadata": {},
   "source": [
    "## Support Vector Machine"
   ]
  },
  {
   "cell_type": "code",
   "execution_count": null,
   "id": "9e6943c9",
   "metadata": {},
   "outputs": [],
   "source": []
  }
 ],
 "metadata": {
  "kernelspec": {
   "display_name": "Python 3 (ipykernel)",
   "language": "python",
   "name": "python3"
  },
  "language_info": {
   "codemirror_mode": {
    "name": "ipython",
    "version": 3
   },
   "file_extension": ".py",
   "mimetype": "text/x-python",
   "name": "python",
   "nbconvert_exporter": "python",
   "pygments_lexer": "ipython3",
   "version": "3.8.10"
  }
 },
 "nbformat": 4,
 "nbformat_minor": 5
}
