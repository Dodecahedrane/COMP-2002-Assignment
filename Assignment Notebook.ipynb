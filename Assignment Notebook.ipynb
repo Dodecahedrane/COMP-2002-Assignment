{
 "cells": [
  {
   "cell_type": "markdown",
   "id": "4775edfb",
   "metadata": {},
   "source": [
    "# COMP 2002 Intro to AI\n",
    "## Assignment"
   ]
  },
  {
   "cell_type": "markdown",
   "id": "2adaa1f3",
   "metadata": {},
   "source": [
    "This assignment contributes 70% of the overall module mark for COMP2002 and is an individual\n",
    "assignment. You must submit the deliverables to the DLE by the specified submission dates.\n",
    "\n",
    "The coursework has two parts – one is a machine learning exercise and the second is about\n",
    "evolutionary computation. You must complete and submit both parts. Each part is worth 50% of\n",
    "the coursework mark."
   ]
  },
  {
   "cell_type": "markdown",
   "id": "9af0e8a5",
   "metadata": {},
   "source": [
    "# Part 1 - ML\n",
    "\n",
    "You have been provided with datasets relating to the energy efficiency of buildings. Your task is to\n",
    "train regression models that predict two indicators of energy efficiency based on 8 numerical inputs."
   ]
  },
  {
   "cell_type": "markdown",
   "id": "9f71cb91",
   "metadata": {},
   "source": [
    "## Task 1.1 - Data preparation \n",
    "\n",
    "The first phase of the work requires you to load the data you have been provided with into your Python\n",
    "program. Before the data can be used to train and test your models you must first prepare it – this\n",
    "means that the inputs must be normalized. There is no missing data in the dataset.\n",
    "\n",
    "(10% of total mark)"
   ]
  },
  {
   "cell_type": "markdown",
   "id": "4e0b5f51",
   "metadata": {},
   "source": [
    "## Task 1.2 - Regression \n",
    "\n",
    "Having prepared the data you must now build a regression tool that can predict new points. Use the\n",
    "following regression implementations within the scikit-learn package to construct predictors for the\n",
    "dataset:\n",
    "\n",
    "- Random Forest (sklearn.ensemble.RandomForestRegressor)\n",
    "- Neural Network (sklearn.neural_network.MLPRegressor)\n",
    "- Support Vector Machine (sklearn.svm.SVR)\n",
    "\n",
    "You must demonstrate that each regressor is capable of providing a prediction for a given input.\n",
    "\n",
    "(20% of total mark)"
   ]
  },
  {
   "cell_type": "markdown",
   "id": "175d6fe1",
   "metadata": {},
   "source": [
    "## Task 1.3 – Assessment of regression \n",
    "\n",
    "The regression models you have used in the previous task must be assessed. To do this you are\n",
    "required to assess the mean square error rate for each model. You may use the MSE implementation\n",
    "available in scikit-learn to do this. It is not sufficient to report a single MSE rate. You must use cross\n",
    "validation to report training and testing results and report these values using a boxplot.\n",
    "\n",
    "(20% of total mark)"
   ]
  },
  {
   "cell_type": "markdown",
   "id": "bf03b570",
   "metadata": {},
   "source": [
    "## Import Required Libraries"
   ]
  },
  {
   "cell_type": "code",
   "execution_count": 80,
   "id": "6fbf7c34",
   "metadata": {},
   "outputs": [],
   "source": [
    "import pandas as pandas\n",
    "import numpy as np \n",
    "import matplotlib.pyplot as plt\n",
    "\n",
    "from sklearn.decomposition import PCA\n",
    "from sklearn.ensemble import RandomForestRegressor\n",
    "from sklearn.model_selection import train_test_split\n",
    "from sklearn.metrics import mean_squared_error\n",
    "from sklearn.preprocessing import MinMaxScaler\n",
    "from sklearn.neural_network import MLPRegressor\n",
    "from sklearn import svm\n"
   ]
  },
  {
   "cell_type": "markdown",
   "id": "f871d2c6",
   "metadata": {},
   "source": [
    "## Data Preparation"
   ]
  },
  {
   "cell_type": "markdown",
   "id": "89760b0a",
   "metadata": {},
   "source": [
    "### Load with Pandas"
   ]
  },
  {
   "cell_type": "code",
   "execution_count": 3,
   "id": "7d10a453",
   "metadata": {},
   "outputs": [
    {
     "name": "stdout",
     "output_type": "stream",
     "text": [
      "       X1     X2     X3      X4   X5  X6   X7  X8     Y1     Y2\n",
      "0    0.98  514.5  294.0  110.25  7.0   2  0.0   0  15.55  21.33\n",
      "1    0.98  514.5  294.0  110.25  7.0   3  0.0   0  15.55  21.33\n",
      "2    0.98  514.5  294.0  110.25  7.0   4  0.0   0  15.55  21.33\n",
      "3    0.98  514.5  294.0  110.25  7.0   5  0.0   0  15.55  21.33\n",
      "4    0.90  563.5  318.5  122.50  7.0   2  0.0   0  20.84  28.28\n",
      "..    ...    ...    ...     ...  ...  ..  ...  ..    ...    ...\n",
      "763  0.64  784.0  343.0  220.50  3.5   5  0.4   5  17.88  21.40\n",
      "764  0.62  808.5  367.5  220.50  3.5   2  0.4   5  16.54  16.88\n",
      "765  0.62  808.5  367.5  220.50  3.5   3  0.4   5  16.44  17.11\n",
      "766  0.62  808.5  367.5  220.50  3.5   4  0.4   5  16.48  16.61\n",
      "767  0.62  808.5  367.5  220.50  3.5   5  0.4   5  16.64  16.03\n",
      "\n",
      "[768 rows x 10 columns]\n"
     ]
    }
   ],
   "source": [
    "data = pandas.read_csv(\"data.csv\")\n",
    "\n",
    "print(data)"
   ]
  },
  {
   "cell_type": "markdown",
   "id": "11989b6a",
   "metadata": {},
   "source": [
    "### Extract the Data"
   ]
  },
  {
   "cell_type": "code",
   "execution_count": 4,
   "id": "31025230",
   "metadata": {},
   "outputs": [],
   "source": [
    "# Extract the inputs.\n",
    "inputs = data.values[:,:8].astype(float)\n",
    "targets = data.values[:,8:].astype(float)"
   ]
  },
  {
   "cell_type": "markdown",
   "id": "f03d8e8a",
   "metadata": {},
   "source": [
    "### Split Data into Training and Testing Sets"
   ]
  },
  {
   "cell_type": "code",
   "execution_count": 5,
   "id": "1d2b5272",
   "metadata": {},
   "outputs": [],
   "source": [
    "trainInputs, testInputs, trainTargets, testTargets = train_test_split(inputs, \n",
    "                                                                          targets, \n",
    "                                                                          test_size=0.25, \n",
    "                                                                          random_state=42)"
   ]
  },
  {
   "cell_type": "markdown",
   "id": "7804b1b4",
   "metadata": {},
   "source": [
    "### Shuffel the Array\n",
    "\n",
    "They look unordered, but shuffeling is never a bad idea."
   ]
  },
  {
   "cell_type": "code",
   "execution_count": 6,
   "id": "72733890",
   "metadata": {},
   "outputs": [],
   "source": [
    "#shuffel the array\n",
    "def unison_shuffled_copies(a, b):\n",
    "    assert len(a) == len(b)\n",
    "    p = np.random.permutation(len(a))\n",
    "    return a[p], b[p]\n",
    "\n",
    "trainInputs, trainTargets  = unison_shuffled_copies(trainInputs, trainTargets)\n",
    "testInputs, testTargets  = unison_shuffled_copies(testInputs, testTargets)"
   ]
  },
  {
   "cell_type": "markdown",
   "id": "8558e6ea",
   "metadata": {},
   "source": [
    "### Plot Some Data\n",
    "\n",
    "We can see from the bellow plot that for these two input metrics there is wildly different scales. One is between 0.5 to 1 and the other 500 to 900.\n",
    "\n",
    "We need to scale this data using one of sk learns scaller. We will use the  "
   ]
  },
  {
   "cell_type": "code",
   "execution_count": 40,
   "id": "4b681f2f",
   "metadata": {},
   "outputs": [
    {
     "data": {
      "image/png": "[encoded data removed]",
      "text/plain": [
       "<Figure size 432x288 with 1 Axes>"
      ]
     },
     "metadata": {
      "needs_background": "light"
     },
     "output_type": "display_data"
    }
   ],
   "source": [
    "plt.figure()\n",
    "plt.scatter(trainInputs[:,1], trainInputs[:,0], c= trainTargets[:,0])\n",
    "plt.title(\"Inputs v Targets\")\n",
    "plt.show()"
   ]
  },
  {
   "cell_type": "code",
   "execution_count": 43,
   "id": "8a548784",
   "metadata": {},
   "outputs": [],
   "source": [
    "scaler = MinMaxScaler()\n",
    "trainInputsScaled = scaler.fit_transform(trainInputs)\n",
    "testInputsScaled = scaler.fit_transform(testInputs)"
   ]
  },
  {
   "cell_type": "markdown",
   "id": "e0a2df2f",
   "metadata": {},
   "source": [
    "We can now see that the data has been scalled so the minimum value is now 0 and the maximum value is 1."
   ]
  },
  {
   "cell_type": "code",
   "execution_count": 45,
   "id": "386db3e9",
   "metadata": {},
   "outputs": [
    {
     "data": {
      "image/png": "[encoded data removed]",
      "text/plain": [
       "<Figure size 432x288 with 1 Axes>"
      ]
     },
     "metadata": {
      "needs_background": "light"
     },
     "output_type": "display_data"
    }
   ],
   "source": [
    "plt.figure()\n",
    "plt.scatter(trainInputsScaled[:,1], trainInputsScaled[:,0], c= trainTargets[:,0])\n",
    "plt.title(\"Inputs v Targets\")\n",
    "plt.show()"
   ]
  },
  {
   "cell_type": "markdown",
   "id": "6abdbda9",
   "metadata": {},
   "source": [
    "### Reduce the Dimensionality"
   ]
  },
  {
   "cell_type": "code",
   "execution_count": 7,
   "id": "6318af93",
   "metadata": {},
   "outputs": [
    {
     "name": "stdout",
     "output_type": "stream",
     "text": [
      "Number of Dimensions:  (768, 10)\n"
     ]
    }
   ],
   "source": [
    "print(\"Number of Dimensions: \", data.shape)"
   ]
  },
  {
   "cell_type": "markdown",
   "id": "83524b81",
   "metadata": {},
   "source": [
    "### How many dimensions should we reduce it to?\n",
    "\n",
    "We should check to see if there is an optimal number of dimensions for this data that give both good accuracy and reduced compute compared to the full dataset.\n",
    "\n",
    "The plot bellow shows cumulative explained varience for different number of dimensions (ie pricipal components)\n",
    "\n",
    "Cumulative varience is the percentage (in this case expressed as a decimal) of the real varience in the data that can be expressed with a number of dimensions. The larger the number of dimensions, the larger the amount of varience that can be expressed. 95% is a good aim, this is near the top of the slope, but not so close it requires vastly more compute than a smaller value.\n",
    "\n",
    "From this graph we can see that 4 dimension can represent the entire datasets CEV to a near 100% accuracy. So we will use SKLearns PCA module to transform the data to a 4 dimensions. This is to reduce the computational complexity of the problem."
   ]
  },
  {
   "cell_type": "code",
   "execution_count": 47,
   "id": "2a57dd58",
   "metadata": {},
   "outputs": [
    {
     "data": {
      "text/plain": [
       "Text(0, 0.5, 'Cumulative Explained Variance')"
      ]
     },
     "execution_count": 47,
     "metadata": {},
     "output_type": "execute_result"
    },
    {
     "data": {
      "image/png": "[encoded data removed]",
      "text/plain": [
       "<Figure size 432x288 with 1 Axes>"
      ]
     },
     "metadata": {
      "needs_background": "light"
     },
     "output_type": "display_data"
    }
   ],
   "source": [
    "pca=PCA().fit(trainInputsScaled)\n",
    "plt.plot(np.cumsum(pca.explained_variance_ratio_))\n",
    "plt.xlabel('No. of dimensions')\n",
    "plt.ylabel('Cumulative Explained Variance')"
   ]
  },
  {
   "cell_type": "markdown",
   "id": "18fd94bb",
   "metadata": {},
   "source": [
    "### PCA\n",
    "\n",
    "We will now reduce the dimensionality of the data (both testing and training sets)"
   ]
  },
  {
   "cell_type": "code",
   "execution_count": 71,
   "id": "7e19cbc6",
   "metadata": {},
   "outputs": [],
   "source": [
    "pca = PCA(4)  \n",
    "trainInputsPCA = pca.fit_transform(trainInputs)\n",
    "testInputsPCA = pca.fit_transform(testInputs)"
   ]
  },
  {
   "cell_type": "code",
   "execution_count": 72,
   "id": "a8cb85e3",
   "metadata": {},
   "outputs": [
    {
     "data": {
      "text/plain": [
       "(576, 4)"
      ]
     },
     "execution_count": 72,
     "metadata": {},
     "output_type": "execute_result"
    }
   ],
   "source": [
    "trainInputsPCA.shape"
   ]
  },
  {
   "cell_type": "markdown",
   "id": "e212607c",
   "metadata": {},
   "source": [
    "## Random Forest"
   ]
  },
  {
   "cell_type": "code",
   "execution_count": 74,
   "id": "ee646c5e",
   "metadata": {},
   "outputs": [],
   "source": [
    "rf = RandomForestRegressor()\n",
    "rf.fit(trainInputsPCA, trainTargets)\n",
    "\n",
    "outputs = rf.predict(testInputsPCA)"
   ]
  },
  {
   "cell_type": "code",
   "execution_count": 69,
   "id": "67bc1850",
   "metadata": {},
   "outputs": [
    {
     "name": "stdout",
     "output_type": "stream",
     "text": [
      "MSE: 10.068789530208349\n"
     ]
    }
   ],
   "source": [
    "print(\"MSE: \" + str(mean_squared_error(testTargets, outputs)))"
   ]
  },
  {
   "cell_type": "markdown",
   "id": "f899355f",
   "metadata": {},
   "source": [
    "## Neural Network"
   ]
  },
  {
   "cell_type": "code",
   "execution_count": 76,
   "id": "bd6109c1",
   "metadata": {},
   "outputs": [],
   "source": [
    "regressor = MLPRegressor(max_iter=1000)\n",
    "regressor.fit(trainInputsPCA, trainTargets)\n",
    "outputs = regressor.predict(testInputsPCA)"
   ]
  },
  {
   "cell_type": "code",
   "execution_count": 77,
   "id": "dc48aed0",
   "metadata": {},
   "outputs": [
    {
     "data": {
      "image/png": "[encoded data removed]",
      "text/plain": [
       "<Figure size 432x288 with 1 Axes>"
      ]
     },
     "metadata": {
      "needs_background": "light"
     },
     "output_type": "display_data"
    }
   ],
   "source": [
    "plt.plot(regressor.loss_curve_)\n",
    "plt.title(\"Loss Curve\")\n",
    "plt.xlabel('Iterations')\n",
    "plt.ylabel('Loss')\n",
    "plt.show()"
   ]
  },
  {
   "cell_type": "code",
   "execution_count": 79,
   "id": "487428d3",
   "metadata": {},
   "outputs": [
    {
     "name": "stdout",
     "output_type": "stream",
     "text": [
      "MSE: 19.020935451134058\n"
     ]
    }
   ],
   "source": [
    "print(\"MSE: \" + str(mean_squared_error(testTargets, outputs)))"
   ]
  },
  {
   "cell_type": "markdown",
   "id": "4789f8c1",
   "metadata": {},
   "source": [
    "## Support Vector Machine"
   ]
  },
  {
   "cell_type": "code",
   "execution_count": 82,
   "id": "c72b3821",
   "metadata": {},
   "outputs": [
    {
     "ename": "ValueError",
     "evalue": "y should be a 1d array, got an array of shape (576, 2) instead.",
     "output_type": "error",
     "traceback": [
      "\u001b[0;31m---------------------------------------------------------------------------\u001b[0m",
      "\u001b[0;31mValueError\u001b[0m                                Traceback (most recent call last)",
      "Input \u001b[0;32mIn [82]\u001b[0m, in \u001b[0;36m<module>\u001b[0;34m\u001b[0m\n\u001b[1;32m      1\u001b[0m classifier \u001b[38;5;241m=\u001b[39m svm\u001b[38;5;241m.\u001b[39mSVC(gamma\u001b[38;5;241m=\u001b[39m\u001b[38;5;124m\"\u001b[39m\u001b[38;5;124mauto\u001b[39m\u001b[38;5;124m\"\u001b[39m)\n\u001b[0;32m----> 2\u001b[0m \u001b[43mclassifier\u001b[49m\u001b[38;5;241;43m.\u001b[39;49m\u001b[43mfit\u001b[49m\u001b[43m(\u001b[49m\u001b[43mtrainInputsPCA\u001b[49m\u001b[43m,\u001b[49m\u001b[43m \u001b[49m\u001b[43mtrainTargets\u001b[49m\u001b[43m)\u001b[49m\n\u001b[1;32m      3\u001b[0m classifiedData \u001b[38;5;241m=\u001b[39m classifier\u001b[38;5;241m.\u001b[39mpredict(testInputsPCA)\n",
      "File \u001b[0;32m~/.local/lib/python3.8/site-packages/sklearn/svm/_base.py:190\u001b[0m, in \u001b[0;36mBaseLibSVM.fit\u001b[0;34m(self, X, y, sample_weight)\u001b[0m\n\u001b[1;32m    188\u001b[0m     check_consistent_length(X, y)\n\u001b[1;32m    189\u001b[0m \u001b[38;5;28;01melse\u001b[39;00m:\n\u001b[0;32m--> 190\u001b[0m     X, y \u001b[38;5;241m=\u001b[39m \u001b[38;5;28;43mself\u001b[39;49m\u001b[38;5;241;43m.\u001b[39;49m\u001b[43m_validate_data\u001b[49m\u001b[43m(\u001b[49m\n\u001b[1;32m    191\u001b[0m \u001b[43m        \u001b[49m\u001b[43mX\u001b[49m\u001b[43m,\u001b[49m\n\u001b[1;32m    192\u001b[0m \u001b[43m        \u001b[49m\u001b[43my\u001b[49m\u001b[43m,\u001b[49m\n\u001b[1;32m    193\u001b[0m \u001b[43m        \u001b[49m\u001b[43mdtype\u001b[49m\u001b[38;5;241;43m=\u001b[39;49m\u001b[43mnp\u001b[49m\u001b[38;5;241;43m.\u001b[39;49m\u001b[43mfloat64\u001b[49m\u001b[43m,\u001b[49m\n\u001b[1;32m    194\u001b[0m \u001b[43m        \u001b[49m\u001b[43morder\u001b[49m\u001b[38;5;241;43m=\u001b[39;49m\u001b[38;5;124;43m\"\u001b[39;49m\u001b[38;5;124;43mC\u001b[39;49m\u001b[38;5;124;43m\"\u001b[39;49m\u001b[43m,\u001b[49m\n\u001b[1;32m    195\u001b[0m \u001b[43m        \u001b[49m\u001b[43maccept_sparse\u001b[49m\u001b[38;5;241;43m=\u001b[39;49m\u001b[38;5;124;43m\"\u001b[39;49m\u001b[38;5;124;43mcsr\u001b[39;49m\u001b[38;5;124;43m\"\u001b[39;49m\u001b[43m,\u001b[49m\n\u001b[1;32m    196\u001b[0m \u001b[43m        \u001b[49m\u001b[43maccept_large_sparse\u001b[49m\u001b[38;5;241;43m=\u001b[39;49m\u001b[38;5;28;43;01mFalse\u001b[39;49;00m\u001b[43m,\u001b[49m\n\u001b[1;32m    197\u001b[0m \u001b[43m    \u001b[49m\u001b[43m)\u001b[49m\n\u001b[1;32m    199\u001b[0m y \u001b[38;5;241m=\u001b[39m \u001b[38;5;28mself\u001b[39m\u001b[38;5;241m.\u001b[39m_validate_targets(y)\n\u001b[1;32m    201\u001b[0m sample_weight \u001b[38;5;241m=\u001b[39m np\u001b[38;5;241m.\u001b[39masarray(\n\u001b[1;32m    202\u001b[0m     [] \u001b[38;5;28;01mif\u001b[39;00m sample_weight \u001b[38;5;129;01mis\u001b[39;00m \u001b[38;5;28;01mNone\u001b[39;00m \u001b[38;5;28;01melse\u001b[39;00m sample_weight, dtype\u001b[38;5;241m=\u001b[39mnp\u001b[38;5;241m.\u001b[39mfloat64\n\u001b[1;32m    203\u001b[0m )\n",
      "File \u001b[0;32m~/.local/lib/python3.8/site-packages/sklearn/base.py:581\u001b[0m, in \u001b[0;36mBaseEstimator._validate_data\u001b[0;34m(self, X, y, reset, validate_separately, **check_params)\u001b[0m\n\u001b[1;32m    579\u001b[0m         y \u001b[38;5;241m=\u001b[39m check_array(y, \u001b[38;5;241m*\u001b[39m\u001b[38;5;241m*\u001b[39mcheck_y_params)\n\u001b[1;32m    580\u001b[0m     \u001b[38;5;28;01melse\u001b[39;00m:\n\u001b[0;32m--> 581\u001b[0m         X, y \u001b[38;5;241m=\u001b[39m \u001b[43mcheck_X_y\u001b[49m\u001b[43m(\u001b[49m\u001b[43mX\u001b[49m\u001b[43m,\u001b[49m\u001b[43m \u001b[49m\u001b[43my\u001b[49m\u001b[43m,\u001b[49m\u001b[43m \u001b[49m\u001b[38;5;241;43m*\u001b[39;49m\u001b[38;5;241;43m*\u001b[39;49m\u001b[43mcheck_params\u001b[49m\u001b[43m)\u001b[49m\n\u001b[1;32m    582\u001b[0m     out \u001b[38;5;241m=\u001b[39m X, y\n\u001b[1;32m    584\u001b[0m \u001b[38;5;28;01mif\u001b[39;00m \u001b[38;5;129;01mnot\u001b[39;00m no_val_X \u001b[38;5;129;01mand\u001b[39;00m check_params\u001b[38;5;241m.\u001b[39mget(\u001b[38;5;124m\"\u001b[39m\u001b[38;5;124mensure_2d\u001b[39m\u001b[38;5;124m\"\u001b[39m, \u001b[38;5;28;01mTrue\u001b[39;00m):\n",
      "File \u001b[0;32m~/.local/lib/python3.8/site-packages/sklearn/utils/validation.py:979\u001b[0m, in \u001b[0;36mcheck_X_y\u001b[0;34m(X, y, accept_sparse, accept_large_sparse, dtype, order, copy, force_all_finite, ensure_2d, allow_nd, multi_output, ensure_min_samples, ensure_min_features, y_numeric, estimator)\u001b[0m\n\u001b[1;32m    962\u001b[0m     \u001b[38;5;28;01mraise\u001b[39;00m \u001b[38;5;167;01mValueError\u001b[39;00m(\u001b[38;5;124m\"\u001b[39m\u001b[38;5;124my cannot be None\u001b[39m\u001b[38;5;124m\"\u001b[39m)\n\u001b[1;32m    964\u001b[0m X \u001b[38;5;241m=\u001b[39m check_array(\n\u001b[1;32m    965\u001b[0m     X,\n\u001b[1;32m    966\u001b[0m     accept_sparse\u001b[38;5;241m=\u001b[39maccept_sparse,\n\u001b[0;32m   (...)\u001b[0m\n\u001b[1;32m    976\u001b[0m     estimator\u001b[38;5;241m=\u001b[39mestimator,\n\u001b[1;32m    977\u001b[0m )\n\u001b[0;32m--> 979\u001b[0m y \u001b[38;5;241m=\u001b[39m \u001b[43m_check_y\u001b[49m\u001b[43m(\u001b[49m\u001b[43my\u001b[49m\u001b[43m,\u001b[49m\u001b[43m \u001b[49m\u001b[43mmulti_output\u001b[49m\u001b[38;5;241;43m=\u001b[39;49m\u001b[43mmulti_output\u001b[49m\u001b[43m,\u001b[49m\u001b[43m \u001b[49m\u001b[43my_numeric\u001b[49m\u001b[38;5;241;43m=\u001b[39;49m\u001b[43my_numeric\u001b[49m\u001b[43m)\u001b[49m\n\u001b[1;32m    981\u001b[0m check_consistent_length(X, y)\n\u001b[1;32m    983\u001b[0m \u001b[38;5;28;01mreturn\u001b[39;00m X, y\n",
      "File \u001b[0;32m~/.local/lib/python3.8/site-packages/sklearn/utils/validation.py:993\u001b[0m, in \u001b[0;36m_check_y\u001b[0;34m(y, multi_output, y_numeric)\u001b[0m\n\u001b[1;32m    989\u001b[0m     y \u001b[38;5;241m=\u001b[39m check_array(\n\u001b[1;32m    990\u001b[0m         y, accept_sparse\u001b[38;5;241m=\u001b[39m\u001b[38;5;124m\"\u001b[39m\u001b[38;5;124mcsr\u001b[39m\u001b[38;5;124m\"\u001b[39m, force_all_finite\u001b[38;5;241m=\u001b[39m\u001b[38;5;28;01mTrue\u001b[39;00m, ensure_2d\u001b[38;5;241m=\u001b[39m\u001b[38;5;28;01mFalse\u001b[39;00m, dtype\u001b[38;5;241m=\u001b[39m\u001b[38;5;28;01mNone\u001b[39;00m\n\u001b[1;32m    991\u001b[0m     )\n\u001b[1;32m    992\u001b[0m \u001b[38;5;28;01melse\u001b[39;00m:\n\u001b[0;32m--> 993\u001b[0m     y \u001b[38;5;241m=\u001b[39m \u001b[43mcolumn_or_1d\u001b[49m\u001b[43m(\u001b[49m\u001b[43my\u001b[49m\u001b[43m,\u001b[49m\u001b[43m \u001b[49m\u001b[43mwarn\u001b[49m\u001b[38;5;241;43m=\u001b[39;49m\u001b[38;5;28;43;01mTrue\u001b[39;49;00m\u001b[43m)\u001b[49m\n\u001b[1;32m    994\u001b[0m     _assert_all_finite(y)\n\u001b[1;32m    995\u001b[0m     _ensure_no_complex_data(y)\n",
      "File \u001b[0;32m~/.local/lib/python3.8/site-packages/sklearn/utils/validation.py:1038\u001b[0m, in \u001b[0;36mcolumn_or_1d\u001b[0;34m(y, warn)\u001b[0m\n\u001b[1;32m   1029\u001b[0m         warnings\u001b[38;5;241m.\u001b[39mwarn(\n\u001b[1;32m   1030\u001b[0m             \u001b[38;5;124m\"\u001b[39m\u001b[38;5;124mA column-vector y was passed when a 1d array was\u001b[39m\u001b[38;5;124m\"\u001b[39m\n\u001b[1;32m   1031\u001b[0m             \u001b[38;5;124m\"\u001b[39m\u001b[38;5;124m expected. Please change the shape of y to \u001b[39m\u001b[38;5;124m\"\u001b[39m\n\u001b[0;32m   (...)\u001b[0m\n\u001b[1;32m   1034\u001b[0m             stacklevel\u001b[38;5;241m=\u001b[39m\u001b[38;5;241m2\u001b[39m,\n\u001b[1;32m   1035\u001b[0m         )\n\u001b[1;32m   1036\u001b[0m     \u001b[38;5;28;01mreturn\u001b[39;00m np\u001b[38;5;241m.\u001b[39mravel(y)\n\u001b[0;32m-> 1038\u001b[0m \u001b[38;5;28;01mraise\u001b[39;00m \u001b[38;5;167;01mValueError\u001b[39;00m(\n\u001b[1;32m   1039\u001b[0m     \u001b[38;5;124m\"\u001b[39m\u001b[38;5;124my should be a 1d array, got an array of shape \u001b[39m\u001b[38;5;132;01m{}\u001b[39;00m\u001b[38;5;124m instead.\u001b[39m\u001b[38;5;124m\"\u001b[39m\u001b[38;5;241m.\u001b[39mformat(shape)\n\u001b[1;32m   1040\u001b[0m )\n",
      "\u001b[0;31mValueError\u001b[0m: y should be a 1d array, got an array of shape (576, 2) instead."
     ]
    }
   ],
   "source": [
    "classifier = svm.SVC(gamma=\"auto\")\n",
    "classifier.fit(trainInputsPCA, trainTargets)\n",
    "classifiedData = classifier.predict(testInputsPCA)"
   ]
  },
  {
   "cell_type": "code",
   "execution_count": null,
   "id": "d826c2bf",
   "metadata": {},
   "outputs": [],
   "source": []
  }
 ],
 "metadata": {
  "kernelspec": {
   "display_name": "Python 3 (ipykernel)",
   "language": "python",
   "name": "python3"
  },
  "language_info": {
   "codemirror_mode": {
    "name": "ipython",
    "version": 3
   },
   "file_extension": ".py",
   "mimetype": "text/x-python",
   "name": "python",
   "nbconvert_exporter": "python",
   "pygments_lexer": "ipython3",
   "version": "3.8.10"
  }
 },
 "nbformat": 4,
 "nbformat_minor": 5
}
